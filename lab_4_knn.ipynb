{
 "cells": [
  {
   "cell_type": "markdown",
   "metadata": {
    "id": "DVL7_bgmIAPR"
   },
   "source": [
    "# K-Nearest Neighbor Lab\n",
    "\n",
    "\n",
    "\n"
   ]
  },
  {
   "cell_type": "code",
   "execution_count": 29,
   "metadata": {
    "id": "6ZbYjZZZ_yLV"
   },
   "outputs": [],
   "source": [
    "from sklearn.base import BaseEstimator, ClassifierMixin\n",
    "from sklearn.neighbors import KNeighborsClassifier, KNeighborsRegressor\n",
    "import numpy as np\n",
    "import pandas as pd\n",
    "import matplotlib.pyplot as plt\n",
    "\n",
    "from scipy.io import arff\n",
    "from IPython.core.display import display\n",
    "\n",
    "import math\n",
    "import copy\n",
    "\n",
    "from sklearn.preprocessing import LabelEncoder\n",
    "import pdb\n",
    "\n",
    "import warnings; warnings.simplefilter('ignore')"
   ]
  },
  {
   "cell_type": "markdown",
   "metadata": {
    "id": "sCcEPx5VIORj"
   },
   "source": [
    "## 1. (40%) Correctly implement the k-nearest neighbor (KNN) algorithm and the KNN regression algorithm\n",
    "\n",
    "### Code requirements\n",
    "- Use Euclidean distance to decide closest neighbors. \n",
    "- Include optional distance weighting for both algorithms\n"
   ]
  },
  {
   "cell_type": "code",
   "execution_count": 74,
   "metadata": {
    "id": "_a2KSZ_7AN0G"
   },
   "outputs": [],
   "source": [
    "class KNNClassifier(BaseEstimator,ClassifierMixin):\n",
    "    def __init__(self, columntype=[], weight_type='inverse_distance', knn=3): ## add parameters here\n",
    "        \"\"\"\n",
    "        Args:\n",
    "            columntype for each column tells you if continues[real] or if nominal[categoritcal].\n",
    "            weight_type: inverse_distance voting or if non distance weighting. Options = [\"no_weight\",\"inverse_distance\"]\n",
    "        \"\"\"\n",
    "        self.columntype = columntype #Note This won't be needed until part 5\n",
    "        self.weight_type = weight_type\n",
    "        self.knn = knn\n",
    "\n",
    "    def fit(self, X, y, labels=None):\n",
    "        \"\"\" Fit the data; run the algorithm (for this lab really just saves the data :D)\n",
    "        Args:\n",
    "            X (array-like): A 2D numpy array with the training data, excluding targets\n",
    "            y (array-like): A 2D numpy array with the training targets\n",
    "        Returns:\n",
    "            self: this allows this to be chained, e.g. model.fit(X,y).predict(X_test)\n",
    "        \"\"\"\n",
    "        self.X, self.y = X, y\n",
    "        return self\n",
    "    \n",
    "    def predict(self, X):\n",
    "        \"\"\" Predict all classes for a dataset X\n",
    "        Args:\n",
    "            X (array-like): A 2D numpy array with the training data, excluding targets\n",
    "        Returns:\n",
    "            array, shape (n_samples,)\n",
    "                Predicted target values per element in X.\n",
    "        \"\"\"\n",
    "\n",
    "        predictions = np.zeros(X.shape[0])\n",
    "\n",
    "        for i in range(X.shape[0]):\n",
    "            instance = X[i, :]\n",
    "            distances = (self.X - instance)**2\n",
    "\n",
    "            if np.any(self.columntype):\n",
    "                mask = (self.X == instance)\n",
    "                nominal_columns = np.where(self.columntype == 1)\n",
    "                distances[nominal_columns] = mask[nominal_columns]\n",
    "\n",
    "            distances = np.sqrt(distances.sum(axis=1))\n",
    "            predicted_class = self._predicted_class(self.y, distances)\n",
    "            predictions[i] = predicted_class\n",
    "\n",
    "        return predictions\n",
    "\n",
    "    def _predicted_class(self, classes, distances):\n",
    "\n",
    "        data = np.append(classes.reshape(-1, 1), distances.reshape(-1, 1), axis=1)\n",
    "        data = data[data[:, 1].argsort()][:self.knn, :]\n",
    "\n",
    "        if self.weight_type == 'inverse_distance':\n",
    "            data[:, 1] = np.where(data[:, 1] != 0, 1/(data[:, 1]**2), np.inf)\n",
    "        else:\n",
    "            data[:, 1] = 1\n",
    "\n",
    "        return np.bincount(data[:, 0].reshape(-1).astype(int), weights=data[:, 1].reshape(-1)).argmax()\n",
    "\n",
    "    #Returns the Mean score given input data and labels\n",
    "    def score(self, X, y):\n",
    "        \"\"\" Return accuracy of model on a given dataset. Must implement own score function.\n",
    "        Args:\n",
    "            X (array-like): A 2D numpy array with data, excluding targets\n",
    "            y (array-like): A 2D numpy array with targets\n",
    "        Returns:\n",
    "            score : float\n",
    "                Mean accuracy of self.predict(X) wrt. y.\n",
    "        \"\"\"\n",
    "        predictions = self.predict(X)\n",
    "        return (predictions == y.reshape(-1)).mean()\n"
   ]
  },
  {
   "cell_type": "code",
   "execution_count": 73,
   "metadata": {},
   "outputs": [],
   "source": [
    "class KNNRegressor(BaseEstimator,ClassifierMixin):\n",
    "    def __init__(self, columntype=[], weight_type='inverse_distance', knn=3): ## add parameters here\n",
    "        \"\"\"\n",
    "        Args:\n",
    "            columntype for each column tells you if continues[real] or if nominal[categoritcal].\n",
    "            weight_type: inverse_distance voting or if non distance weighting. Options = [\"no_weight\",\"inverse_distance\"]\n",
    "        \"\"\"\n",
    "        self.columntype = columntype #Note This won't be needed until part 5\n",
    "        self.weight_type = weight_type\n",
    "        self.knn = knn\n",
    "\n",
    "    def fit(self, X, y, labels=None):\n",
    "        \"\"\" Fit the data; run the algorithm (for this lab really just saves the data :D)\n",
    "        Args:\n",
    "            X (array-like): A 2D numpy array with the training data, excluding targets\n",
    "            y (array-like): A 2D numpy array with the training targets\n",
    "        Returns:\n",
    "            self: this allows this to be chained, e.g. model.fit(X,y).predict(X_test)\n",
    "        \"\"\"\n",
    "        self.X, self.y = X, y\n",
    "        return self\n",
    "    \n",
    "    def predict(self, X):\n",
    "        \"\"\" Predict all classes for a dataset X\n",
    "        Args:\n",
    "            X (array-like): A 2D numpy array with the training data, excluding targets\n",
    "        Returns:\n",
    "            array, shape (n_samples,)\n",
    "                Predicted target values per element in X.\n",
    "        \"\"\"\n",
    "\n",
    "        predictions = np.zeros(X.shape[0])\n",
    "\n",
    "        for i in range(X.shape[0]):\n",
    "            instance = X[i, :]\n",
    "            distances = (self.X - instance)**2\n",
    "\n",
    "            if np.any(self.columntype):\n",
    "                mask = (self.X == instance)\n",
    "                nominal_columns = np.where(self.columntype == 1)\n",
    "                distances[nominal_columns] = mask[nominal_columns]\n",
    "\n",
    "            distances = np.sqrt(distances.sum(axis=1))\n",
    "            predicted_value = self._predicted_value(self.y, distances)\n",
    "            predictions[i] = predicted_value\n",
    "\n",
    "        return predictions\n",
    "\n",
    "    def _predicted_value(self, classes, distances):\n",
    "\n",
    "        data = np.append(classes.reshape(-1, 1), distances.reshape(-1, 1), axis=1)\n",
    "        data = data[data[:, 1].argsort()][:self.knn, :]\n",
    "\n",
    "        if self.weight_type == 'inverse_distance':\n",
    "            data[:, 1] = np.where(data[:, 1] != 0, 1/(data[:, 1]**2), np.inf)\n",
    "        else:\n",
    "            data[:, 1] = 1\n",
    "\n",
    "        return np.sum(data[:, 1] * data[:, 0]) / data[:, 1].sum()\n",
    "\n",
    "    #Returns the Mean score given input data and labels\n",
    "    def score(self, X, y):\n",
    "        \"\"\" Return accuracy of model on a given dataset. Must implement own score function.\n",
    "        Args:\n",
    "            X (array-like): A 2D numpy array with data, excluding targets\n",
    "            y (array-like): A 2D numpy array with targets\n",
    "        Returns:\n",
    "            score : float\n",
    "                Mean accuracy of self.predict(X) wrt. y.\n",
    "        \"\"\"\n",
    "        predictions = self.predict(X)\n",
    "        return ((predictions - y.reshape(-1))**2).mean()"
   ]
  },
  {
   "cell_type": "code",
   "execution_count": 75,
   "metadata": {},
   "outputs": [],
   "source": [
    "def load_data(filename):\n",
    "    data = arff.loadarff(filename)\n",
    "    df = pd.DataFrame(data[0])\n",
    "\n",
    "    for i in range(len(df.dtypes)):\n",
    "        if df.dtypes.astype(str).iloc[i] == 'object':\n",
    "            column = df.columns[i]\n",
    "            df[column] = df[column] \\\n",
    "                            .astype(str).str \\\n",
    "                            .split(\"\\'\", expand=True) \\\n",
    "                            .iloc[:,1]\n",
    "    return df\n",
    "\n",
    "def encode_X(X1, X2):\n",
    "    columns = X1.columns\n",
    "\n",
    "    for column in columns:\n",
    "        if X1[column].dtype == 'object':\n",
    "            le = LabelEncoder()\n",
    "            le.fit(X1[column])\n",
    "            X1[column] = le.transform(X1[column])\n",
    "            X2[column] = le.transform(X2[column])\n",
    "   \n",
    "    return X1, X2\n",
    "\n",
    "def encode_y(y1, y2):\n",
    "    name = y1.name\n",
    "    le = LabelEncoder()\n",
    "    le.fit(y1)\n",
    "    y1 = le.transform(y1)\n",
    "    y2 = le.transform(y2)\n",
    "    return pd.DataFrame(y1, columns=[name]), pd.DataFrame(y2, columns=[name])\n",
    "\n",
    "def get_column_types(df):\n",
    "    c_types = df.dtypes.astype(str)\n",
    "    c_types = c_types.map({'float64': 0, 'object': 1})\n",
    "    return c_types.to_numpy().reshape(-1)[:-1]\n",
    "\n",
    "def normalize(X1, X2):\n",
    "    len_X1 = X1.shape[0]\n",
    "    X = np.append(X1, X2, axis=0)\n",
    "    feature_mins = X.min(axis=0)\n",
    "    feature_maxs = X.max(axis=0)\n",
    "\n",
    "    X = (X-feature_mins) / (feature_maxs - feature_mins)\n",
    "    \n",
    "    return X[:len_X1, :], X[len_X1:, :]"
   ]
  },
  {
   "cell_type": "markdown",
   "metadata": {},
   "source": [
    "## 1.1 Debug and Evaluation\n",
    "\n",
    "Debug and Evaluate your model using the parameters below:\n",
    "\n",
    "- Use distance weighting\n",
    "- KNN = 3 (three nearest neighbors)\n",
    "- Don’t normalize the data\n",
    "- Use Euclidean Distance\n",
    "\n",
    "---\n",
    "\n",
    "### 1.1.1 Debug\n",
    "\n",
    "- Use this [training set](https://raw.githubusercontent.com/cs472ta/CS472/master/datasets/glass_train.arff) and this [test set](https://raw.githubusercontent.com/cs472ta/CS472/master/datasets/glass_test.arff)\n",
    "- Use distance weighting\n",
    "- KNN = 3 (three nearest neighbors)\n",
    "- Don’t normalize the data\n",
    "- Use Euclidean Distance\n",
    "\n",
    "Expected Results:\n",
    "- Not using inverse weighted distancing = roughly [68.29%]\n",
    "- Link to [debug solution](https://github.com/cs472ta/CS472/blob/master/debug_solutions/glass_no_inv_prediction.csv)\n",
    "\n",
    "- Using inverse weighted distancing = roughly [74.39%]\n",
    "- Link to [debug solution](https://github.com/cs472ta/CS472/blob/master/debug_solutions/glass_inv_prediction.csv)\n"
   ]
  },
  {
   "cell_type": "code",
   "execution_count": 76,
   "metadata": {},
   "outputs": [
    {
     "name": "stdout",
     "output_type": "stream",
     "text": [
      "Score with inverted distance weighting: 0.7439\n",
      "Score with no inverted distance weighting: 0.6829\n"
     ]
    }
   ],
   "source": [
    "# Load glass data\n",
    "glass_trainDF = load_data('datasets/glass_train.arff')\n",
    "glass_testDF = load_data('datasets/glass_test.arff')\n",
    "\n",
    "# Get column types\n",
    "column_types = get_column_types(glass_trainDF)\n",
    "\n",
    "glass_X_trainDF, glass_y_trainDF = glass_trainDF.iloc[:, :-1], glass_trainDF.iloc[:, -1]\n",
    "glass_X_testDF, glass_y_testDF = glass_testDF.iloc[:, :-1], glass_testDF.iloc[:, -1]\n",
    "\n",
    "glass_X_train, glass_X_test = encode_X(glass_X_trainDF, glass_X_testDF)\n",
    "glass_y_train, glass_y_test = encode_y(glass_y_trainDF, glass_y_testDF)\n",
    "\n",
    "X_train = glass_X_train.to_numpy()\n",
    "X_test = glass_X_test.to_numpy()\n",
    "y_train = glass_y_train.to_numpy()\n",
    "y_test = glass_y_test.to_numpy()\n",
    "\n",
    "# Train on training set\n",
    "glass_knn_d_weighting = KNNClassifier(columntype=column_types)\n",
    "glass_knn_nd_weighting = KNNClassifier(columntype=column_types, weight_type=None)\n",
    "glass_knn_d_weighting.fit(X_train, y_train)\n",
    "glass_knn_nd_weighting.fit(X_train, y_train)\n",
    "\n",
    "# Predict on test set\n",
    "glass_score_d_weighting = glass_knn_d_weighting.score(X_test, y_test)\n",
    "glass_score_nd_weighting = glass_knn_nd_weighting.score(X_test, y_test)\n",
    "print(\"Score with inverted distance weighting: %.4f\" % glass_score_d_weighting)\n",
    "print(\"Score with no inverted distance weighting: %.4f\" % glass_score_nd_weighting)"
   ]
  },
  {
   "cell_type": "markdown",
   "metadata": {},
   "source": [
    "### 1.1.2 Evaluate\n",
    "\n",
    "We will evaluate your model based on its performance on the [diabetes](https://archive.ics.uci.edu/ml/datasets/Diabetes) problem.\n",
    "- Use this [training set](https://raw.githubusercontent.com/cs472ta/CS472/master/datasets/diabetes_train.arff) and this [test set](https://raw.githubusercontent.com/cs472ta/CS472/master/datasets/diabetes_test.arff)"
   ]
  },
  {
   "cell_type": "code",
   "execution_count": 77,
   "metadata": {},
   "outputs": [
    {
     "name": "stdout",
     "output_type": "stream",
     "text": [
      "Evaluation dataset KNN accuracy: 0.891\n"
     ]
    }
   ],
   "source": [
    "# Load diabetes data\n",
    "diabetes_trainDF = load_data('datasets/diabetes_train.arff')\n",
    "diabetes_testDF = load_data('datasets/diabetes_test.arff')\n",
    "\n",
    "# Get column types\n",
    "column_types = get_column_types(diabetes_trainDF)[:-1]\n",
    "\n",
    "diabetes_X_trainDF, diabetes_y_trainDF = diabetes_trainDF.iloc[:, :-1], diabetes_trainDF.iloc[:, -1]\n",
    "diabetes_X_testDF, diabetes_y_testDF = diabetes_testDF.iloc[:, :-1], diabetes_testDF.iloc[:, -1]\n",
    "\n",
    "diabetes_X_train, diabetes_X_test = encode_X(diabetes_X_trainDF, diabetes_X_testDF)\n",
    "diabetes_y_train, diabetes_y_test = encode_y(diabetes_y_trainDF, diabetes_y_testDF)\n",
    "\n",
    "# Train on training set\n",
    "X_train = diabetes_X_train.to_numpy()\n",
    "X_test = diabetes_X_test.to_numpy()\n",
    "y_train = diabetes_y_train.to_numpy()\n",
    "y_test = diabetes_y_test.to_numpy()\n",
    "\n",
    "diabetes_knn = KNNClassifier(columntype=column_types)\n",
    "diabetes_knn.fit(X_train, y_train)\n",
    "\n",
    "# Predict on test set\n",
    "score = diabetes_knn.score(X_test, y_test)\n",
    "print(\"Evaluation dataset KNN accuracy: %.3f\" % score)\n"
   ]
  },
  {
   "cell_type": "markdown",
   "metadata": {
    "id": "9vWiTdlbR2Xh"
   },
   "source": [
    "## 2. (10%) Use the k-nearest neighbor algorithm (without distance weighting) for the [magic telescope](http://archive.ics.uci.edu/ml/datasets/MAGIC+Gamma+Telescope) problem\n",
    "\n",
    "- Use this [training set](https://raw.githubusercontent.com/cs472ta/CS472/master/datasets/magic_telescope_train.arff) and this [test set](https://raw.githubusercontent.com/cs472ta/CS472/master/datasets/magic_telescope_test.arff) \n",
    "\n",
    "### 2.1\n",
    "- Try it with k=3 and without normalization\n"
   ]
  },
  {
   "cell_type": "code",
   "execution_count": 62,
   "metadata": {},
   "outputs": [
    {
     "data": {
      "text/html": [
       "<div>\n",
       "<style scoped>\n",
       "    .dataframe tbody tr th:only-of-type {\n",
       "        vertical-align: middle;\n",
       "    }\n",
       "\n",
       "    .dataframe tbody tr th {\n",
       "        vertical-align: top;\n",
       "    }\n",
       "\n",
       "    .dataframe thead th {\n",
       "        text-align: right;\n",
       "    }\n",
       "</style>\n",
       "<table border=\"1\" class=\"dataframe\">\n",
       "  <thead>\n",
       "    <tr style=\"text-align: right;\">\n",
       "      <th></th>\n",
       "      <th>fLength</th>\n",
       "      <th>fWidth</th>\n",
       "      <th>fSize</th>\n",
       "      <th>fConc</th>\n",
       "      <th>fConc1</th>\n",
       "      <th>fAsym</th>\n",
       "      <th>fM3Long</th>\n",
       "      <th>fM3Trans</th>\n",
       "      <th>fAlpha</th>\n",
       "      <th>fDist</th>\n",
       "      <th>class</th>\n",
       "    </tr>\n",
       "  </thead>\n",
       "  <tbody>\n",
       "    <tr>\n",
       "      <th>0</th>\n",
       "      <td>22.7815</td>\n",
       "      <td>14.9526</td>\n",
       "      <td>2.4362</td>\n",
       "      <td>0.4982</td>\n",
       "      <td>0.2509</td>\n",
       "      <td>-14.2836</td>\n",
       "      <td>-9.3635</td>\n",
       "      <td>13.0939</td>\n",
       "      <td>3.0779</td>\n",
       "      <td>141.562</td>\n",
       "      <td>g</td>\n",
       "    </tr>\n",
       "    <tr>\n",
       "      <th>1</th>\n",
       "      <td>40.6756</td>\n",
       "      <td>15.5940</td>\n",
       "      <td>2.7447</td>\n",
       "      <td>0.2772</td>\n",
       "      <td>0.1449</td>\n",
       "      <td>19.6226</td>\n",
       "      <td>9.0297</td>\n",
       "      <td>7.4157</td>\n",
       "      <td>15.4260</td>\n",
       "      <td>193.234</td>\n",
       "      <td>g</td>\n",
       "    </tr>\n",
       "  </tbody>\n",
       "</table>\n",
       "</div>"
      ],
      "text/plain": [
       "   fLength   fWidth   fSize   fConc  fConc1    fAsym  fM3Long  fM3Trans  \\\n",
       "0  22.7815  14.9526  2.4362  0.4982  0.2509 -14.2836  -9.3635   13.0939   \n",
       "1  40.6756  15.5940  2.7447  0.2772  0.1449  19.6226   9.0297    7.4157   \n",
       "\n",
       "    fAlpha    fDist class  \n",
       "0   3.0779  141.562     g  \n",
       "1  15.4260  193.234     g  "
      ]
     },
     "metadata": {},
     "output_type": "display_data"
    },
    {
     "name": "stdout",
     "output_type": "stream",
     "text": [
      "(12354, 11)\n"
     ]
    },
    {
     "data": {
      "text/html": [
       "<div>\n",
       "<style scoped>\n",
       "    .dataframe tbody tr th:only-of-type {\n",
       "        vertical-align: middle;\n",
       "    }\n",
       "\n",
       "    .dataframe tbody tr th {\n",
       "        vertical-align: top;\n",
       "    }\n",
       "\n",
       "    .dataframe thead th {\n",
       "        text-align: right;\n",
       "    }\n",
       "</style>\n",
       "<table border=\"1\" class=\"dataframe\">\n",
       "  <thead>\n",
       "    <tr style=\"text-align: right;\">\n",
       "      <th></th>\n",
       "      <th>fLength</th>\n",
       "      <th>fWidth</th>\n",
       "      <th>fSize</th>\n",
       "      <th>fConc</th>\n",
       "      <th>fConc1</th>\n",
       "      <th>fAsym</th>\n",
       "      <th>fM3Long</th>\n",
       "      <th>fM3Trans</th>\n",
       "      <th>fAlpha</th>\n",
       "      <th>fDist</th>\n",
       "      <th>class</th>\n",
       "    </tr>\n",
       "  </thead>\n",
       "  <tbody>\n",
       "    <tr>\n",
       "      <th>0</th>\n",
       "      <td>30.5540</td>\n",
       "      <td>21.1807</td>\n",
       "      <td>2.7509</td>\n",
       "      <td>0.2715</td>\n",
       "      <td>0.1500</td>\n",
       "      <td>2.1798</td>\n",
       "      <td>-20.8938</td>\n",
       "      <td>-15.2262</td>\n",
       "      <td>2.2982</td>\n",
       "      <td>197.390</td>\n",
       "      <td>g</td>\n",
       "    </tr>\n",
       "    <tr>\n",
       "      <th>1</th>\n",
       "      <td>59.2444</td>\n",
       "      <td>10.4634</td>\n",
       "      <td>2.8051</td>\n",
       "      <td>0.4019</td>\n",
       "      <td>0.1971</td>\n",
       "      <td>49.4360</td>\n",
       "      <td>25.1317</td>\n",
       "      <td>7.0386</td>\n",
       "      <td>71.0828</td>\n",
       "      <td>48.129</td>\n",
       "      <td>h</td>\n",
       "    </tr>\n",
       "  </tbody>\n",
       "</table>\n",
       "</div>"
      ],
      "text/plain": [
       "   fLength   fWidth   fSize   fConc  fConc1    fAsym  fM3Long  fM3Trans  \\\n",
       "0  30.5540  21.1807  2.7509  0.2715  0.1500   2.1798 -20.8938  -15.2262   \n",
       "1  59.2444  10.4634  2.8051  0.4019  0.1971  49.4360  25.1317    7.0386   \n",
       "\n",
       "    fAlpha    fDist class  \n",
       "0   2.2982  197.390     g  \n",
       "1  71.0828   48.129     h  "
      ]
     },
     "metadata": {},
     "output_type": "display_data"
    },
    {
     "name": "stdout",
     "output_type": "stream",
     "text": [
      "(6666, 11)\n"
     ]
    }
   ],
   "source": [
    "# Load diabetes data\n",
    "magic_telescope_trainDF = load_data('datasets/magic_telescope_train.arff')\n",
    "magic_telescope_testDF = load_data('datasets/magic_telescope_test.arff')\n",
    "\n",
    "display(magic_telescope_trainDF.head(2))\n",
    "print(magic_telescope_trainDF.shape)\n",
    "display(magic_telescope_testDF.head(2))\n",
    "print(magic_telescope_testDF.shape)\n",
    "\n",
    "# Get column types\n",
    "magic_telescope_column_types = get_column_types(magic_telescope_trainDF)[:-1]\n",
    "\n",
    "# X and y splits\n",
    "magic_telescope_X_trainDF, magic_telescope_y_trainDF = magic_telescope_trainDF.iloc[:, :-1], magic_telescope_trainDF.iloc[:, -1]\n",
    "magic_telescope_X_testDF, magic_telescope_y_testDF = magic_telescope_testDF.iloc[:, :-1], magic_telescope_testDF.iloc[:, -1]\n",
    "\n",
    "magic_telescope_X_train, magic_telescope_X_test = encode_X(magic_telescope_X_trainDF, magic_telescope_X_testDF)\n",
    "magic_telescope_y_train, magic_telescope_y_test = encode_y(magic_telescope_y_trainDF, magic_telescope_y_testDF)\n",
    "\n",
    "# To numpy arrays\n",
    "X_telescope_train = magic_telescope_X_train.to_numpy()\n",
    "X_telescope_test = magic_telescope_X_test.to_numpy()\n",
    "y_telescope_train = magic_telescope_y_train.to_numpy()\n",
    "y_telescope_test = magic_telescope_y_test.to_numpy()\n",
    "\n",
    "# Normalize input features\n",
    "X_telescope_train_norm, X_telescope_test_norm = normalize(X_telescope_train, X_telescope_test)"
   ]
  },
  {
   "cell_type": "code",
   "execution_count": 92,
   "metadata": {
    "id": "4SSoasDQSKXb"
   },
   "outputs": [
    {
     "name": "stdout",
     "output_type": "stream",
     "text": [
      "Magic telescope dataset KNN accuracy: 0.808\n"
     ]
    }
   ],
   "source": [
    "magic_telescope_knn = KNNClassifier(columntype=magic_telescope_column_types, weight_type=None)\n",
    "magic_telescope_knn.fit(X_telescope_train, y_telescope_train)\n",
    "\n",
    "# Predict on test set\n",
    "score = magic_telescope_knn.score(X_telescope_test, y_telescope_test)\n",
    "print(\"Magic telescope dataset KNN accuracy: %.3f\" % score)"
   ]
  },
  {
   "cell_type": "markdown",
   "metadata": {},
   "source": [
    "### 2.2\n",
    "- Try it with k=3 and with normalization (input features normalized between 0 and 1). Use the normalization formula (x-xmin)/(xmax-xmin)"
   ]
  },
  {
   "cell_type": "code",
   "execution_count": 93,
   "metadata": {},
   "outputs": [
    {
     "name": "stdout",
     "output_type": "stream",
     "text": [
      "Magic telescope dataset KNN accuracy: 0.830\n"
     ]
    }
   ],
   "source": [
    "# Train/Predict with normalization\n",
    "magic_telescope_knn.fit(X_telescope_train_norm, y_telescope_train)\n",
    "\n",
    "# Predict on test set\n",
    "score = magic_telescope_knn.score(X_telescope_test_norm, y_telescope_test)\n",
    "print(\"Magic telescope dataset KNN accuracy: %.3f\" % score)"
   ]
  },
  {
   "cell_type": "markdown",
   "metadata": {},
   "source": [
    "*Discuss the accuracy results of using normalized data vs. unnormalized data*"
   ]
  },
  {
   "cell_type": "markdown",
   "metadata": {},
   "source": [
    "The unnormalized accuracy for the magic telescope dataset was 80.8% while the normalized accuracy on the data was 83%. This 2.2% jump in accuracy seems very significant considering there are 12354 training examples and 6666 testing examples. Normalizing may not always provide better results but in this case it does."
   ]
  },
  {
   "cell_type": "markdown",
   "metadata": {},
   "source": [
    "### 2.3\n",
    "\n",
    "- Using your normalized data, create one graph with classification accuracy on the test set over k values. \n",
    "    - Use odd values of k from 1 to 15.\n",
    "- As a rough sanity check, typical knn accuracies for the magic telescope data set are 75-85%"
   ]
  },
  {
   "cell_type": "code",
   "execution_count": 107,
   "metadata": {
    "pycharm": {
     "is_executing": true
    }
   },
   "outputs": [
    {
     "name": "stdout",
     "output_type": "stream",
     "text": [
      "Magic Telescore KNN 1\n",
      "Magic Telescore KNN 3\n",
      "Magic Telescore KNN 5\n",
      "Magic Telescore KNN 7\n",
      "Magic Telescore KNN 9\n",
      "Magic Telescore KNN 11\n",
      "Magic Telescore KNN 13\n",
      "Magic Telescore KNN 15\n"
     ]
    }
   ],
   "source": [
    "# Train/Predict with normalization using k=1,3,...,15\n",
    "magic_nw_knns = np.arange(1, 16, 2)\n",
    "magic_nw_accuracies = []\n",
    "for knn in magic_nw_knns:\n",
    "    print(\"Magic Telescore KNN %d\" % knn)\n",
    "    knnc = KNNClassifier(columntype=magic_telescope_column_types, knn=knn, weight_type=None)\n",
    "    magic_nw_accuracies.append(knnc.fit(X_telescope_train_norm, y_telescope_train) \\\n",
    "        .score(X_telescope_test_norm, y_telescope_test))"
   ]
  },
  {
   "cell_type": "code",
   "execution_count": 108,
   "metadata": {
    "pycharm": {
     "is_executing": true
    }
   },
   "outputs": [
    {
     "data": {
      "text/plain": [
       "Text(0.5, 1.0, 'Magic Telescope Accuracy vs K-Nearest Neighbors')"
      ]
     },
     "execution_count": 108,
     "metadata": {},
     "output_type": "execute_result"
    },
    {
     "data": {
      "image/png": "[encoded data removed]",
      "text/plain": [
       "<Figure size 432x288 with 1 Axes>"
      ]
     },
     "metadata": {
      "needs_background": "light"
     },
     "output_type": "display_data"
    }
   ],
   "source": [
    "# Graph classification accuracy over k\n",
    "plt.plot(magic_nw_knns, magic_nw_accuracies)\n",
    "plt.xlabel('K-Nearest Neighbors')\n",
    "plt.ylabel('Accuracy')\n",
    "plt.title('Magic Telescope Accuracy vs K-Nearest Neighbors')"
   ]
  },
  {
   "cell_type": "markdown",
   "metadata": {},
   "source": [
    "# For the rest of the experiments use only normalized data"
   ]
  },
  {
   "cell_type": "markdown",
   "metadata": {
    "id": "SIRG42TgSR4x"
   },
   "source": [
    "## 3. (10%) Use the regression variation of your algorithm (without distance weighting) for the [housing price prediction](https://www.cs.toronto.edu/~delve/data/boston/bostonDetail.html) problem.\n",
    "\n",
    "- Use this [training set](https://raw.githubusercontent.com/cs472ta/CS472/master/datasets/housing_train.arff) and this [test set](https://raw.githubusercontent.com/cs472ta/CS472/master/datasets/housing_test.arff).\n",
    "- Use Mean Square Error (MSE) on the test set as your accuracy metric for this case.\n",
    "    - Do not normalize regression output values\n",
    "- Graph MSE on the test set with odd values of k from 1 to 15\n"
   ]
  },
  {
   "cell_type": "code",
   "execution_count": 109,
   "metadata": {
    "id": "KBGUn43ASiXW",
    "pycharm": {
     "is_executing": true
    }
   },
   "outputs": [
    {
     "data": {
      "text/html": [
       "<div>\n",
       "<style scoped>\n",
       "    .dataframe tbody tr th:only-of-type {\n",
       "        vertical-align: middle;\n",
       "    }\n",
       "\n",
       "    .dataframe tbody tr th {\n",
       "        vertical-align: top;\n",
       "    }\n",
       "\n",
       "    .dataframe thead th {\n",
       "        text-align: right;\n",
       "    }\n",
       "</style>\n",
       "<table border=\"1\" class=\"dataframe\">\n",
       "  <thead>\n",
       "    <tr style=\"text-align: right;\">\n",
       "      <th></th>\n",
       "      <th>CRIM</th>\n",
       "      <th>ZN</th>\n",
       "      <th>INDUS</th>\n",
       "      <th>CHAS</th>\n",
       "      <th>NOX</th>\n",
       "      <th>RM</th>\n",
       "      <th>AGE</th>\n",
       "      <th>DIS</th>\n",
       "      <th>RAD</th>\n",
       "      <th>TAX</th>\n",
       "      <th>PTRATIO</th>\n",
       "      <th>B</th>\n",
       "      <th>LSTAT</th>\n",
       "      <th>MEDV</th>\n",
       "    </tr>\n",
       "  </thead>\n",
       "  <tbody>\n",
       "    <tr>\n",
       "      <th>0</th>\n",
       "      <td>0.02731</td>\n",
       "      <td>0.0</td>\n",
       "      <td>7.07</td>\n",
       "      <td>0</td>\n",
       "      <td>0.469</td>\n",
       "      <td>6.421</td>\n",
       "      <td>78.9</td>\n",
       "      <td>4.9671</td>\n",
       "      <td>2.0</td>\n",
       "      <td>242.0</td>\n",
       "      <td>17.8</td>\n",
       "      <td>396.90</td>\n",
       "      <td>9.14</td>\n",
       "      <td>21.6</td>\n",
       "    </tr>\n",
       "    <tr>\n",
       "      <th>1</th>\n",
       "      <td>0.02729</td>\n",
       "      <td>0.0</td>\n",
       "      <td>7.07</td>\n",
       "      <td>0</td>\n",
       "      <td>0.469</td>\n",
       "      <td>7.185</td>\n",
       "      <td>61.1</td>\n",
       "      <td>4.9671</td>\n",
       "      <td>2.0</td>\n",
       "      <td>242.0</td>\n",
       "      <td>17.8</td>\n",
       "      <td>392.83</td>\n",
       "      <td>4.03</td>\n",
       "      <td>34.7</td>\n",
       "    </tr>\n",
       "  </tbody>\n",
       "</table>\n",
       "</div>"
      ],
      "text/plain": [
       "      CRIM   ZN  INDUS CHAS    NOX     RM   AGE     DIS  RAD    TAX  PTRATIO  \\\n",
       "0  0.02731  0.0   7.07    0  0.469  6.421  78.9  4.9671  2.0  242.0     17.8   \n",
       "1  0.02729  0.0   7.07    0  0.469  7.185  61.1  4.9671  2.0  242.0     17.8   \n",
       "\n",
       "        B  LSTAT  MEDV  \n",
       "0  396.90   9.14  21.6  \n",
       "1  392.83   4.03  34.7  "
      ]
     },
     "metadata": {},
     "output_type": "display_data"
    },
    {
     "name": "stdout",
     "output_type": "stream",
     "text": [
      "(455, 14)\n"
     ]
    },
    {
     "data": {
      "text/html": [
       "<div>\n",
       "<style scoped>\n",
       "    .dataframe tbody tr th:only-of-type {\n",
       "        vertical-align: middle;\n",
       "    }\n",
       "\n",
       "    .dataframe tbody tr th {\n",
       "        vertical-align: top;\n",
       "    }\n",
       "\n",
       "    .dataframe thead th {\n",
       "        text-align: right;\n",
       "    }\n",
       "</style>\n",
       "<table border=\"1\" class=\"dataframe\">\n",
       "  <thead>\n",
       "    <tr style=\"text-align: right;\">\n",
       "      <th></th>\n",
       "      <th>CRIM</th>\n",
       "      <th>ZN</th>\n",
       "      <th>INDUS</th>\n",
       "      <th>CHAS</th>\n",
       "      <th>NOX</th>\n",
       "      <th>RM</th>\n",
       "      <th>AGE</th>\n",
       "      <th>DIS</th>\n",
       "      <th>RAD</th>\n",
       "      <th>TAX</th>\n",
       "      <th>PTRATIO</th>\n",
       "      <th>B</th>\n",
       "      <th>LSTAT</th>\n",
       "      <th>MEDV</th>\n",
       "    </tr>\n",
       "  </thead>\n",
       "  <tbody>\n",
       "    <tr>\n",
       "      <th>0</th>\n",
       "      <td>0.00632</td>\n",
       "      <td>18.0</td>\n",
       "      <td>2.31</td>\n",
       "      <td>0</td>\n",
       "      <td>0.538</td>\n",
       "      <td>6.575</td>\n",
       "      <td>65.2</td>\n",
       "      <td>4.0900</td>\n",
       "      <td>1.0</td>\n",
       "      <td>296.0</td>\n",
       "      <td>15.3</td>\n",
       "      <td>396.90</td>\n",
       "      <td>4.98</td>\n",
       "      <td>24.0</td>\n",
       "    </tr>\n",
       "    <tr>\n",
       "      <th>1</th>\n",
       "      <td>0.22489</td>\n",
       "      <td>12.5</td>\n",
       "      <td>7.87</td>\n",
       "      <td>0</td>\n",
       "      <td>0.524</td>\n",
       "      <td>6.377</td>\n",
       "      <td>94.3</td>\n",
       "      <td>6.3467</td>\n",
       "      <td>5.0</td>\n",
       "      <td>311.0</td>\n",
       "      <td>15.2</td>\n",
       "      <td>392.52</td>\n",
       "      <td>20.45</td>\n",
       "      <td>15.0</td>\n",
       "    </tr>\n",
       "  </tbody>\n",
       "</table>\n",
       "</div>"
      ],
      "text/plain": [
       "      CRIM    ZN  INDUS CHAS    NOX     RM   AGE     DIS  RAD    TAX  PTRATIO  \\\n",
       "0  0.00632  18.0   2.31    0  0.538  6.575  65.2  4.0900  1.0  296.0     15.3   \n",
       "1  0.22489  12.5   7.87    0  0.524  6.377  94.3  6.3467  5.0  311.0     15.2   \n",
       "\n",
       "        B  LSTAT  MEDV  \n",
       "0  396.90   4.98  24.0  \n",
       "1  392.52  20.45  15.0  "
      ]
     },
     "metadata": {},
     "output_type": "display_data"
    },
    {
     "name": "stdout",
     "output_type": "stream",
     "text": [
      "(51, 14)\n"
     ]
    }
   ],
   "source": [
    "# Load housing price prediction data\n",
    "housing_trainDF = load_data('datasets/housing_train.arff')\n",
    "housing_testDF = load_data('datasets/housing_test.arff')\n",
    "\n",
    "display(housing_trainDF.head(2))\n",
    "print(housing_trainDF.shape)\n",
    "display(housing_testDF.head(2))\n",
    "print(housing_testDF.shape)\n",
    "\n",
    "# Get column types\n",
    "housing_column_types = get_column_types(housing_trainDF)[:-1]\n",
    "\n",
    "# X and y splits\n",
    "housing_X_trainDF, housing_y_trainDF = housing_trainDF.iloc[:, :-1], housing_trainDF.iloc[:, -1]\n",
    "housing_X_testDF, housing_y_testDF = housing_testDF.iloc[:, :-1], housing_testDF.iloc[:, -1]\n",
    "\n",
    "housing_X_train, housing_X_test = encode_X(housing_X_trainDF, housing_X_testDF)\n",
    "housing_y_train, housing_y_test = housing_y_trainDF, housing_y_testDF\n",
    "\n",
    "# To numpy arrays\n",
    "X_housing_train = housing_X_train.to_numpy()\n",
    "X_housing_test = housing_X_test.to_numpy()\n",
    "y_housing_train = housing_y_train.to_numpy()\n",
    "y_housing_test = housing_y_test.to_numpy()\n",
    "\n",
    "# Normalize input features\n",
    "X_housing_train_norm, X_housing_test_norm = normalize(X_housing_train, X_housing_test)"
   ]
  },
  {
   "cell_type": "code",
   "execution_count": 110,
   "metadata": {},
   "outputs": [
    {
     "name": "stdout",
     "output_type": "stream",
     "text": [
      "Housing KNN 1\n",
      "Housing KNN 3\n",
      "Housing KNN 5\n",
      "Housing KNN 7\n",
      "Housing KNN 9\n",
      "Housing KNN 11\n",
      "Housing KNN 13\n",
      "Housing KNN 15\n"
     ]
    }
   ],
   "source": [
    "# Train/Predict using k=1,3,...,15\n",
    "house_nw_knns = np.arange(1, 16, 2)\n",
    "house_nw_mses = []\n",
    "for knn in house_nw_knns:\n",
    "    print(\"Housing KNN %d\" % knn)\n",
    "    knnr = KNNRegressor(columntype=housing_column_types, knn=knn, weight_type=None)\n",
    "    house_nw_mses.append(knnr.fit(X_housing_train_norm, y_housing_train) \\\n",
    "        .score(X_housing_test_norm, y_housing_test))"
   ]
  },
  {
   "cell_type": "code",
   "execution_count": 111,
   "metadata": {},
   "outputs": [
    {
     "data": {
      "text/plain": [
       "Text(0.5, 1.0, 'No Inverse Weighting Housing MSE vs K-Nearest Neighbors')"
      ]
     },
     "execution_count": 111,
     "metadata": {},
     "output_type": "execute_result"
    },
    {
     "data": {
      "image/png": "[encoded data removed]",
      "text/plain": [
       "<Figure size 432x288 with 1 Axes>"
      ]
     },
     "metadata": {
      "needs_background": "light"
     },
     "output_type": "display_data"
    }
   ],
   "source": [
    "# Graph MSE over k\n",
    "plt.plot(house_nw_knns, house_nw_mses)\n",
    "plt.xlabel('K-Nearest Neighbors')\n",
    "plt.ylabel('MSE')\n",
    "plt.title('No Inverse Weighting Housing MSE vs K-Nearest Neighbors')"
   ]
  },
  {
   "cell_type": "markdown",
   "metadata": {
    "id": "v19fpixqTe-7"
   },
   "source": [
    "## 4. (15%) Repeat your experiments for magic telescope and housing using distance-weighted (inverse of distance squared) voting and discuss your results.\n"
   ]
  },
  {
   "cell_type": "markdown",
   "metadata": {},
   "source": [
    "## 4.1 Magic Telescope Dataset"
   ]
  },
  {
   "cell_type": "code",
   "execution_count": 112,
   "metadata": {
    "id": "ZCPFUAGTS2sX",
    "pycharm": {
     "is_executing": true
    }
   },
   "outputs": [
    {
     "name": "stdout",
     "output_type": "stream",
     "text": [
      "Magic Telescore KNN 1\n",
      "Magic Telescore KNN 3\n",
      "Magic Telescore KNN 5\n",
      "Magic Telescore KNN 7\n",
      "Magic Telescore KNN 9\n",
      "Magic Telescore KNN 11\n",
      "Magic Telescore KNN 13\n",
      "Magic Telescore KNN 15\n"
     ]
    }
   ],
   "source": [
    "# Train/Predict magic telescope using distance-weighted voting\n",
    "magic_w_knns = np.arange(1, 16, 2)\n",
    "magic_w_accuracies = []\n",
    "for knn in magic_w_knns:\n",
    "    print(\"Magic Telescore KNN %d\" % knn)\n",
    "    knnc = KNNClassifier(columntype=magic_telescope_column_types, knn=knn)\n",
    "    magic_w_accuracies.append(knnc.fit(X_telescope_train_norm, y_telescope_train) \\\n",
    "        .score(X_telescope_test_norm, y_telescope_test))"
   ]
  },
  {
   "cell_type": "code",
   "execution_count": 118,
   "metadata": {},
   "outputs": [
    {
     "data": {
      "text/plain": [
       "<matplotlib.legend.Legend at 0x1a335e6e5b0>"
      ]
     },
     "execution_count": 118,
     "metadata": {},
     "output_type": "execute_result"
    },
    {
     "data": {
      "image/png": "[encoded data removed]",
      "text/plain": [
       "<Figure size 432x288 with 1 Axes>"
      ]
     },
     "metadata": {
      "needs_background": "light"
     },
     "output_type": "display_data"
    }
   ],
   "source": [
    "# Graph no distance weighting and distance weighting comp for magic telescope\n",
    "plt.plot(magic_nw_knns, magic_nw_accuracies, label='No distance weighting')\n",
    "plt.plot(magic_w_knns, magic_w_accuracies, label='Distance weighting')\n",
    "plt.xlabel('K-Nearest Neighbors')\n",
    "plt.ylabel('Accuracy')\n",
    "plt.title('Magic Telescope Distance Weighing vs No Distance Weighting')\n",
    "plt.legend()"
   ]
  },
  {
   "cell_type": "markdown",
   "metadata": {},
   "source": [
    "## 4.2 Housing Dataset"
   ]
  },
  {
   "cell_type": "code",
   "execution_count": 114,
   "metadata": {
    "pycharm": {
     "is_executing": true
    }
   },
   "outputs": [
    {
     "name": "stdout",
     "output_type": "stream",
     "text": [
      "Housing KNN 1\n",
      "Housing KNN 3\n",
      "Housing KNN 5\n",
      "Housing KNN 7\n",
      "Housing KNN 9\n",
      "Housing KNN 11\n",
      "Housing KNN 13\n",
      "Housing KNN 15\n"
     ]
    }
   ],
   "source": [
    "# Train/Predict housing using distance-weighted voting\n",
    "house_w_knns = np.arange(1, 16, 2)\n",
    "house_w_mses = []\n",
    "for knn in house_w_knns:\n",
    "    print(\"Housing KNN %d\" % knn)\n",
    "    knnr = KNNRegressor(columntype=housing_column_types, knn=knn)\n",
    "    house_w_mses.append(knnr.fit(X_housing_train_norm, y_housing_train) \\\n",
    "        .score(X_housing_test_norm, y_housing_test))"
   ]
  },
  {
   "cell_type": "code",
   "execution_count": 119,
   "metadata": {},
   "outputs": [
    {
     "data": {
      "text/plain": [
       "<matplotlib.legend.Legend at 0x1a335fd8b80>"
      ]
     },
     "execution_count": 119,
     "metadata": {},
     "output_type": "execute_result"
    },
    {
     "data": {
      "image/png": "[encoded data removed]",
      "text/plain": [
       "<Figure size 432x288 with 1 Axes>"
      ]
     },
     "metadata": {
      "needs_background": "light"
     },
     "output_type": "display_data"
    }
   ],
   "source": [
    "# Graph no distance weighting and distance weighting comp for housing\n",
    "plt.plot(house_nw_knns, house_nw_mses, label='No distance weighting')\n",
    "plt.plot(house_w_knns, house_w_mses, label='Distance weighting')\n",
    "plt.xlabel('K-Nearest Neighbors')\n",
    "plt.ylabel('MSE')\n",
    "plt.title('Housing Distance Weighing vs No Distance Weighting')\n",
    "plt.legend()"
   ]
  },
  {
   "cell_type": "markdown",
   "metadata": {},
   "source": [
    "*Discuss your results*"
   ]
  },
  {
   "cell_type": "markdown",
   "metadata": {},
   "source": [
    "## 5. (10%) Use the k-nearest neighbor algorithm to solve the [credit-approval](https://archive.ics.uci.edu/ml/datasets/Credit+Approval) (credit-a) problem.\n",
    "\n",
    "- Use this [dataset](https://raw.githubusercontent.com/cs472ta/CS472/master/datasets/credit_approval.arff)\n",
    "    - Use a 70/30 split of the data for the training/test set\n",
    "- Note that this set has both continuous and nominal attributes, together with don’t know values. \n",
    "- Implement and justify a distance metric which supports continuous, nominal, and don’t know attribute values\n",
    "    - You need to handle don't knows with the distance metric, not by imputing a value.\n",
    "    - More information on distance metrics can be found [here](https://www.jair.org/index.php/jair/article/view/10182/24168).\n",
    "- Use your own choice for k.\n",
    "- As a rough sanity check, typical knn accuracies for the credit data set are 70-80%.\n"
   ]
  },
  {
   "cell_type": "code",
   "execution_count": 124,
   "metadata": {
    "pycharm": {
     "is_executing": true
    }
   },
   "outputs": [
    {
     "data": {
      "text/html": [
       "<div>\n",
       "<style scoped>\n",
       "    .dataframe tbody tr th:only-of-type {\n",
       "        vertical-align: middle;\n",
       "    }\n",
       "\n",
       "    .dataframe tbody tr th {\n",
       "        vertical-align: top;\n",
       "    }\n",
       "\n",
       "    .dataframe thead th {\n",
       "        text-align: right;\n",
       "    }\n",
       "</style>\n",
       "<table border=\"1\" class=\"dataframe\">\n",
       "  <thead>\n",
       "    <tr style=\"text-align: right;\">\n",
       "      <th></th>\n",
       "      <th>A1</th>\n",
       "      <th>A2</th>\n",
       "      <th>A3</th>\n",
       "      <th>A4</th>\n",
       "      <th>A5</th>\n",
       "      <th>A6</th>\n",
       "      <th>A7</th>\n",
       "      <th>A8</th>\n",
       "      <th>A9</th>\n",
       "      <th>A10</th>\n",
       "      <th>A11</th>\n",
       "      <th>A12</th>\n",
       "      <th>A13</th>\n",
       "      <th>A14</th>\n",
       "      <th>A15</th>\n",
       "      <th>class</th>\n",
       "    </tr>\n",
       "  </thead>\n",
       "  <tbody>\n",
       "    <tr>\n",
       "      <th>71</th>\n",
       "      <td>b</td>\n",
       "      <td>34.83</td>\n",
       "      <td>4.000</td>\n",
       "      <td>u</td>\n",
       "      <td>g</td>\n",
       "      <td>d</td>\n",
       "      <td>bb</td>\n",
       "      <td>12.500</td>\n",
       "      <td>t</td>\n",
       "      <td>f</td>\n",
       "      <td>0.0</td>\n",
       "      <td>t</td>\n",
       "      <td>g</td>\n",
       "      <td>NaN</td>\n",
       "      <td>0.0</td>\n",
       "      <td>-</td>\n",
       "    </tr>\n",
       "    <tr>\n",
       "      <th>83</th>\n",
       "      <td>a</td>\n",
       "      <td>NaN</td>\n",
       "      <td>3.500</td>\n",
       "      <td>u</td>\n",
       "      <td>g</td>\n",
       "      <td>d</td>\n",
       "      <td>v</td>\n",
       "      <td>3.000</td>\n",
       "      <td>t</td>\n",
       "      <td>f</td>\n",
       "      <td>0.0</td>\n",
       "      <td>t</td>\n",
       "      <td>g</td>\n",
       "      <td>300.0</td>\n",
       "      <td>0.0</td>\n",
       "      <td>-</td>\n",
       "    </tr>\n",
       "    <tr>\n",
       "      <th>86</th>\n",
       "      <td>b</td>\n",
       "      <td>NaN</td>\n",
       "      <td>0.375</td>\n",
       "      <td>u</td>\n",
       "      <td>g</td>\n",
       "      <td>d</td>\n",
       "      <td>v</td>\n",
       "      <td>0.875</td>\n",
       "      <td>t</td>\n",
       "      <td>f</td>\n",
       "      <td>0.0</td>\n",
       "      <td>t</td>\n",
       "      <td>s</td>\n",
       "      <td>928.0</td>\n",
       "      <td>0.0</td>\n",
       "      <td>-</td>\n",
       "    </tr>\n",
       "    <tr>\n",
       "      <th>92</th>\n",
       "      <td>b</td>\n",
       "      <td>NaN</td>\n",
       "      <td>5.000</td>\n",
       "      <td>y</td>\n",
       "      <td>p</td>\n",
       "      <td>aa</td>\n",
       "      <td>v</td>\n",
       "      <td>8.500</td>\n",
       "      <td>t</td>\n",
       "      <td>f</td>\n",
       "      <td>0.0</td>\n",
       "      <td>f</td>\n",
       "      <td>g</td>\n",
       "      <td>0.0</td>\n",
       "      <td>0.0</td>\n",
       "      <td>-</td>\n",
       "    </tr>\n",
       "    <tr>\n",
       "      <th>97</th>\n",
       "      <td>b</td>\n",
       "      <td>NaN</td>\n",
       "      <td>0.500</td>\n",
       "      <td>u</td>\n",
       "      <td>g</td>\n",
       "      <td>c</td>\n",
       "      <td>bb</td>\n",
       "      <td>0.835</td>\n",
       "      <td>t</td>\n",
       "      <td>f</td>\n",
       "      <td>0.0</td>\n",
       "      <td>t</td>\n",
       "      <td>s</td>\n",
       "      <td>320.0</td>\n",
       "      <td>0.0</td>\n",
       "      <td>-</td>\n",
       "    </tr>\n",
       "    <tr>\n",
       "      <th>202</th>\n",
       "      <td>b</td>\n",
       "      <td>24.83</td>\n",
       "      <td>2.750</td>\n",
       "      <td>u</td>\n",
       "      <td>g</td>\n",
       "      <td>c</td>\n",
       "      <td>v</td>\n",
       "      <td>2.250</td>\n",
       "      <td>t</td>\n",
       "      <td>t</td>\n",
       "      <td>6.0</td>\n",
       "      <td>f</td>\n",
       "      <td>g</td>\n",
       "      <td>NaN</td>\n",
       "      <td>600.0</td>\n",
       "      <td>+</td>\n",
       "    </tr>\n",
       "    <tr>\n",
       "      <th>206</th>\n",
       "      <td>a</td>\n",
       "      <td>71.58</td>\n",
       "      <td>0.000</td>\n",
       "      <td>?</td>\n",
       "      <td>?</td>\n",
       "      <td>?</td>\n",
       "      <td>?</td>\n",
       "      <td>0.000</td>\n",
       "      <td>f</td>\n",
       "      <td>f</td>\n",
       "      <td>0.0</td>\n",
       "      <td>f</td>\n",
       "      <td>p</td>\n",
       "      <td>NaN</td>\n",
       "      <td>0.0</td>\n",
       "      <td>+</td>\n",
       "    </tr>\n",
       "    <tr>\n",
       "      <th>243</th>\n",
       "      <td>a</td>\n",
       "      <td>18.75</td>\n",
       "      <td>7.500</td>\n",
       "      <td>u</td>\n",
       "      <td>g</td>\n",
       "      <td>q</td>\n",
       "      <td>v</td>\n",
       "      <td>2.710</td>\n",
       "      <td>t</td>\n",
       "      <td>t</td>\n",
       "      <td>5.0</td>\n",
       "      <td>f</td>\n",
       "      <td>g</td>\n",
       "      <td>NaN</td>\n",
       "      <td>26726.0</td>\n",
       "      <td>+</td>\n",
       "    </tr>\n",
       "    <tr>\n",
       "      <th>254</th>\n",
       "      <td>b</td>\n",
       "      <td>NaN</td>\n",
       "      <td>0.625</td>\n",
       "      <td>u</td>\n",
       "      <td>g</td>\n",
       "      <td>k</td>\n",
       "      <td>v</td>\n",
       "      <td>0.250</td>\n",
       "      <td>f</td>\n",
       "      <td>f</td>\n",
       "      <td>0.0</td>\n",
       "      <td>f</td>\n",
       "      <td>g</td>\n",
       "      <td>380.0</td>\n",
       "      <td>2010.0</td>\n",
       "      <td>-</td>\n",
       "    </tr>\n",
       "    <tr>\n",
       "      <th>270</th>\n",
       "      <td>b</td>\n",
       "      <td>37.58</td>\n",
       "      <td>0.000</td>\n",
       "      <td>?</td>\n",
       "      <td>?</td>\n",
       "      <td>?</td>\n",
       "      <td>?</td>\n",
       "      <td>0.000</td>\n",
       "      <td>f</td>\n",
       "      <td>f</td>\n",
       "      <td>0.0</td>\n",
       "      <td>f</td>\n",
       "      <td>p</td>\n",
       "      <td>NaN</td>\n",
       "      <td>0.0</td>\n",
       "      <td>+</td>\n",
       "    </tr>\n",
       "    <tr>\n",
       "      <th>278</th>\n",
       "      <td>b</td>\n",
       "      <td>24.58</td>\n",
       "      <td>13.500</td>\n",
       "      <td>y</td>\n",
       "      <td>p</td>\n",
       "      <td>ff</td>\n",
       "      <td>ff</td>\n",
       "      <td>0.000</td>\n",
       "      <td>f</td>\n",
       "      <td>f</td>\n",
       "      <td>0.0</td>\n",
       "      <td>f</td>\n",
       "      <td>g</td>\n",
       "      <td>NaN</td>\n",
       "      <td>0.0</td>\n",
       "      <td>-</td>\n",
       "    </tr>\n",
       "    <tr>\n",
       "      <th>286</th>\n",
       "      <td>a</td>\n",
       "      <td>NaN</td>\n",
       "      <td>1.500</td>\n",
       "      <td>u</td>\n",
       "      <td>g</td>\n",
       "      <td>ff</td>\n",
       "      <td>ff</td>\n",
       "      <td>0.000</td>\n",
       "      <td>f</td>\n",
       "      <td>t</td>\n",
       "      <td>2.0</td>\n",
       "      <td>t</td>\n",
       "      <td>g</td>\n",
       "      <td>200.0</td>\n",
       "      <td>105.0</td>\n",
       "      <td>-</td>\n",
       "    </tr>\n",
       "    <tr>\n",
       "      <th>329</th>\n",
       "      <td>b</td>\n",
       "      <td>NaN</td>\n",
       "      <td>4.000</td>\n",
       "      <td>y</td>\n",
       "      <td>p</td>\n",
       "      <td>i</td>\n",
       "      <td>v</td>\n",
       "      <td>0.085</td>\n",
       "      <td>f</td>\n",
       "      <td>f</td>\n",
       "      <td>0.0</td>\n",
       "      <td>t</td>\n",
       "      <td>g</td>\n",
       "      <td>411.0</td>\n",
       "      <td>0.0</td>\n",
       "      <td>-</td>\n",
       "    </tr>\n",
       "    <tr>\n",
       "      <th>330</th>\n",
       "      <td>b</td>\n",
       "      <td>20.42</td>\n",
       "      <td>0.000</td>\n",
       "      <td>?</td>\n",
       "      <td>?</td>\n",
       "      <td>?</td>\n",
       "      <td>?</td>\n",
       "      <td>0.000</td>\n",
       "      <td>f</td>\n",
       "      <td>f</td>\n",
       "      <td>0.0</td>\n",
       "      <td>f</td>\n",
       "      <td>p</td>\n",
       "      <td>NaN</td>\n",
       "      <td>0.0</td>\n",
       "      <td>-</td>\n",
       "    </tr>\n",
       "    <tr>\n",
       "      <th>406</th>\n",
       "      <td>a</td>\n",
       "      <td>40.33</td>\n",
       "      <td>8.125</td>\n",
       "      <td>y</td>\n",
       "      <td>p</td>\n",
       "      <td>k</td>\n",
       "      <td>v</td>\n",
       "      <td>0.165</td>\n",
       "      <td>f</td>\n",
       "      <td>t</td>\n",
       "      <td>2.0</td>\n",
       "      <td>f</td>\n",
       "      <td>g</td>\n",
       "      <td>NaN</td>\n",
       "      <td>18.0</td>\n",
       "      <td>-</td>\n",
       "    </tr>\n",
       "    <tr>\n",
       "      <th>445</th>\n",
       "      <td>a</td>\n",
       "      <td>NaN</td>\n",
       "      <td>11.250</td>\n",
       "      <td>u</td>\n",
       "      <td>g</td>\n",
       "      <td>ff</td>\n",
       "      <td>ff</td>\n",
       "      <td>0.000</td>\n",
       "      <td>f</td>\n",
       "      <td>f</td>\n",
       "      <td>0.0</td>\n",
       "      <td>f</td>\n",
       "      <td>g</td>\n",
       "      <td>NaN</td>\n",
       "      <td>5200.0</td>\n",
       "      <td>-</td>\n",
       "    </tr>\n",
       "    <tr>\n",
       "      <th>450</th>\n",
       "      <td>b</td>\n",
       "      <td>NaN</td>\n",
       "      <td>3.000</td>\n",
       "      <td>y</td>\n",
       "      <td>p</td>\n",
       "      <td>i</td>\n",
       "      <td>bb</td>\n",
       "      <td>7.000</td>\n",
       "      <td>f</td>\n",
       "      <td>f</td>\n",
       "      <td>0.0</td>\n",
       "      <td>f</td>\n",
       "      <td>g</td>\n",
       "      <td>0.0</td>\n",
       "      <td>1.0</td>\n",
       "      <td>-</td>\n",
       "    </tr>\n",
       "    <tr>\n",
       "      <th>456</th>\n",
       "      <td>b</td>\n",
       "      <td>34.58</td>\n",
       "      <td>0.000</td>\n",
       "      <td>?</td>\n",
       "      <td>?</td>\n",
       "      <td>?</td>\n",
       "      <td>?</td>\n",
       "      <td>0.000</td>\n",
       "      <td>f</td>\n",
       "      <td>f</td>\n",
       "      <td>0.0</td>\n",
       "      <td>f</td>\n",
       "      <td>p</td>\n",
       "      <td>NaN</td>\n",
       "      <td>0.0</td>\n",
       "      <td>-</td>\n",
       "    </tr>\n",
       "    <tr>\n",
       "      <th>500</th>\n",
       "      <td>b</td>\n",
       "      <td>NaN</td>\n",
       "      <td>4.000</td>\n",
       "      <td>u</td>\n",
       "      <td>g</td>\n",
       "      <td>x</td>\n",
       "      <td>v</td>\n",
       "      <td>5.000</td>\n",
       "      <td>t</td>\n",
       "      <td>t</td>\n",
       "      <td>3.0</td>\n",
       "      <td>t</td>\n",
       "      <td>g</td>\n",
       "      <td>290.0</td>\n",
       "      <td>2279.0</td>\n",
       "      <td>+</td>\n",
       "    </tr>\n",
       "    <tr>\n",
       "      <th>515</th>\n",
       "      <td>b</td>\n",
       "      <td>NaN</td>\n",
       "      <td>10.500</td>\n",
       "      <td>u</td>\n",
       "      <td>g</td>\n",
       "      <td>x</td>\n",
       "      <td>v</td>\n",
       "      <td>6.500</td>\n",
       "      <td>t</td>\n",
       "      <td>f</td>\n",
       "      <td>0.0</td>\n",
       "      <td>f</td>\n",
       "      <td>g</td>\n",
       "      <td>0.0</td>\n",
       "      <td>0.0</td>\n",
       "      <td>+</td>\n",
       "    </tr>\n",
       "    <tr>\n",
       "      <th>592</th>\n",
       "      <td>b</td>\n",
       "      <td>23.17</td>\n",
       "      <td>0.000</td>\n",
       "      <td>?</td>\n",
       "      <td>?</td>\n",
       "      <td>?</td>\n",
       "      <td>?</td>\n",
       "      <td>0.000</td>\n",
       "      <td>f</td>\n",
       "      <td>f</td>\n",
       "      <td>0.0</td>\n",
       "      <td>f</td>\n",
       "      <td>p</td>\n",
       "      <td>NaN</td>\n",
       "      <td>0.0</td>\n",
       "      <td>+</td>\n",
       "    </tr>\n",
       "    <tr>\n",
       "      <th>608</th>\n",
       "      <td>b</td>\n",
       "      <td>NaN</td>\n",
       "      <td>0.040</td>\n",
       "      <td>y</td>\n",
       "      <td>p</td>\n",
       "      <td>d</td>\n",
       "      <td>v</td>\n",
       "      <td>4.250</td>\n",
       "      <td>f</td>\n",
       "      <td>f</td>\n",
       "      <td>0.0</td>\n",
       "      <td>t</td>\n",
       "      <td>g</td>\n",
       "      <td>460.0</td>\n",
       "      <td>0.0</td>\n",
       "      <td>-</td>\n",
       "    </tr>\n",
       "    <tr>\n",
       "      <th>622</th>\n",
       "      <td>a</td>\n",
       "      <td>25.58</td>\n",
       "      <td>0.000</td>\n",
       "      <td>?</td>\n",
       "      <td>?</td>\n",
       "      <td>?</td>\n",
       "      <td>?</td>\n",
       "      <td>0.000</td>\n",
       "      <td>f</td>\n",
       "      <td>f</td>\n",
       "      <td>0.0</td>\n",
       "      <td>f</td>\n",
       "      <td>p</td>\n",
       "      <td>NaN</td>\n",
       "      <td>0.0</td>\n",
       "      <td>+</td>\n",
       "    </tr>\n",
       "    <tr>\n",
       "      <th>626</th>\n",
       "      <td>b</td>\n",
       "      <td>22.00</td>\n",
       "      <td>7.835</td>\n",
       "      <td>y</td>\n",
       "      <td>p</td>\n",
       "      <td>i</td>\n",
       "      <td>bb</td>\n",
       "      <td>0.165</td>\n",
       "      <td>f</td>\n",
       "      <td>f</td>\n",
       "      <td>0.0</td>\n",
       "      <td>t</td>\n",
       "      <td>g</td>\n",
       "      <td>NaN</td>\n",
       "      <td>0.0</td>\n",
       "      <td>-</td>\n",
       "    </tr>\n",
       "  </tbody>\n",
       "</table>\n",
       "</div>"
      ],
      "text/plain": [
       "    A1     A2      A3 A4 A5  A6  A7      A8 A9 A10  A11 A12 A13    A14  \\\n",
       "71   b  34.83   4.000  u  g   d  bb  12.500  t   f  0.0   t   g    NaN   \n",
       "83   a    NaN   3.500  u  g   d   v   3.000  t   f  0.0   t   g  300.0   \n",
       "86   b    NaN   0.375  u  g   d   v   0.875  t   f  0.0   t   s  928.0   \n",
       "92   b    NaN   5.000  y  p  aa   v   8.500  t   f  0.0   f   g    0.0   \n",
       "97   b    NaN   0.500  u  g   c  bb   0.835  t   f  0.0   t   s  320.0   \n",
       "202  b  24.83   2.750  u  g   c   v   2.250  t   t  6.0   f   g    NaN   \n",
       "206  a  71.58   0.000  ?  ?   ?   ?   0.000  f   f  0.0   f   p    NaN   \n",
       "243  a  18.75   7.500  u  g   q   v   2.710  t   t  5.0   f   g    NaN   \n",
       "254  b    NaN   0.625  u  g   k   v   0.250  f   f  0.0   f   g  380.0   \n",
       "270  b  37.58   0.000  ?  ?   ?   ?   0.000  f   f  0.0   f   p    NaN   \n",
       "278  b  24.58  13.500  y  p  ff  ff   0.000  f   f  0.0   f   g    NaN   \n",
       "286  a    NaN   1.500  u  g  ff  ff   0.000  f   t  2.0   t   g  200.0   \n",
       "329  b    NaN   4.000  y  p   i   v   0.085  f   f  0.0   t   g  411.0   \n",
       "330  b  20.42   0.000  ?  ?   ?   ?   0.000  f   f  0.0   f   p    NaN   \n",
       "406  a  40.33   8.125  y  p   k   v   0.165  f   t  2.0   f   g    NaN   \n",
       "445  a    NaN  11.250  u  g  ff  ff   0.000  f   f  0.0   f   g    NaN   \n",
       "450  b    NaN   3.000  y  p   i  bb   7.000  f   f  0.0   f   g    0.0   \n",
       "456  b  34.58   0.000  ?  ?   ?   ?   0.000  f   f  0.0   f   p    NaN   \n",
       "500  b    NaN   4.000  u  g   x   v   5.000  t   t  3.0   t   g  290.0   \n",
       "515  b    NaN  10.500  u  g   x   v   6.500  t   f  0.0   f   g    0.0   \n",
       "592  b  23.17   0.000  ?  ?   ?   ?   0.000  f   f  0.0   f   p    NaN   \n",
       "608  b    NaN   0.040  y  p   d   v   4.250  f   f  0.0   t   g  460.0   \n",
       "622  a  25.58   0.000  ?  ?   ?   ?   0.000  f   f  0.0   f   p    NaN   \n",
       "626  b  22.00   7.835  y  p   i  bb   0.165  f   f  0.0   t   g    NaN   \n",
       "\n",
       "         A15 class  \n",
       "71       0.0     -  \n",
       "83       0.0     -  \n",
       "86       0.0     -  \n",
       "92       0.0     -  \n",
       "97       0.0     -  \n",
       "202    600.0     +  \n",
       "206      0.0     +  \n",
       "243  26726.0     +  \n",
       "254   2010.0     -  \n",
       "270      0.0     +  \n",
       "278      0.0     -  \n",
       "286    105.0     -  \n",
       "329      0.0     -  \n",
       "330      0.0     -  \n",
       "406     18.0     -  \n",
       "445   5200.0     -  \n",
       "450      1.0     -  \n",
       "456      0.0     -  \n",
       "500   2279.0     +  \n",
       "515      0.0     +  \n",
       "592      0.0     +  \n",
       "608      0.0     -  \n",
       "622      0.0     +  \n",
       "626      0.0     -  "
      ]
     },
     "execution_count": 124,
     "metadata": {},
     "output_type": "execute_result"
    }
   ],
   "source": [
    "from sklearn.model_selection import train_test_split\n",
    "\n",
    "# Load dataset and split into train/test sets\n",
    "creditDF = load_data('datasets/credit_approval.arff')\n",
    "creditDF[creditDF.isna().any(axis=1)]\n",
    "\n",
    "\n",
    "\n",
    "# Train/Predict credit-approval\n"
   ]
  },
  {
   "cell_type": "markdown",
   "metadata": {},
   "source": [
    "*Explain and justify your distance metric*"
   ]
  },
  {
   "cell_type": "markdown",
   "metadata": {
    "id": "oBBmeNQ7jvcQ"
   },
   "source": [
    "## 6. (15%) Use the scikit's KNN Classifier on magic telescope and KNN Regressor on housing and compare your results.\n",
    "\n",
    "- Try out different hyperparameters to see how well you can do. \n"
   ]
  },
  {
   "cell_type": "code",
   "execution_count": null,
   "metadata": {
    "id": "OFQv70W2VyqJ",
    "pycharm": {
     "is_executing": true
    }
   },
   "outputs": [],
   "source": [
    "# Train/Predict magic telescope using scikit's KNN\n",
    "\n",
    "# Train/Predict housing using scikit's KNN\n"
   ]
  },
  {
   "cell_type": "markdown",
   "metadata": {
    "id": "BqSFAXwlk3Ms"
   },
   "source": [
    "*Report your comparison*"
   ]
  },
  {
   "cell_type": "markdown",
   "metadata": {
    "id": "cTlK-kijk8Mg"
   },
   "source": [
    "## 7. (optional 5% extra credit): For the best value of k for any one of the datasets, implement a reduction algorithm that removes data points in some rational way such that performance does not drop too drastically on the test set given the reduced training set.\n",
    "\n",
    "- Compare your performance on the test set for the reduced and non-reduced versions and give the number (and percentage) of training examples removed from the original training set. How well does your reduction algorithm work?\n",
    "    - Note that performance for magic telescope is classification accuracy and for housing it is mean squared error.\n",
    "    - Magic Telescope has about 12,000 instances and if you use a leave one out style of testing for your data set reduction, then your algorithm will run slow since that is n2 at each step.\n",
    "    - If you wish, you may use a random subset of 2,000 of the magic telescope instances.\n",
    "    - More information on reduction techniques can be found [here](http://axon.cs.byu.edu/~martinez/classes/478/slides/IBL.pdf).\n"
   ]
  },
  {
   "cell_type": "code",
   "execution_count": null,
   "metadata": {
    "id": "5iY77P7gk1Nh",
    "pycharm": {
     "is_executing": true
    }
   },
   "outputs": [],
   "source": []
  }
 ],
 "metadata": {
  "colab": {
   "collapsed_sections": [],
   "name": "lab 1 - perceptron",
   "provenance": []
  },
  "interpreter": {
   "hash": "f6ab8df0a30277f4bb5d286fc0f5da626a3de586a52a04b7d68eb7a168a00d24"
  },
  "kernelspec": {
   "display_name": "Python 3.8.12 64-bit ('data_science': conda)",
   "name": "python3"
  },
  "language_info": {
   "codemirror_mode": {
    "name": "ipython",
    "version": 3
   },
   "file_extension": ".py",
   "mimetype": "text/x-python",
   "name": "python",
   "nbconvert_exporter": "python",
   "pygments_lexer": "ipython3",
   "version": "3.8.12"
  }
 },
 "nbformat": 4,
 "nbformat_minor": 4
}
