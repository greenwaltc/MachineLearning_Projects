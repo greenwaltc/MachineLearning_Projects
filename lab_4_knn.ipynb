{
 "cells": [
  {
   "cell_type": "markdown",
   "metadata": {
    "id": "DVL7_bgmIAPR"
   },
   "source": [
    "# K-Nearest Neighbor Lab\n",
    "\n",
    "\n",
    "\n"
   ]
  },
  {
   "cell_type": "code",
   "execution_count": 61,
   "metadata": {
    "id": "6ZbYjZZZ_yLV"
   },
   "outputs": [],
   "source": [
    "from sklearn.base import BaseEstimator, ClassifierMixin\n",
    "from sklearn.neighbors import KNeighborsClassifier, KNeighborsRegressor\n",
    "import numpy as np\n",
    "import pandas as pd\n",
    "import matplotlib.pyplot as plt\n",
    "\n",
    "from scipy.io import arff\n",
    "from IPython.core.display import display\n",
    "\n",
    "import math\n",
    "import copy\n",
    "\n",
    "from sklearn.preprocessing import LabelEncoder\n",
    "import pdb\n",
    "\n",
    "import warnings; warnings.simplefilter('ignore')\n",
    "from sklearn.impute import SimpleImputer"
   ]
  },
  {
   "cell_type": "markdown",
   "metadata": {
    "id": "sCcEPx5VIORj"
   },
   "source": [
    "## 1. (40%) Correctly implement the k-nearest neighbor (KNN) algorithm and the KNN regression algorithm\n",
    "\n",
    "### Code requirements\n",
    "- Use Euclidean distance to decide closest neighbors. \n",
    "- Include optional distance weighting for both algorithms\n"
   ]
  },
  {
   "cell_type": "code",
   "execution_count": 132,
   "metadata": {
    "id": "_a2KSZ_7AN0G"
   },
   "outputs": [],
   "source": [
    "class KNNClassifier(BaseEstimator,ClassifierMixin):\n",
    "    def __init__(self, columntype=[], weight_type='inverse_distance', knn=3, distance_metric=\"euclidean\"): ## add parameters here\n",
    "        \"\"\"\n",
    "        Args:\n",
    "            columntype for each column tells you if continues[real] or if nominal[categoritcal].\n",
    "            weight_type: inverse_distance voting or if non distance weighting. Options = [\"no_weight\",\"inverse_distance\"]\n",
    "        \"\"\"\n",
    "        self.columntype = columntype #Note This won't be needed until part 5\n",
    "        self.weight_type = weight_type\n",
    "        self.knn = knn\n",
    "\n",
    "    def fit(self, X, y, labels=None):\n",
    "        \"\"\" Fit the data; run the algorithm (for this lab really just saves the data :D)\n",
    "        Args:\n",
    "            X (array-like): A 2D numpy array with the training data, excluding targets\n",
    "            y (array-like): A 2D numpy array with the training targets\n",
    "        Returns:\n",
    "            self: this allows this to be chained, e.g. model.fit(X,y).predict(X_test)\n",
    "        \"\"\"\n",
    "        self.X, self.y = X, y\n",
    "        return self\n",
    "    \n",
    "    def predict(self, data):\n",
    "        \"\"\" Predict all classes for a dataset X\n",
    "        Args:\n",
    "            X (array-like): A 2D numpy array with the training data, excluding targets\n",
    "        Returns:\n",
    "            array, shape (n_samples,)\n",
    "                Predicted target values per element in X.\n",
    "        \"\"\"\n",
    "\n",
    "        predictions = np.zeros(data.shape[0])\n",
    "\n",
    "        for i in range(data.shape[0]):\n",
    "            instance = data[i, :]\n",
    "\n",
    "            distances = (self.X - instance)**2\n",
    "\n",
    "            \n",
    "            \n",
    "            distances[np.where(distances == np.inf)] = 1\n",
    "\n",
    "            distances = distances.sum(axis=1)\n",
    "            distances = np.sqrt(distances)\n",
    "            predicted_class = self._predicted_class(self.y, distances)\n",
    "            predictions[i] = predicted_class\n",
    "\n",
    "        return predictions\n",
    "\n",
    "    def _distance(self, data, instance):\n",
    "\n",
    "        pass\n",
    "\n",
    "    def _predicted_class(self, classes, distances):\n",
    "\n",
    "        data = np.append(classes.reshape(-1, 1), distances.reshape(-1, 1), axis=1)\n",
    "        data = data[data[:, 1].argsort()]\n",
    "        data = data[:self.knn, :]\n",
    "\n",
    "        if self.weight_type == 'inverse_distance':\n",
    "            data[:, 1] = np.where(data[:, 1] != 0, 1/(data[:, 1]**2), np.inf)\n",
    "        else:\n",
    "            data[:, 1] = 1\n",
    "\n",
    "        return np.bincount(data[:, 0].reshape(-1).astype(int), \n",
    "                           weights=data[:, 1].reshape(-1)) \\\n",
    "                    .argmax()\n",
    "\n",
    "    #Returns the Mean score given input data and labels\n",
    "    def score(self, X, y):\n",
    "        \"\"\" Return accuracy of model on a given dataset. Must implement own score function.\n",
    "        Args:\n",
    "            X (array-like): A 2D numpy array with data, excluding targets\n",
    "            y (array-like): A 2D numpy array with targets\n",
    "        Returns:\n",
    "            score : float\n",
    "                Mean accuracy of self.predict(X) wrt. y.\n",
    "        \"\"\"\n",
    "        predictions = self.predict(X)\n",
    "        return (predictions == y.reshape(-1)).mean()\n"
   ]
  },
  {
   "cell_type": "code",
   "execution_count": 158,
   "metadata": {},
   "outputs": [
    {
     "data": {
      "text/plain": [
       "-inf"
      ]
     },
     "execution_count": 158,
     "metadata": {},
     "output_type": "execute_result"
    }
   ],
   "source": [
    "1 - np.inf"
   ]
  },
  {
   "cell_type": "code",
   "execution_count": 18,
   "metadata": {},
   "outputs": [],
   "source": [
    "class KNNRegressor(BaseEstimator,ClassifierMixin):\n",
    "    def __init__(self, columntype=[], weight_type='inverse_distance', knn=3, distance_metric=\"euclidean\"): ## add parameters here\n",
    "        \"\"\"\n",
    "        Args:\n",
    "            columntype for each column tells you if continues[real] or if nominal[categoritcal].\n",
    "            weight_type: inverse_distance voting or if non distance weighting. Options = [\"no_weight\",\"inverse_distance\"]\n",
    "        \"\"\"\n",
    "        self.columntype = columntype #Note This won't be needed until part 5\n",
    "        self.weight_type = weight_type\n",
    "        self.knn = knn\n",
    "\n",
    "    def fit(self, X, y, labels=None):\n",
    "        \"\"\" Fit the data; run the algorithm (for this lab really just saves the data :D)\n",
    "        Args:\n",
    "            X (array-like): A 2D numpy array with the training data, excluding targets\n",
    "            y (array-like): A 2D numpy array with the training targets\n",
    "        Returns:\n",
    "            self: this allows this to be chained, e.g. model.fit(X,y).predict(X_test)\n",
    "        \"\"\"\n",
    "        self.X, self.y = X, y\n",
    "        return self\n",
    "    \n",
    "    def predict(self, X):\n",
    "        \"\"\" Predict all classes for a dataset X\n",
    "        Args:\n",
    "            X (array-like): A 2D numpy array with the training data, excluding targets\n",
    "        Returns:\n",
    "            array, shape (n_samples,)\n",
    "                Predicted target values per element in X.\n",
    "        \"\"\"\n",
    "\n",
    "        predictions = np.zeros(X.shape[0])\n",
    "\n",
    "        for i in range(X.shape[0]):\n",
    "            instance = X[i, :]\n",
    "            distances = (self.X - instance)**2\n",
    "\n",
    "            if np.any(self.columntype):\n",
    "                mask = (self.X == instance)\n",
    "                nominal_columns = np.where(self.columntype == 1)\n",
    "                distances[nominal_columns] = mask[nominal_columns]\n",
    "\n",
    "            distances = distances.sum(axis=1)\n",
    "            distances = np.sqrt(distances)\n",
    "            predicted_value = self._predicted_value(self.y, distances)\n",
    "            predictions[i] = predicted_value\n",
    "\n",
    "        return predictions\n",
    "\n",
    "    def _predicted_value(self, classes, distances):\n",
    "\n",
    "        data = np.append(classes.reshape(-1, 1), distances.reshape(-1, 1), axis=1)\n",
    "        data = data[data[:, 1].argsort()]\n",
    "        data = data[:self.knn, :]\n",
    "\n",
    "        if self.weight_type == 'inverse_distance':\n",
    "            data[:, 1] = np.where(data[:, 1] != 0, 1/(data[:, 1]**2), np.inf)\n",
    "        else:\n",
    "            data[:, 1] = 1\n",
    "\n",
    "        return np.sum(data[:, 1] * data[:, 0]) / data[:, 1].sum()\n",
    "\n",
    "    #Returns the Mean score given input data and labels\n",
    "    def score(self, X, y):\n",
    "        \"\"\" Return accuracy of model on a given dataset. Must implement own score function.\n",
    "        Args:\n",
    "            X (array-like): A 2D numpy array with data, excluding targets\n",
    "            y (array-like): A 2D numpy array with targets\n",
    "        Returns:\n",
    "            score : float\n",
    "                Mean accuracy of self.predict(X) wrt. y.\n",
    "        \"\"\"\n",
    "        predictions = self.predict(X)\n",
    "        return ((predictions - y.reshape(-1))**2).mean()"
   ]
  },
  {
   "cell_type": "code",
   "execution_count": 148,
   "metadata": {},
   "outputs": [],
   "source": [
    "def load_data(filename):\n",
    "    data = arff.loadarff(filename)\n",
    "    df = pd.DataFrame(data[0])\n",
    "\n",
    "    for i in range(len(df.dtypes)):\n",
    "        if df.dtypes.astype(str).iloc[i] == 'object':\n",
    "            column = df.columns[i]\n",
    "            df[column] = df[column] \\\n",
    "                            .astype(str).str \\\n",
    "                            .split(\"\\'\", expand=True) \\\n",
    "                            .iloc[:,1]\n",
    "    return df\n",
    "\n",
    "def encode_X(X1, X2):\n",
    "    columns = X1.columns\n",
    "\n",
    "    X1_unknown_nominal = (X1 == \"?\")\n",
    "    X2_unknown_nominal = (X2 == \"?\")\n",
    "\n",
    "    for column in columns:\n",
    "        if X1[column].dtype == 'object':\n",
    "            le = LabelEncoder()\n",
    "            le.fit(X1[column])\n",
    "            X1[column] = le.transform(X1[column])\n",
    "            X2[column] = le.transform(X2[column])\n",
    "    \n",
    "    X1[X1_unknown_nominal] = np.inf\n",
    "    X2[X2_unknown_nominal] = np.inf\n",
    "    X1[pd.isna(X1)] = np.inf\n",
    "    X2[pd.isna(X2)] = np.inf\n",
    "\n",
    "    return X1, X2\n",
    "\n",
    "def encode_y(y1, y2):\n",
    "    name = y1.name\n",
    "    le = LabelEncoder()\n",
    "    le.fit(y1)\n",
    "    y1 = le.transform(y1)\n",
    "    y2 = le.transform(y2)\n",
    "    return pd.DataFrame(y1, columns=[name]), pd.DataFrame(y2, columns=[name])\n",
    "\n",
    "def get_column_types(df):\n",
    "    c_types = df.dtypes.astype(str)\n",
    "    c_types = c_types.map({'float64': 0, 'object': 1})\n",
    "    return c_types.to_numpy().reshape(-1)[:-1]\n",
    "\n",
    "def normalize(X1, X2):\n",
    "    len_X1 = X1.shape[0]\n",
    "    X = np.append(X1, X2, axis=0)\n",
    "    feature_mins = X.min(axis=0)\n",
    "    feature_maxs = X.max(axis=0)\n",
    "\n",
    "    X = (X-feature_mins) / (feature_maxs - feature_mins)\n",
    "    \n",
    "    return X[:len_X1, :], X[len_X1:, :]"
   ]
  },
  {
   "cell_type": "markdown",
   "metadata": {},
   "source": [
    "## 1.1 Debug and Evaluation\n",
    "\n",
    "Debug and Evaluate your model using the parameters below:\n",
    "\n",
    "- Use distance weighting\n",
    "- KNN = 3 (three nearest neighbors)\n",
    "- Don’t normalize the data\n",
    "- Use Euclidean Distance\n",
    "\n",
    "---\n",
    "\n",
    "### 1.1.1 Debug\n",
    "\n",
    "- Use this [training set](https://raw.githubusercontent.com/cs472ta/CS472/master/datasets/glass_train.arff) and this [test set](https://raw.githubusercontent.com/cs472ta/CS472/master/datasets/glass_test.arff)\n",
    "- Use distance weighting\n",
    "- KNN = 3 (three nearest neighbors)\n",
    "- Don’t normalize the data\n",
    "- Use Euclidean Distance\n",
    "\n",
    "Expected Results:\n",
    "- Not using inverse weighted distancing = roughly [68.29%]\n",
    "- Link to [debug solution](https://github.com/cs472ta/CS472/blob/master/debug_solutions/glass_no_inv_prediction.csv)\n",
    "\n",
    "- Using inverse weighted distancing = roughly [74.39%]\n",
    "- Link to [debug solution](https://github.com/cs472ta/CS472/blob/master/debug_solutions/glass_inv_prediction.csv)\n"
   ]
  },
  {
   "cell_type": "code",
   "execution_count": 43,
   "metadata": {},
   "outputs": [
    {
     "name": "stdout",
     "output_type": "stream",
     "text": [
      "Score with inverted distance weighting: 0.7439\n",
      "Score with no inverted distance weighting: 0.6829\n"
     ]
    }
   ],
   "source": [
    "# Load glass data\n",
    "glass_trainDF = load_data('datasets/glass_train.arff')\n",
    "glass_testDF = load_data('datasets/glass_test.arff')\n",
    "\n",
    "# Get column types\n",
    "column_types = get_column_types(glass_trainDF)\n",
    "\n",
    "glass_X_trainDF, glass_y_trainDF = glass_trainDF.iloc[:, :-1], glass_trainDF.iloc[:, -1]\n",
    "glass_X_testDF, glass_y_testDF = glass_testDF.iloc[:, :-1], glass_testDF.iloc[:, -1]\n",
    "\n",
    "glass_X_train, glass_X_test = encode_X(glass_X_trainDF, glass_X_testDF)\n",
    "glass_y_train, glass_y_test = encode_y(glass_y_trainDF, glass_y_testDF)\n",
    "\n",
    "X_train = glass_X_train.to_numpy()\n",
    "X_test = glass_X_test.to_numpy()\n",
    "y_train = glass_y_train.to_numpy()\n",
    "y_test = glass_y_test.to_numpy()\n",
    "\n",
    "# Train on training set\n",
    "glass_knn_d_weighting = KNNClassifier(columntype=column_types)\n",
    "glass_knn_nd_weighting = KNNClassifier(columntype=column_types, weight_type=None)\n",
    "glass_knn_d_weighting.fit(X_train, y_train)\n",
    "glass_knn_nd_weighting.fit(X_train, y_train)\n",
    "\n",
    "# Predict on test set\n",
    "glass_score_d_weighting = glass_knn_d_weighting.score(X_test, y_test)\n",
    "glass_score_nd_weighting = glass_knn_nd_weighting.score(X_test, y_test)\n",
    "print(\"Score with inverted distance weighting: %.4f\" % glass_score_d_weighting)\n",
    "print(\"Score with no inverted distance weighting: %.4f\" % glass_score_nd_weighting)"
   ]
  },
  {
   "cell_type": "markdown",
   "metadata": {},
   "source": [
    "### 1.1.2 Evaluate\n",
    "\n",
    "We will evaluate your model based on its performance on the [diabetes](https://archive.ics.uci.edu/ml/datasets/Diabetes) problem.\n",
    "- Use this [training set](https://raw.githubusercontent.com/cs472ta/CS472/master/datasets/diabetes_train.arff) and this [test set](https://raw.githubusercontent.com/cs472ta/CS472/master/datasets/diabetes_test.arff)"
   ]
  },
  {
   "cell_type": "code",
   "execution_count": 44,
   "metadata": {},
   "outputs": [
    {
     "name": "stdout",
     "output_type": "stream",
     "text": [
      "Evaluation dataset KNN accuracy: 0.891\n"
     ]
    }
   ],
   "source": [
    "# Load diabetes data\n",
    "diabetes_trainDF = load_data('datasets/diabetes_train.arff')\n",
    "diabetes_testDF = load_data('datasets/diabetes_test.arff')\n",
    "\n",
    "# Get column types\n",
    "column_types = get_column_types(diabetes_trainDF)\n",
    "\n",
    "diabetes_X_trainDF, diabetes_y_trainDF = diabetes_trainDF.iloc[:, :-1], diabetes_trainDF.iloc[:, -1]\n",
    "diabetes_X_testDF, diabetes_y_testDF = diabetes_testDF.iloc[:, :-1], diabetes_testDF.iloc[:, -1]\n",
    "\n",
    "diabetes_X_train, diabetes_X_test = encode_X(diabetes_X_trainDF, diabetes_X_testDF)\n",
    "diabetes_y_train, diabetes_y_test = encode_y(diabetes_y_trainDF, diabetes_y_testDF)\n",
    "\n",
    "# Train on training set\n",
    "X_train = diabetes_X_train.to_numpy()\n",
    "X_test = diabetes_X_test.to_numpy()\n",
    "y_train = diabetes_y_train.to_numpy()\n",
    "y_test = diabetes_y_test.to_numpy()\n",
    "\n",
    "diabetes_knn = KNNClassifier(columntype=column_types)\n",
    "diabetes_knn.fit(X_train, y_train)\n",
    "\n",
    "# Predict on test set\n",
    "score = diabetes_knn.score(X_test, y_test)\n",
    "print(\"Evaluation dataset KNN accuracy: %.3f\" % score)\n"
   ]
  },
  {
   "cell_type": "markdown",
   "metadata": {
    "id": "9vWiTdlbR2Xh"
   },
   "source": [
    "## 2. (10%) Use the k-nearest neighbor algorithm (without distance weighting) for the [magic telescope](http://archive.ics.uci.edu/ml/datasets/MAGIC+Gamma+Telescope) problem\n",
    "\n",
    "- Use this [training set](https://raw.githubusercontent.com/cs472ta/CS472/master/datasets/magic_telescope_train.arff) and this [test set](https://raw.githubusercontent.com/cs472ta/CS472/master/datasets/magic_telescope_test.arff) \n",
    "\n",
    "### 2.1\n",
    "- Try it with k=3 and without normalization\n"
   ]
  },
  {
   "cell_type": "code",
   "execution_count": 45,
   "metadata": {},
   "outputs": [
    {
     "data": {
      "text/html": [
       "<div>\n",
       "<style scoped>\n",
       "    .dataframe tbody tr th:only-of-type {\n",
       "        vertical-align: middle;\n",
       "    }\n",
       "\n",
       "    .dataframe tbody tr th {\n",
       "        vertical-align: top;\n",
       "    }\n",
       "\n",
       "    .dataframe thead th {\n",
       "        text-align: right;\n",
       "    }\n",
       "</style>\n",
       "<table border=\"1\" class=\"dataframe\">\n",
       "  <thead>\n",
       "    <tr style=\"text-align: right;\">\n",
       "      <th></th>\n",
       "      <th>fLength</th>\n",
       "      <th>fWidth</th>\n",
       "      <th>fSize</th>\n",
       "      <th>fConc</th>\n",
       "      <th>fConc1</th>\n",
       "      <th>fAsym</th>\n",
       "      <th>fM3Long</th>\n",
       "      <th>fM3Trans</th>\n",
       "      <th>fAlpha</th>\n",
       "      <th>fDist</th>\n",
       "      <th>class</th>\n",
       "    </tr>\n",
       "  </thead>\n",
       "  <tbody>\n",
       "    <tr>\n",
       "      <th>0</th>\n",
       "      <td>22.7815</td>\n",
       "      <td>14.9526</td>\n",
       "      <td>2.4362</td>\n",
       "      <td>0.4982</td>\n",
       "      <td>0.2509</td>\n",
       "      <td>-14.2836</td>\n",
       "      <td>-9.3635</td>\n",
       "      <td>13.0939</td>\n",
       "      <td>3.0779</td>\n",
       "      <td>141.562</td>\n",
       "      <td>g</td>\n",
       "    </tr>\n",
       "    <tr>\n",
       "      <th>1</th>\n",
       "      <td>40.6756</td>\n",
       "      <td>15.5940</td>\n",
       "      <td>2.7447</td>\n",
       "      <td>0.2772</td>\n",
       "      <td>0.1449</td>\n",
       "      <td>19.6226</td>\n",
       "      <td>9.0297</td>\n",
       "      <td>7.4157</td>\n",
       "      <td>15.4260</td>\n",
       "      <td>193.234</td>\n",
       "      <td>g</td>\n",
       "    </tr>\n",
       "  </tbody>\n",
       "</table>\n",
       "</div>"
      ],
      "text/plain": [
       "   fLength   fWidth   fSize   fConc  fConc1    fAsym  fM3Long  fM3Trans  \\\n",
       "0  22.7815  14.9526  2.4362  0.4982  0.2509 -14.2836  -9.3635   13.0939   \n",
       "1  40.6756  15.5940  2.7447  0.2772  0.1449  19.6226   9.0297    7.4157   \n",
       "\n",
       "    fAlpha    fDist class  \n",
       "0   3.0779  141.562     g  \n",
       "1  15.4260  193.234     g  "
      ]
     },
     "metadata": {},
     "output_type": "display_data"
    },
    {
     "name": "stdout",
     "output_type": "stream",
     "text": [
      "(12354, 11)\n"
     ]
    },
    {
     "data": {
      "text/html": [
       "<div>\n",
       "<style scoped>\n",
       "    .dataframe tbody tr th:only-of-type {\n",
       "        vertical-align: middle;\n",
       "    }\n",
       "\n",
       "    .dataframe tbody tr th {\n",
       "        vertical-align: top;\n",
       "    }\n",
       "\n",
       "    .dataframe thead th {\n",
       "        text-align: right;\n",
       "    }\n",
       "</style>\n",
       "<table border=\"1\" class=\"dataframe\">\n",
       "  <thead>\n",
       "    <tr style=\"text-align: right;\">\n",
       "      <th></th>\n",
       "      <th>fLength</th>\n",
       "      <th>fWidth</th>\n",
       "      <th>fSize</th>\n",
       "      <th>fConc</th>\n",
       "      <th>fConc1</th>\n",
       "      <th>fAsym</th>\n",
       "      <th>fM3Long</th>\n",
       "      <th>fM3Trans</th>\n",
       "      <th>fAlpha</th>\n",
       "      <th>fDist</th>\n",
       "      <th>class</th>\n",
       "    </tr>\n",
       "  </thead>\n",
       "  <tbody>\n",
       "    <tr>\n",
       "      <th>0</th>\n",
       "      <td>30.5540</td>\n",
       "      <td>21.1807</td>\n",
       "      <td>2.7509</td>\n",
       "      <td>0.2715</td>\n",
       "      <td>0.1500</td>\n",
       "      <td>2.1798</td>\n",
       "      <td>-20.8938</td>\n",
       "      <td>-15.2262</td>\n",
       "      <td>2.2982</td>\n",
       "      <td>197.390</td>\n",
       "      <td>g</td>\n",
       "    </tr>\n",
       "    <tr>\n",
       "      <th>1</th>\n",
       "      <td>59.2444</td>\n",
       "      <td>10.4634</td>\n",
       "      <td>2.8051</td>\n",
       "      <td>0.4019</td>\n",
       "      <td>0.1971</td>\n",
       "      <td>49.4360</td>\n",
       "      <td>25.1317</td>\n",
       "      <td>7.0386</td>\n",
       "      <td>71.0828</td>\n",
       "      <td>48.129</td>\n",
       "      <td>h</td>\n",
       "    </tr>\n",
       "  </tbody>\n",
       "</table>\n",
       "</div>"
      ],
      "text/plain": [
       "   fLength   fWidth   fSize   fConc  fConc1    fAsym  fM3Long  fM3Trans  \\\n",
       "0  30.5540  21.1807  2.7509  0.2715  0.1500   2.1798 -20.8938  -15.2262   \n",
       "1  59.2444  10.4634  2.8051  0.4019  0.1971  49.4360  25.1317    7.0386   \n",
       "\n",
       "    fAlpha    fDist class  \n",
       "0   2.2982  197.390     g  \n",
       "1  71.0828   48.129     h  "
      ]
     },
     "metadata": {},
     "output_type": "display_data"
    },
    {
     "name": "stdout",
     "output_type": "stream",
     "text": [
      "(6666, 11)\n"
     ]
    }
   ],
   "source": [
    "# Load diabetes data\n",
    "magic_telescope_trainDF = load_data('datasets/magic_telescope_train.arff')\n",
    "magic_telescope_testDF = load_data('datasets/magic_telescope_test.arff')\n",
    "\n",
    "display(magic_telescope_trainDF.head(2))\n",
    "print(magic_telescope_trainDF.shape)\n",
    "display(magic_telescope_testDF.head(2))\n",
    "print(magic_telescope_testDF.shape)\n",
    "\n",
    "# Get column types\n",
    "magic_telescope_column_types = get_column_types(magic_telescope_trainDF)[:-1]\n",
    "\n",
    "# X and y splits\n",
    "magic_telescope_X_trainDF, magic_telescope_y_trainDF = magic_telescope_trainDF.iloc[:, :-1], magic_telescope_trainDF.iloc[:, -1]\n",
    "magic_telescope_X_testDF, magic_telescope_y_testDF = magic_telescope_testDF.iloc[:, :-1], magic_telescope_testDF.iloc[:, -1]\n",
    "\n",
    "magic_telescope_X_train, magic_telescope_X_test = encode_X(magic_telescope_X_trainDF, magic_telescope_X_testDF)\n",
    "magic_telescope_y_train, magic_telescope_y_test = encode_y(magic_telescope_y_trainDF, magic_telescope_y_testDF)\n",
    "\n",
    "# To numpy arrays\n",
    "X_telescope_train = magic_telescope_X_train.to_numpy()\n",
    "X_telescope_test = magic_telescope_X_test.to_numpy()\n",
    "y_telescope_train = magic_telescope_y_train.to_numpy()\n",
    "y_telescope_test = magic_telescope_y_test.to_numpy()\n",
    "\n",
    "# Normalize input features\n",
    "X_telescope_train_norm, X_telescope_test_norm = normalize(X_telescope_train, X_telescope_test)"
   ]
  },
  {
   "cell_type": "code",
   "execution_count": 49,
   "metadata": {
    "id": "4SSoasDQSKXb"
   },
   "outputs": [
    {
     "name": "stdout",
     "output_type": "stream",
     "text": [
      "Magic telescope, not normalized, no distance weighting accuracy: 0.808\n"
     ]
    }
   ],
   "source": [
    "magic_telescope_knn = KNNClassifier(columntype=magic_telescope_column_types, weight_type=None)\n",
    "magic_telescope_knn.fit(X_telescope_train, y_telescope_train)\n",
    "\n",
    "# Predict on test set\n",
    "score = magic_telescope_knn.score(X_telescope_test, y_telescope_test)\n",
    "print(\"Magic telescope, not normalized, no distance weighting accuracy: %.3f\" % score)"
   ]
  },
  {
   "cell_type": "markdown",
   "metadata": {},
   "source": [
    "### 2.2\n",
    "- Try it with k=3 and with normalization (input features normalized between 0 and 1). Use the normalization formula (x-xmin)/(xmax-xmin)"
   ]
  },
  {
   "cell_type": "code",
   "execution_count": 51,
   "metadata": {},
   "outputs": [
    {
     "name": "stdout",
     "output_type": "stream",
     "text": [
      "Magic telescope, not normalized, no distance weighting accuracy: 0.830\n"
     ]
    }
   ],
   "source": [
    "# Train/Predict with normalization\n",
    "magic_telescope_knn.fit(X_telescope_train_norm, y_telescope_train)\n",
    "\n",
    "# Predict on test set\n",
    "score = magic_telescope_knn.score(X_telescope_test_norm, y_telescope_test)\n",
    "print(\"Magic telescope, not normalized, no distance weighting accuracy: %.3f\" % score)"
   ]
  },
  {
   "cell_type": "markdown",
   "metadata": {},
   "source": [
    "*Discuss the accuracy results of using normalized data vs. unnormalized data*"
   ]
  },
  {
   "cell_type": "markdown",
   "metadata": {},
   "source": [
    "The unnormalized accuracy for the magic telescope dataset was 80.8% while the normalized accuracy on the data was 83%. This 2.2% jump in accuracy seems very significant considering there are 12354 training examples and 6666 testing examples. Normalizing may not always provide better results but in this case it does."
   ]
  },
  {
   "cell_type": "markdown",
   "metadata": {},
   "source": [
    "### 2.3\n",
    "\n",
    "- Using your normalized data, create one graph with classification accuracy on the test set over k values. \n",
    "    - Use odd values of k from 1 to 15.\n",
    "- As a rough sanity check, typical knn accuracies for the magic telescope data set are 75-85%"
   ]
  },
  {
   "cell_type": "code",
   "execution_count": 52,
   "metadata": {
    "pycharm": {
     "is_executing": true
    }
   },
   "outputs": [
    {
     "name": "stdout",
     "output_type": "stream",
     "text": [
      "Magic Telescope KNN 1\n",
      "Magic Telescope KNN 3\n",
      "Magic Telescope KNN 5\n",
      "Magic Telescope KNN 7\n",
      "Magic Telescope KNN 9\n",
      "Magic Telescope KNN 11\n",
      "Magic Telescope KNN 13\n",
      "Magic Telescope KNN 15\n"
     ]
    }
   ],
   "source": [
    "# Train/Predict with normalization using k=1,3,...,15\n",
    "magic_nw_knns = np.arange(1, 16, 2)\n",
    "magic_nw_accuracies = []\n",
    "for knn in magic_nw_knns:\n",
    "    print(\"Magic Telescope KNN %d\" % knn)\n",
    "    knnc = KNNClassifier(columntype=magic_telescope_column_types, knn=knn, weight_type=None)\n",
    "    magic_nw_accuracies.append(knnc.fit(X_telescope_train_norm, y_telescope_train) \\\n",
    "        .score(X_telescope_test_norm, y_telescope_test))"
   ]
  },
  {
   "cell_type": "code",
   "execution_count": 53,
   "metadata": {
    "pycharm": {
     "is_executing": true
    }
   },
   "outputs": [
    {
     "data": {
      "text/plain": [
       "Text(0.5, 1.0, 'Magic Telescope (no weighting) Accuracy vs K-Nearest Neighbors')"
      ]
     },
     "execution_count": 53,
     "metadata": {},
     "output_type": "execute_result"
    },
    {
     "data": {
      "image/png": "[encoded data removed]",
      "text/plain": [
       "<Figure size 432x288 with 1 Axes>"
      ]
     },
     "metadata": {
      "needs_background": "light"
     },
     "output_type": "display_data"
    }
   ],
   "source": [
    "# Graph classification accuracy over k\n",
    "plt.plot(magic_nw_knns, magic_nw_accuracies)\n",
    "plt.xlabel('K-Nearest Neighbors')\n",
    "plt.ylabel('Accuracy')\n",
    "plt.title('Magic Telescope (no weighting) Accuracy vs K-Nearest Neighbors')"
   ]
  },
  {
   "cell_type": "markdown",
   "metadata": {},
   "source": [
    "# For the rest of the experiments use only normalized data"
   ]
  },
  {
   "cell_type": "markdown",
   "metadata": {
    "id": "SIRG42TgSR4x"
   },
   "source": [
    "## 3. (10%) Use the regression variation of your algorithm (without distance weighting) for the [housing price prediction](https://www.cs.toronto.edu/~delve/data/boston/bostonDetail.html) problem.\n",
    "\n",
    "- Use this [training set](https://raw.githubusercontent.com/cs472ta/CS472/master/datasets/housing_train.arff) and this [test set](https://raw.githubusercontent.com/cs472ta/CS472/master/datasets/housing_test.arff).\n",
    "- Use Mean Square Error (MSE) on the test set as your accuracy metric for this case.\n",
    "    - Do not normalize regression output values\n",
    "- Graph MSE on the test set with odd values of k from 1 to 15\n"
   ]
  },
  {
   "cell_type": "code",
   "execution_count": 27,
   "metadata": {
    "id": "KBGUn43ASiXW",
    "pycharm": {
     "is_executing": true
    }
   },
   "outputs": [
    {
     "data": {
      "text/html": [
       "<div>\n",
       "<style scoped>\n",
       "    .dataframe tbody tr th:only-of-type {\n",
       "        vertical-align: middle;\n",
       "    }\n",
       "\n",
       "    .dataframe tbody tr th {\n",
       "        vertical-align: top;\n",
       "    }\n",
       "\n",
       "    .dataframe thead th {\n",
       "        text-align: right;\n",
       "    }\n",
       "</style>\n",
       "<table border=\"1\" class=\"dataframe\">\n",
       "  <thead>\n",
       "    <tr style=\"text-align: right;\">\n",
       "      <th></th>\n",
       "      <th>CRIM</th>\n",
       "      <th>ZN</th>\n",
       "      <th>INDUS</th>\n",
       "      <th>CHAS</th>\n",
       "      <th>NOX</th>\n",
       "      <th>RM</th>\n",
       "      <th>AGE</th>\n",
       "      <th>DIS</th>\n",
       "      <th>RAD</th>\n",
       "      <th>TAX</th>\n",
       "      <th>PTRATIO</th>\n",
       "      <th>B</th>\n",
       "      <th>LSTAT</th>\n",
       "      <th>MEDV</th>\n",
       "    </tr>\n",
       "  </thead>\n",
       "  <tbody>\n",
       "    <tr>\n",
       "      <th>0</th>\n",
       "      <td>0.02731</td>\n",
       "      <td>0.0</td>\n",
       "      <td>7.07</td>\n",
       "      <td>0</td>\n",
       "      <td>0.469</td>\n",
       "      <td>6.421</td>\n",
       "      <td>78.9</td>\n",
       "      <td>4.9671</td>\n",
       "      <td>2.0</td>\n",
       "      <td>242.0</td>\n",
       "      <td>17.8</td>\n",
       "      <td>396.90</td>\n",
       "      <td>9.14</td>\n",
       "      <td>21.6</td>\n",
       "    </tr>\n",
       "    <tr>\n",
       "      <th>1</th>\n",
       "      <td>0.02729</td>\n",
       "      <td>0.0</td>\n",
       "      <td>7.07</td>\n",
       "      <td>0</td>\n",
       "      <td>0.469</td>\n",
       "      <td>7.185</td>\n",
       "      <td>61.1</td>\n",
       "      <td>4.9671</td>\n",
       "      <td>2.0</td>\n",
       "      <td>242.0</td>\n",
       "      <td>17.8</td>\n",
       "      <td>392.83</td>\n",
       "      <td>4.03</td>\n",
       "      <td>34.7</td>\n",
       "    </tr>\n",
       "  </tbody>\n",
       "</table>\n",
       "</div>"
      ],
      "text/plain": [
       "      CRIM   ZN  INDUS CHAS    NOX     RM   AGE     DIS  RAD    TAX  PTRATIO  \\\n",
       "0  0.02731  0.0   7.07    0  0.469  6.421  78.9  4.9671  2.0  242.0     17.8   \n",
       "1  0.02729  0.0   7.07    0  0.469  7.185  61.1  4.9671  2.0  242.0     17.8   \n",
       "\n",
       "        B  LSTAT  MEDV  \n",
       "0  396.90   9.14  21.6  \n",
       "1  392.83   4.03  34.7  "
      ]
     },
     "metadata": {},
     "output_type": "display_data"
    },
    {
     "name": "stdout",
     "output_type": "stream",
     "text": [
      "(455, 14)\n"
     ]
    },
    {
     "data": {
      "text/html": [
       "<div>\n",
       "<style scoped>\n",
       "    .dataframe tbody tr th:only-of-type {\n",
       "        vertical-align: middle;\n",
       "    }\n",
       "\n",
       "    .dataframe tbody tr th {\n",
       "        vertical-align: top;\n",
       "    }\n",
       "\n",
       "    .dataframe thead th {\n",
       "        text-align: right;\n",
       "    }\n",
       "</style>\n",
       "<table border=\"1\" class=\"dataframe\">\n",
       "  <thead>\n",
       "    <tr style=\"text-align: right;\">\n",
       "      <th></th>\n",
       "      <th>CRIM</th>\n",
       "      <th>ZN</th>\n",
       "      <th>INDUS</th>\n",
       "      <th>CHAS</th>\n",
       "      <th>NOX</th>\n",
       "      <th>RM</th>\n",
       "      <th>AGE</th>\n",
       "      <th>DIS</th>\n",
       "      <th>RAD</th>\n",
       "      <th>TAX</th>\n",
       "      <th>PTRATIO</th>\n",
       "      <th>B</th>\n",
       "      <th>LSTAT</th>\n",
       "      <th>MEDV</th>\n",
       "    </tr>\n",
       "  </thead>\n",
       "  <tbody>\n",
       "    <tr>\n",
       "      <th>0</th>\n",
       "      <td>0.00632</td>\n",
       "      <td>18.0</td>\n",
       "      <td>2.31</td>\n",
       "      <td>0</td>\n",
       "      <td>0.538</td>\n",
       "      <td>6.575</td>\n",
       "      <td>65.2</td>\n",
       "      <td>4.0900</td>\n",
       "      <td>1.0</td>\n",
       "      <td>296.0</td>\n",
       "      <td>15.3</td>\n",
       "      <td>396.90</td>\n",
       "      <td>4.98</td>\n",
       "      <td>24.0</td>\n",
       "    </tr>\n",
       "    <tr>\n",
       "      <th>1</th>\n",
       "      <td>0.22489</td>\n",
       "      <td>12.5</td>\n",
       "      <td>7.87</td>\n",
       "      <td>0</td>\n",
       "      <td>0.524</td>\n",
       "      <td>6.377</td>\n",
       "      <td>94.3</td>\n",
       "      <td>6.3467</td>\n",
       "      <td>5.0</td>\n",
       "      <td>311.0</td>\n",
       "      <td>15.2</td>\n",
       "      <td>392.52</td>\n",
       "      <td>20.45</td>\n",
       "      <td>15.0</td>\n",
       "    </tr>\n",
       "  </tbody>\n",
       "</table>\n",
       "</div>"
      ],
      "text/plain": [
       "      CRIM    ZN  INDUS CHAS    NOX     RM   AGE     DIS  RAD    TAX  PTRATIO  \\\n",
       "0  0.00632  18.0   2.31    0  0.538  6.575  65.2  4.0900  1.0  296.0     15.3   \n",
       "1  0.22489  12.5   7.87    0  0.524  6.377  94.3  6.3467  5.0  311.0     15.2   \n",
       "\n",
       "        B  LSTAT  MEDV  \n",
       "0  396.90   4.98  24.0  \n",
       "1  392.52  20.45  15.0  "
      ]
     },
     "metadata": {},
     "output_type": "display_data"
    },
    {
     "name": "stdout",
     "output_type": "stream",
     "text": [
      "(51, 14)\n"
     ]
    }
   ],
   "source": [
    "# Load housing price prediction data\n",
    "housing_trainDF = load_data('datasets/housing_train.arff')\n",
    "housing_testDF = load_data('datasets/housing_test.arff')\n",
    "\n",
    "display(housing_trainDF.head(2))\n",
    "print(housing_trainDF.shape)\n",
    "display(housing_testDF.head(2))\n",
    "print(housing_testDF.shape)\n",
    "\n",
    "# Get column types\n",
    "housing_column_types = get_column_types(housing_trainDF)[:-1]\n",
    "\n",
    "# X and y splits\n",
    "housing_X_trainDF, housing_y_trainDF = housing_trainDF.iloc[:, :-1], housing_trainDF.iloc[:, -1]\n",
    "housing_X_testDF, housing_y_testDF = housing_testDF.iloc[:, :-1], housing_testDF.iloc[:, -1]\n",
    "\n",
    "housing_X_train, housing_X_test = encode_X(housing_X_trainDF, housing_X_testDF)\n",
    "housing_y_train, housing_y_test = housing_y_trainDF, housing_y_testDF\n",
    "\n",
    "# To numpy arrays\n",
    "X_housing_train = housing_X_train.to_numpy()\n",
    "X_housing_test = housing_X_test.to_numpy()\n",
    "y_housing_train = housing_y_train.to_numpy()\n",
    "y_housing_test = housing_y_test.to_numpy()\n",
    "\n",
    "# Normalize input features\n",
    "X_housing_train_norm, X_housing_test_norm = normalize(X_housing_train, X_housing_test)"
   ]
  },
  {
   "cell_type": "code",
   "execution_count": 28,
   "metadata": {},
   "outputs": [
    {
     "name": "stdout",
     "output_type": "stream",
     "text": [
      "Housing KNN 1\n",
      "Housing KNN 3\n",
      "Housing KNN 5\n",
      "Housing KNN 7\n",
      "Housing KNN 9\n",
      "Housing KNN 11\n",
      "Housing KNN 13\n",
      "Housing KNN 15\n"
     ]
    }
   ],
   "source": [
    "# Train/Predict using k=1,3,...,15\n",
    "house_nw_knns = np.arange(1, 16, 2)\n",
    "house_nw_mses = []\n",
    "for knn in house_nw_knns:\n",
    "    print(\"Housing KNN %d\" % knn)\n",
    "    knnr = KNNRegressor(columntype=housing_column_types, knn=knn, weight_type=None)\n",
    "    house_nw_mses.append(knnr.fit(X_housing_train_norm, y_housing_train) \\\n",
    "        .score(X_housing_test_norm, y_housing_test))"
   ]
  },
  {
   "cell_type": "code",
   "execution_count": 54,
   "metadata": {},
   "outputs": [
    {
     "data": {
      "text/plain": [
       "Text(0.5, 1.0, 'Housing (no weighting) MSE vs K-Nearest Neighbors')"
      ]
     },
     "execution_count": 54,
     "metadata": {},
     "output_type": "execute_result"
    },
    {
     "data": {
      "image/png": "[encoded data removed]",
      "text/plain": [
       "<Figure size 432x288 with 1 Axes>"
      ]
     },
     "metadata": {
      "needs_background": "light"
     },
     "output_type": "display_data"
    }
   ],
   "source": [
    "# Graph MSE over k\n",
    "plt.plot(house_nw_knns, house_nw_mses)\n",
    "plt.xlabel('K-Nearest Neighbors')\n",
    "plt.ylabel('MSE')\n",
    "plt.title('Housing (no weighting) MSE vs K-Nearest Neighbors')"
   ]
  },
  {
   "cell_type": "markdown",
   "metadata": {
    "id": "v19fpixqTe-7"
   },
   "source": [
    "## 4. (15%) Repeat your experiments for magic telescope and housing using distance-weighted (inverse of distance squared) voting and discuss your results.\n"
   ]
  },
  {
   "cell_type": "markdown",
   "metadata": {},
   "source": [
    "## 4.1 Magic Telescope Dataset"
   ]
  },
  {
   "cell_type": "code",
   "execution_count": 30,
   "metadata": {
    "id": "ZCPFUAGTS2sX",
    "pycharm": {
     "is_executing": true
    }
   },
   "outputs": [
    {
     "name": "stdout",
     "output_type": "stream",
     "text": [
      "Magic Telescore KNN 1\n",
      "Magic Telescore KNN 3\n",
      "Magic Telescore KNN 5\n",
      "Magic Telescore KNN 7\n",
      "Magic Telescore KNN 9\n",
      "Magic Telescore KNN 11\n",
      "Magic Telescore KNN 13\n",
      "Magic Telescore KNN 15\n"
     ]
    }
   ],
   "source": [
    "# Train/Predict magic telescope using distance-weighted voting\n",
    "magic_w_knns = np.arange(1, 16, 2)\n",
    "magic_w_accuracies = []\n",
    "for knn in magic_w_knns:\n",
    "    print(\"Magic Telescore KNN %d\" % knn)\n",
    "    knnc = KNNClassifier(columntype=magic_telescope_column_types, knn=knn)\n",
    "    magic_w_accuracies.append(knnc.fit(X_telescope_train_norm, y_telescope_train) \\\n",
    "        .score(X_telescope_test_norm, y_telescope_test))"
   ]
  },
  {
   "cell_type": "code",
   "execution_count": 31,
   "metadata": {},
   "outputs": [
    {
     "data": {
      "text/plain": [
       "<matplotlib.legend.Legend at 0x18be85c1cd0>"
      ]
     },
     "execution_count": 31,
     "metadata": {},
     "output_type": "execute_result"
    },
    {
     "data": {
      "image/png": "[encoded data removed]",
      "text/plain": [
       "<Figure size 432x288 with 1 Axes>"
      ]
     },
     "metadata": {
      "needs_background": "light"
     },
     "output_type": "display_data"
    }
   ],
   "source": [
    "# Graph no distance weighting and distance weighting comp for magic telescope\n",
    "plt.plot(magic_nw_knns, magic_nw_accuracies, label='No distance weighting')\n",
    "plt.plot(magic_w_knns, magic_w_accuracies, label='Distance weighting')\n",
    "plt.xlabel('K-Nearest Neighbors')\n",
    "plt.ylabel('Accuracy')\n",
    "plt.title('Magic Telescope Distance Weighing vs No Distance Weighting')\n",
    "plt.legend()"
   ]
  },
  {
   "cell_type": "markdown",
   "metadata": {},
   "source": [
    "## 4.2 Housing Dataset"
   ]
  },
  {
   "cell_type": "code",
   "execution_count": 32,
   "metadata": {
    "pycharm": {
     "is_executing": true
    }
   },
   "outputs": [
    {
     "name": "stdout",
     "output_type": "stream",
     "text": [
      "Housing KNN 1\n",
      "Housing KNN 3\n",
      "Housing KNN 5\n",
      "Housing KNN 7\n",
      "Housing KNN 9\n",
      "Housing KNN 11\n",
      "Housing KNN 13\n",
      "Housing KNN 15\n"
     ]
    }
   ],
   "source": [
    "# Train/Predict housing using distance-weighted voting\n",
    "house_w_knns = np.arange(1, 16, 2)\n",
    "house_w_mses = []\n",
    "for knn in house_w_knns:\n",
    "    print(\"Housing KNN %d\" % knn)\n",
    "    knnr = KNNRegressor(columntype=housing_column_types, knn=knn)\n",
    "    house_w_mses.append(knnr.fit(X_housing_train_norm, y_housing_train) \\\n",
    "        .score(X_housing_test_norm, y_housing_test))"
   ]
  },
  {
   "cell_type": "code",
   "execution_count": 33,
   "metadata": {},
   "outputs": [
    {
     "data": {
      "text/plain": [
       "<matplotlib.legend.Legend at 0x18be898af70>"
      ]
     },
     "execution_count": 33,
     "metadata": {},
     "output_type": "execute_result"
    },
    {
     "data": {
      "image/png": "[encoded data removed]",
      "text/plain": [
       "<Figure size 432x288 with 1 Axes>"
      ]
     },
     "metadata": {
      "needs_background": "light"
     },
     "output_type": "display_data"
    }
   ],
   "source": [
    "# Graph no distance weighting and distance weighting comp for housing\n",
    "plt.plot(house_nw_knns, house_nw_mses, label='No distance weighting')\n",
    "plt.plot(house_w_knns, house_w_mses, label='Distance weighting')\n",
    "plt.xlabel('K-Nearest Neighbors')\n",
    "plt.ylabel('MSE')\n",
    "plt.title('Housing Distance Weighing vs No Distance Weighting')\n",
    "plt.legend()"
   ]
  },
  {
   "cell_type": "markdown",
   "metadata": {},
   "source": [
    "For both the magic telescope and housing datasets, using inverted distance weighting resulted in better accuracies or MSEs, respectively, for almost all values of K. The exception is for K=1, where any improvement in accuracy/mse is hard to distinguish."
   ]
  },
  {
   "cell_type": "markdown",
   "metadata": {},
   "source": [
    "## 5. (10%) Use the k-nearest neighbor algorithm to solve the [credit-approval](https://archive.ics.uci.edu/ml/datasets/Credit+Approval) (credit-a) problem.\n",
    "\n",
    "- Use this [dataset](https://raw.githubusercontent.com/cs472ta/CS472/master/datasets/credit_approval.arff)\n",
    "    - Use a 70/30 split of the data for the training/test set\n",
    "- Note that this set has both continuous and nominal attributes, together with don’t know values. \n",
    "- Implement and justify a distance metric which supports continuous, nominal, and don’t know attribute values\n",
    "    - You need to handle don't knows with the distance metric, not by imputing a value.\n",
    "    - More information on distance metrics can be found [here](https://www.jair.org/index.php/jair/article/view/10182/24168).\n",
    "- Use your own choice for k.\n",
    "- As a rough sanity check, typical knn accuracies for the credit data set are 70-80%.\n"
   ]
  },
  {
   "cell_type": "code",
   "execution_count": 157,
   "metadata": {
    "pycharm": {
     "is_executing": true
    }
   },
   "outputs": [
    {
     "name": "stdout",
     "output_type": "stream",
     "text": [
      "[1 0 0 1 1 1 1 0 1 1 0 1 1 0 0]\n"
     ]
    },
    {
     "data": {
      "text/html": [
       "<div>\n",
       "<style scoped>\n",
       "    .dataframe tbody tr th:only-of-type {\n",
       "        vertical-align: middle;\n",
       "    }\n",
       "\n",
       "    .dataframe tbody tr th {\n",
       "        vertical-align: top;\n",
       "    }\n",
       "\n",
       "    .dataframe thead th {\n",
       "        text-align: right;\n",
       "    }\n",
       "</style>\n",
       "<table border=\"1\" class=\"dataframe\">\n",
       "  <thead>\n",
       "    <tr style=\"text-align: right;\">\n",
       "      <th></th>\n",
       "      <th>A1</th>\n",
       "      <th>A2</th>\n",
       "      <th>A3</th>\n",
       "      <th>A4</th>\n",
       "      <th>A5</th>\n",
       "      <th>A6</th>\n",
       "      <th>A7</th>\n",
       "      <th>A8</th>\n",
       "      <th>A9</th>\n",
       "      <th>A10</th>\n",
       "      <th>A11</th>\n",
       "      <th>A12</th>\n",
       "      <th>A13</th>\n",
       "      <th>A14</th>\n",
       "      <th>A15</th>\n",
       "    </tr>\n",
       "  </thead>\n",
       "  <tbody>\n",
       "    <tr>\n",
       "      <th>596</th>\n",
       "      <td>1.0</td>\n",
       "      <td>46.08</td>\n",
       "      <td>3.000</td>\n",
       "      <td>2.0</td>\n",
       "      <td>1.0</td>\n",
       "      <td>2.0</td>\n",
       "      <td>8.0</td>\n",
       "      <td>2.375</td>\n",
       "      <td>1</td>\n",
       "      <td>1</td>\n",
       "      <td>8.0</td>\n",
       "      <td>1</td>\n",
       "      <td>0</td>\n",
       "      <td>396.0</td>\n",
       "      <td>4159.0</td>\n",
       "    </tr>\n",
       "    <tr>\n",
       "      <th>303</th>\n",
       "      <td>1.0</td>\n",
       "      <td>15.92</td>\n",
       "      <td>2.875</td>\n",
       "      <td>2.0</td>\n",
       "      <td>1.0</td>\n",
       "      <td>11.0</td>\n",
       "      <td>8.0</td>\n",
       "      <td>0.085</td>\n",
       "      <td>0</td>\n",
       "      <td>0</td>\n",
       "      <td>0.0</td>\n",
       "      <td>0</td>\n",
       "      <td>0</td>\n",
       "      <td>120.0</td>\n",
       "      <td>0.0</td>\n",
       "    </tr>\n",
       "  </tbody>\n",
       "</table>\n",
       "</div>"
      ],
      "text/plain": [
       "      A1     A2     A3   A4   A5    A6   A7     A8  A9  A10  A11  A12  A13  \\\n",
       "596  1.0  46.08  3.000  2.0  1.0   2.0  8.0  2.375   1    1  8.0    1    0   \n",
       "303  1.0  15.92  2.875  2.0  1.0  11.0  8.0  0.085   0    0  0.0    0    0   \n",
       "\n",
       "       A14     A15  \n",
       "596  396.0  4159.0  \n",
       "303  120.0     0.0  "
      ]
     },
     "metadata": {},
     "output_type": "display_data"
    },
    {
     "name": "stdout",
     "output_type": "stream",
     "text": [
      "(483, 15)\n"
     ]
    },
    {
     "data": {
      "text/html": [
       "<div>\n",
       "<style scoped>\n",
       "    .dataframe tbody tr th:only-of-type {\n",
       "        vertical-align: middle;\n",
       "    }\n",
       "\n",
       "    .dataframe tbody tr th {\n",
       "        vertical-align: top;\n",
       "    }\n",
       "\n",
       "    .dataframe thead th {\n",
       "        text-align: right;\n",
       "    }\n",
       "</style>\n",
       "<table border=\"1\" class=\"dataframe\">\n",
       "  <thead>\n",
       "    <tr style=\"text-align: right;\">\n",
       "      <th></th>\n",
       "      <th>A1</th>\n",
       "      <th>A2</th>\n",
       "      <th>A3</th>\n",
       "      <th>A4</th>\n",
       "      <th>A5</th>\n",
       "      <th>A6</th>\n",
       "      <th>A7</th>\n",
       "      <th>A8</th>\n",
       "      <th>A9</th>\n",
       "      <th>A10</th>\n",
       "      <th>A11</th>\n",
       "      <th>A12</th>\n",
       "      <th>A13</th>\n",
       "      <th>A14</th>\n",
       "      <th>A15</th>\n",
       "    </tr>\n",
       "  </thead>\n",
       "  <tbody>\n",
       "    <tr>\n",
       "      <th>14</th>\n",
       "      <td>1.0</td>\n",
       "      <td>45.83</td>\n",
       "      <td>10.5</td>\n",
       "      <td>2.0</td>\n",
       "      <td>1.0</td>\n",
       "      <td>11.0</td>\n",
       "      <td>8.0</td>\n",
       "      <td>5.0</td>\n",
       "      <td>1</td>\n",
       "      <td>1</td>\n",
       "      <td>7.0</td>\n",
       "      <td>1</td>\n",
       "      <td>0</td>\n",
       "      <td>0.0</td>\n",
       "      <td>0.0</td>\n",
       "    </tr>\n",
       "    <tr>\n",
       "      <th>586</th>\n",
       "      <td>2.0</td>\n",
       "      <td>64.08</td>\n",
       "      <td>20.0</td>\n",
       "      <td>2.0</td>\n",
       "      <td>1.0</td>\n",
       "      <td>14.0</td>\n",
       "      <td>4.0</td>\n",
       "      <td>17.5</td>\n",
       "      <td>1</td>\n",
       "      <td>1</td>\n",
       "      <td>9.0</td>\n",
       "      <td>1</td>\n",
       "      <td>0</td>\n",
       "      <td>0.0</td>\n",
       "      <td>1000.0</td>\n",
       "    </tr>\n",
       "  </tbody>\n",
       "</table>\n",
       "</div>"
      ],
      "text/plain": [
       "      A1     A2    A3   A4   A5    A6   A7    A8  A9  A10  A11  A12  A13  A14  \\\n",
       "14   1.0  45.83  10.5  2.0  1.0  11.0  8.0   5.0   1    1  7.0    1    0  0.0   \n",
       "586  2.0  64.08  20.0  2.0  1.0  14.0  4.0  17.5   1    1  9.0    1    0  0.0   \n",
       "\n",
       "        A15  \n",
       "14      0.0  \n",
       "586  1000.0  "
      ]
     },
     "metadata": {},
     "output_type": "display_data"
    },
    {
     "name": "stdout",
     "output_type": "stream",
     "text": [
      "(207, 15)\n",
      "Credit dataset with KNN = 2 accuracy: 0.7729\n"
     ]
    }
   ],
   "source": [
    "from sklearn.model_selection import train_test_split\n",
    "\n",
    "# HEOM distance metric\n",
    "\n",
    "# Load dataset and split into train/test sets\n",
    "creditDF = load_data('datasets/credit_approval.arff')\n",
    "\n",
    "# Get column types\n",
    "column_types = get_column_types(creditDF)\n",
    "print(column_types)\n",
    "\n",
    "# Train test split\n",
    "X_creditDF, y_creditDF = creditDF.iloc[:, :-1], creditDF.iloc[:, -1]\n",
    "X_credit_trainDF, X_credit_testDF, y_credit_trainDF, y_credit_testDF = train_test_split(X_creditDF, y_creditDF, test_size=0.3, random_state=0)\n",
    "\n",
    "# Encoding\n",
    "X_credit_trainDF, X_credit_testDF = encode_X(X_credit_trainDF, X_credit_testDF) # Unknown nominal attributes get encoded as np.inf\n",
    "y_credit_trainDF, y_credit_testDF = encode_y(y_credit_trainDF, y_credit_testDF)\n",
    "\n",
    "# Display dataframes\n",
    "display(X_credit_trainDF.head(2))\n",
    "print(X_credit_trainDF.shape)\n",
    "\n",
    "display(X_credit_testDF.head(2))\n",
    "print(X_credit_testDF.shape)\n",
    "\n",
    "# To numpy arrays\n",
    "X_credit_train = X_credit_trainDF.to_numpy()\n",
    "X_credit_test = X_credit_testDF.to_numpy()\n",
    "y_credit_train = y_credit_trainDF.to_numpy()\n",
    "y_credit_test = y_credit_testDF.to_numpy()\n",
    "\n",
    "# Train/Predict credit-approval\n",
    "credit_knn = KNNClassifier(columntype=column_types, weight_type='inverse_distance', knn=2)\n",
    "credit_knn.fit(X_credit_train, y_credit_train)\n",
    "score = credit_knn.score(X_credit_test, y_credit_test)\n",
    "print(\"Credit dataset with KNN = 2 accuracy: %.4f\" % score)\n"
   ]
  },
  {
   "cell_type": "markdown",
   "metadata": {},
   "source": [
    "After reading the paper, I decided to implement a modified version of HEOM distance. In my version, continuous variable distance is calculated as euclidean distance like normal. I couldn't find anything in the paper about handling missing continuous variable values, so I proceeded with imputing NaN values in continuous features with the mean of the feature. For nominal features, I encode missing values as -1 to make them easily identifiable. Then, I calculate the distance between nominal features according to equation 4 on page 5 of the paper. In the case of missing nominal features, I follow the method where \"unknown attribute values are handled by "
   ]
  },
  {
   "cell_type": "markdown",
   "metadata": {
    "id": "oBBmeNQ7jvcQ"
   },
   "source": [
    "## 6. (15%) Use the scikit's KNN Classifier on magic telescope and KNN Regressor on housing and compare your results.\n",
    "\n",
    "- Try out different hyperparameters to see how well you can do. \n"
   ]
  },
  {
   "cell_type": "code",
   "execution_count": null,
   "metadata": {
    "id": "OFQv70W2VyqJ",
    "pycharm": {
     "is_executing": true
    }
   },
   "outputs": [],
   "source": [
    "# Train/Predict magic telescope using scikit's KNN\n",
    "\n",
    "# Train/Predict housing using scikit's KNN\n"
   ]
  },
  {
   "cell_type": "markdown",
   "metadata": {
    "id": "BqSFAXwlk3Ms"
   },
   "source": [
    "*Report your comparison*"
   ]
  },
  {
   "cell_type": "markdown",
   "metadata": {
    "id": "cTlK-kijk8Mg"
   },
   "source": [
    "## 7. (optional 5% extra credit): For the best value of k for any one of the datasets, implement a reduction algorithm that removes data points in some rational way such that performance does not drop too drastically on the test set given the reduced training set.\n",
    "\n",
    "- Compare your performance on the test set for the reduced and non-reduced versions and give the number (and percentage) of training examples removed from the original training set. How well does your reduction algorithm work?\n",
    "    - Note that performance for magic telescope is classification accuracy and for housing it is mean squared error.\n",
    "    - Magic Telescope has about 12,000 instances and if you use a leave one out style of testing for your data set reduction, then your algorithm will run slow since that is n2 at each step.\n",
    "    - If you wish, you may use a random subset of 2,000 of the magic telescope instances.\n",
    "    - More information on reduction techniques can be found [here](http://axon.cs.byu.edu/~martinez/classes/478/slides/IBL.pdf).\n"
   ]
  },
  {
   "cell_type": "code",
   "execution_count": null,
   "metadata": {
    "id": "5iY77P7gk1Nh",
    "pycharm": {
     "is_executing": true
    }
   },
   "outputs": [],
   "source": []
  }
 ],
 "metadata": {
  "colab": {
   "collapsed_sections": [],
   "name": "lab 1 - perceptron",
   "provenance": []
  },
  "interpreter": {
   "hash": "6b2efc4b102cc6878f14c71b1b299607eba1e6d0bb881d7beb2f5cad1213cf03"
  },
  "kernelspec": {
   "display_name": "Python 3.8.11 64-bit ('general': conda)",
   "name": "python3"
  },
  "language_info": {
   "codemirror_mode": {
    "name": "ipython",
    "version": 3
   },
   "file_extension": ".py",
   "mimetype": "text/x-python",
   "name": "python",
   "nbconvert_exporter": "python",
   "pygments_lexer": "ipython3",
   "version": "3.8.11"
  }
 },
 "nbformat": 4,
 "nbformat_minor": 4
}
