{
 "cells": [
  {
   "cell_type": "markdown",
   "source": [
    "# Decision Tree Lab"
   ],
   "metadata": {}
  },
  {
   "cell_type": "code",
   "execution_count": 22,
   "source": [
    "from sklearn.base import BaseEstimator, ClassifierMixin\n",
    "from sklearn.tree import DecisionTreeClassifier\n",
    "import numpy as np\n",
    "import matplotlib.pyplot as plt\n",
    "from scipy.io import arff\n",
    "import pandas as pd\n",
    "from IPython.core.display import display\n",
    "from sklearn.preprocessing import OneHotEncoder\n",
    "from sklearn.preprocessing import LabelEncoder\n",
    "from sklearn.preprocessing import OrdinalEncoder\n",
    "import math\n",
    "\n",
    "import pprint\n",
    "import pdb"
   ],
   "outputs": [],
   "metadata": {}
  },
  {
   "cell_type": "code",
   "execution_count": 2,
   "source": [
    "pp = pprint.PrettyPrinter(indent=4)"
   ],
   "outputs": [],
   "metadata": {}
  },
  {
   "cell_type": "code",
   "execution_count": 3,
   "source": [
    "def print_encodings(enc):\n",
    "    encoding = enc.categories_\n",
    "    encoding_feature = lambda x: dict(zip(x, range(len(x))))\n",
    "    encoding_full = [encoding_feature(feature_elem) for feature_elem in encoding]\n",
    "    pp.pprint(encoding_full)"
   ],
   "outputs": [],
   "metadata": {}
  },
  {
   "cell_type": "markdown",
   "source": [
    "## 1. (40%) Correctly implement the ID3 decision tree algorithm, including the ability to handle unknown attributes (You do not need to handle real valued attributes).  \n",
    "### Code Requirements/Notes:\n",
    "- Use standard information gain as your basic attribute evaluation metric.  (Note that normal ID3 would usually augment information gain with gain ratio or some other mechanism to penalize statistically insignificant attribute splits. Otherwise, even with approaches like pruning below, the SSE type of overfit could still hurt us.) \n",
    "- You are welcome to create other classes and/or functions in addition to the ones provided below. (e.g. If you build out a tree structure, you might create a node class).\n",
    "- It is a good idea to use a simple data set (like the lenses data or the pizza homework), which you can check by hand, to test your algorithm to make sure that it is working correctly. "
   ],
   "metadata": {}
  },
  {
   "cell_type": "code",
   "execution_count": 4,
   "source": [
    "class DTNode():\n",
    "    def __init__(self, X_data, Y_data, depth=1):\n",
    "\n",
    "        self.X_data = X_data\n",
    "        self.Y_data = Y_data\n",
    "        self.depth = depth\n",
    "        self.is_split_node = True # Is this node a split node?\n",
    "\n",
    "        self.split_feature_index = None # The index of the input features that node will split on\n",
    "\n",
    "        self.parent = None # Pointer back to parent node. For computing gain\n",
    "        self.gain = 0 # Gain is computed as Info(parent) - Info_A(self)\n",
    "\n",
    "        self.value = [] # The values of each output class represented in the node\n",
    "        self.children = [] # The child nodes of the self node after deciding split\n",
    "\n",
    "    def print_tree(self, feature_names, enc):\n",
    "        pass"
   ],
   "outputs": [],
   "metadata": {}
  },
  {
   "cell_type": "code",
   "execution_count": 83,
   "source": [
    "class DTClassifier(BaseEstimator,ClassifierMixin):\n",
    "\n",
    "    def __init__(self,counts=None):\n",
    "        \"\"\" Initialize class with chosen hyperparameters.\n",
    "        Args:\n",
    "        Optional Args (Args we think will make your life easier):\n",
    "            counts: A list of Ints that tell you how many types of each feature there are\n",
    "        Example:\n",
    "            DT  = DTClassifier()\n",
    "            or\n",
    "            DT = DTClassifier(count = [2,3,2,2])\n",
    "            Dataset = \n",
    "            [[0,1,0,0],\n",
    "            [1,2,1,1],\n",
    "            [0,1,1,0],\n",
    "            [1,2,0,1],\n",
    "            [0,0,1,1]]\n",
    "\n",
    "        \"\"\"\n",
    "        self.counts = counts\n",
    "        self.root = None\n",
    "        self.n_output_classes = None\n",
    "        \n",
    "\n",
    "    def fit(self, X, y):\n",
    "        \"\"\" Fit the data; Make the Decision tree\n",
    "\n",
    "        Args:\n",
    "            X (array-like): A 2D numpy array with the training data, excluding targets\n",
    "            y (array-like): A 1D numpy array with the training targets\n",
    "\n",
    "        Returns:\n",
    "            self: this allows this to be chained, e.g. model.fit(X,y).predict(X_test)\n",
    "\n",
    "        \"\"\"\n",
    "        self.root = DTNode(X, y)\n",
    "        self.n_output_classes = len(np.unique(y))\n",
    "\n",
    "        self._make_split(self.root)\n",
    "\n",
    "        return self\n",
    "\n",
    "    def predict(self, X):\n",
    "        \"\"\" Predict all classes for a dataset X\n",
    "\n",
    "        Args:\n",
    "            X (array-like): A 2D numpy array with the training data, excluding targets\n",
    "\n",
    "        Returns:\n",
    "            array, shape (n_samples,)\n",
    "                Predicted target values per element in X.\n",
    "        \"\"\"\n",
    "        pass\n",
    "\n",
    "\n",
    "    def score(self, X, y):\n",
    "        \"\"\" Return accuracy(Classification Acc) of model on a given dataset. Must implement own score function.\n",
    "\n",
    "        Args:\n",
    "            X (array-like): A 2D numpy array with data, excluding targets\n",
    "            y (array-like): A 1D numpy array of the targets \n",
    "        \"\"\"\n",
    "        return 0\n",
    "\n",
    "    def print_tree(self, feature_names, enc):\n",
    "        self.root.print_tree(feature_names, enc)\n",
    "\n",
    "    def _info(self, node):\n",
    "        assert(type(node) == DTNode)\n",
    "\n",
    "        X = node.X_data\n",
    "        Y = node.Y_data\n",
    "\n",
    "        node_info = 0\n",
    "        for C in range(self.n_output_classes): # For each output class\n",
    "            p_i = np.sum(np.where(Y == C, 1, 0)) / len(Y)\n",
    "\n",
    "            if p_i != 0:\n",
    "                node_info += p_i * np.log2(p_i)\n",
    "\n",
    "        return -node_info\n",
    "\n",
    "    def _make_split(self, node):\n",
    "\n",
    "        # Base case - When there is only one class in node\n",
    "\n",
    "        # For each input feature\n",
    "        X = node.X_data\n",
    "        Y = node.Y_data\n",
    "        len_S = len(Y)\n",
    "        for feature_ind in range(X.shape[1]):\n",
    "            # Calculate the gain of splitting on that feature\n",
    "            print(\"NEW FEATURE\")\n",
    "            info_A = 0\n",
    "\n",
    "            for attribute_val in range(self.counts[feature_ind]): # TODO make sure this calculates correctly.\n",
    "                mask = np.where(X[:, feature_ind] == attribute_val)\n",
    "                X_new = X[mask]\n",
    "                Y_new = Y[mask]\n",
    "\n",
    "                pp.pprint(X_new)\n",
    "                pp.pprint(Y_new.reshape(-1, 1))\n",
    "\n",
    "                node_new = DTNode(X_new, Y_new)\n",
    "                info_S_j = self._info(node_new)\n",
    "                len_S_j = len(Y_new)\n",
    "                info_A += (len_S_j / len_S) * info_S_j\n",
    "            print(info_A)\n",
    "            pass\n",
    "\n",
    "        # Which feature had the highest gain?\n",
    "\n",
    "        # Initialize children nodes according to highest gain split\n",
    "\n",
    "        # For each child node\n",
    "            # call _make_split() on child node\n",
    "\n",
    "        pass"
   ],
   "outputs": [],
   "metadata": {}
  },
  {
   "cell_type": "markdown",
   "source": [
    "## 1.1 Debug\n",
    "\n",
    "Debug your model by training on the lenses dataset: [Debug Dataset](https://raw.githubusercontent.com/cs472ta/CS472/master/datasets/lenses.arff)\n",
    "\n",
    "Test your model on the lenses test set: [Debug Test Dataset](https://raw.githubusercontent.com/cs472ta/CS472/master/datasets/lenses_test.arff)\n",
    "\n",
    "Parameters:\n",
    "(optional) counts = [3,2,2,2] (You should compute this when you read in the data, before fitting)\n",
    "\n",
    "---\n",
    "\n",
    "Expected Results: Accuracy = [0.33]\n",
    "\n",
    "Predictions should match this file: [Lenses Predictions](https://raw.githubusercontent.com/cs472ta/CS472/master/debug_solutions/pred_lenses.csv)\n",
    "\n",
    "*NOTE: The [Lenses Prediction](https://raw.githubusercontent.com/cs472ta/CS472/master/debug_solutions/pred_lenses.csv) uses the following encoding: soft=2, hard=0, none=1. If your encoding is different, then your output will be different, but not necessarily incorrect.*\n",
    "\n",
    "Split Information Gains (These do not need to be in this exact order):\n",
    "\n",
    "[0.5487949406953987, 0.7704260414863775, 0.3166890883150208, 1.0, 0.4591479170272447, 0.9182958340544894]\n",
    "\n",
    "<!-- You should be able to get about 68% (61%-82%) predictive accuracy on the lenses data -->\n",
    "\n",
    "Here's what your decision tree splits should look like, and the corresponding child node predictions:\n",
    "\n",
    "Decision Tree:\n",
    "<pre>\n",
    "tear_prod_rate = normal:\n",
    "    astigmatism = no:\n",
    "        age = pre_presbyopic:\n",
    "            prediction: soft\n",
    "        age = presbyopic:\n",
    "            spectacle_prescrip = hypermetrope:\n",
    "                prediction: soft\n",
    "            spectacle_prescrip = myope:\n",
    "                prediction: none\n",
    "        age = young:\n",
    "            prediction: soft\n",
    "    astigmatism = yes:\n",
    "        spectacle_prescrip = hypermetrope:\n",
    "            age = pre_presbyopic:\n",
    "                prediction: none\n",
    "            age = presbyopic:\n",
    "                prediction: none\n",
    "            age = young:\n",
    "                prediction: hard\n",
    "        spectacle_prescrip = myope:\n",
    "            prediction: hard\n",
    "tear_prod_rate = reduced:\n",
    "    prediction: none\n",
    "</pre>"
   ],
   "metadata": {}
  },
  {
   "cell_type": "code",
   "execution_count": 6,
   "source": [
    "# Load debug training and testing data \n",
    "debug_train_data = arff.loadarff('datasets/lenses.arff')\n",
    "debug_trainDF = pd.DataFrame(debug_train_data[0])\n",
    "for column in debug_trainDF.columns:\n",
    "    debug_trainDF[column] = debug_trainDF[column] \\\n",
    "                         .astype(str).str \\\n",
    "                         .split(\"\\'\", expand=True) \\\n",
    "                         .iloc[:,1]\n",
    "\n",
    "debug_test_data = arff.loadarff('datasets/lenses_test.arff')\n",
    "debug_testDF = pd.DataFrame(debug_test_data[0])\n",
    "for column in debug_testDF.columns:\n",
    "    debug_testDF[column] = debug_testDF[column] \\\n",
    "                         .astype(str).str \\\n",
    "                         .split(\"\\'\", expand=True) \\\n",
    "                         .iloc[:,1]\n",
    "\n",
    "display(debug_trainDF.head(2))\n",
    "display(debug_testDF.head(2))\n"
   ],
   "outputs": [
    {
     "data": {
      "text/plain": "     age spectacle_prescrip astigmatism tear_prod_rate contact_lenses\n0  young              myope          no        reduced           none\n1  young              myope          no         normal           soft",
      "text/html": "<div>\n<style scoped>\n    .dataframe tbody tr th:only-of-type {\n        vertical-align: middle;\n    }\n\n    .dataframe tbody tr th {\n        vertical-align: top;\n    }\n\n    .dataframe thead th {\n        text-align: right;\n    }\n</style>\n<table border=\"1\" class=\"dataframe\">\n  <thead>\n    <tr style=\"text-align: right;\">\n      <th></th>\n      <th>age</th>\n      <th>spectacle_prescrip</th>\n      <th>astigmatism</th>\n      <th>tear_prod_rate</th>\n      <th>contact_lenses</th>\n    </tr>\n  </thead>\n  <tbody>\n    <tr>\n      <th>0</th>\n      <td>young</td>\n      <td>myope</td>\n      <td>no</td>\n      <td>reduced</td>\n      <td>none</td>\n    </tr>\n    <tr>\n      <th>1</th>\n      <td>young</td>\n      <td>myope</td>\n      <td>no</td>\n      <td>normal</td>\n      <td>soft</td>\n    </tr>\n  </tbody>\n</table>\n</div>"
     },
     "metadata": {},
     "output_type": "display_data"
    },
    {
     "data": {
      "text/plain": "     age spectacle_prescrip astigmatism tear_prod_rate contact_lenses\n0  young              myope          no        reduced           soft\n1  young              myope          no        reduced           hard",
      "text/html": "<div>\n<style scoped>\n    .dataframe tbody tr th:only-of-type {\n        vertical-align: middle;\n    }\n\n    .dataframe tbody tr th {\n        vertical-align: top;\n    }\n\n    .dataframe thead th {\n        text-align: right;\n    }\n</style>\n<table border=\"1\" class=\"dataframe\">\n  <thead>\n    <tr style=\"text-align: right;\">\n      <th></th>\n      <th>age</th>\n      <th>spectacle_prescrip</th>\n      <th>astigmatism</th>\n      <th>tear_prod_rate</th>\n      <th>contact_lenses</th>\n    </tr>\n  </thead>\n  <tbody>\n    <tr>\n      <th>0</th>\n      <td>young</td>\n      <td>myope</td>\n      <td>no</td>\n      <td>reduced</td>\n      <td>soft</td>\n    </tr>\n    <tr>\n      <th>1</th>\n      <td>young</td>\n      <td>myope</td>\n      <td>no</td>\n      <td>reduced</td>\n      <td>hard</td>\n    </tr>\n  </tbody>\n</table>\n</div>"
     },
     "metadata": {},
     "output_type": "display_data"
    }
   ],
   "metadata": {}
  },
  {
   "cell_type": "code",
   "execution_count": 7,
   "source": [
    "# Encode data\n",
    "debug_enc = OrdinalEncoder()\n",
    "debug_enc.fit(debug_trainDF)\n",
    "debug_train = debug_enc.transform(debug_trainDF)\n",
    "debug_test = debug_enc.transform(debug_testDF)\n",
    "\n",
    "pp.pprint(debug_enc.categories_)\n",
    "print_encodings(debug_enc)"
   ],
   "outputs": [
    {
     "name": "stdout",
     "output_type": "stream",
     "text": [
      "[   array(['pre_presbyopic', 'presbyopic', 'young'], dtype=object),\n",
      "    array(['hypermetrope', 'myope'], dtype=object),\n",
      "    array(['no', 'yes'], dtype=object),\n",
      "    array(['normal', 'reduced'], dtype=object),\n",
      "    array(['hard', 'none', 'soft'], dtype=object)]\n",
      "[   {'pre_presbyopic': 0, 'presbyopic': 1, 'young': 2},\n",
      "    {'hypermetrope': 0, 'myope': 1},\n",
      "    {'no': 0, 'yes': 1},\n",
      "    {'normal': 0, 'reduced': 1},\n",
      "    {'hard': 0, 'none': 1, 'soft': 2}]\n"
     ]
    }
   ],
   "metadata": {}
  },
  {
   "cell_type": "code",
   "execution_count": 8,
   "source": [
    "# Save metadata\n",
    "counts = debug_trainDF.nunique().to_numpy()[:-1]\n",
    "features = debug_trainDF.columns\n",
    "\n",
    "print(counts)\n",
    "print(features)"
   ],
   "outputs": [
    {
     "name": "stdout",
     "output_type": "stream",
     "text": [
      "[3 2 2 2]\n",
      "Index(['age', 'spectacle_prescrip', 'astigmatism', 'tear_prod_rate',\n",
      "       'contact_lenses'],\n",
      "      dtype='object')\n"
     ]
    }
   ],
   "metadata": {}
  },
  {
   "cell_type": "code",
   "execution_count": 9,
   "source": [
    "# X and Y splits\n",
    "X_train = debug_train[:, :-1]\n",
    "X_test = debug_test[:, -1]\n",
    "Y_train = debug_train[:, -1]\n",
    "Y_test = debug_test[:, -1]"
   ],
   "outputs": [],
   "metadata": {}
  },
  {
   "cell_type": "code",
   "execution_count": 84,
   "source": [
    "# Train Decision Tree\n",
    "dtc = DTClassifier(counts=counts)\n",
    "pp.pprint(X_train)\n",
    "dtc.fit(X_train, Y_train)"
   ],
   "outputs": [
    {
     "name": "stdout",
     "output_type": "stream",
     "text": [
      "array([[2., 1., 0., 1.],\n",
      "       [2., 1., 0., 0.],\n",
      "       [2., 1., 1., 1.],\n",
      "       [2., 1., 1., 0.],\n",
      "       [2., 0., 0., 1.],\n",
      "       [2., 0., 0., 0.],\n",
      "       [2., 0., 1., 1.],\n",
      "       [2., 0., 1., 0.],\n",
      "       [0., 1., 0., 1.],\n",
      "       [0., 1., 0., 0.],\n",
      "       [0., 1., 1., 1.],\n",
      "       [0., 1., 1., 0.],\n",
      "       [0., 0., 0., 1.],\n",
      "       [0., 0., 0., 0.],\n",
      "       [0., 0., 1., 1.],\n",
      "       [0., 0., 1., 0.],\n",
      "       [1., 1., 0., 1.],\n",
      "       [1., 1., 0., 0.],\n",
      "       [1., 1., 1., 1.],\n",
      "       [1., 1., 1., 0.],\n",
      "       [1., 0., 0., 1.],\n",
      "       [1., 0., 0., 0.],\n",
      "       [1., 0., 1., 1.],\n",
      "       [1., 0., 1., 0.]])\n",
      "NEW FEATURE\n",
      "array([[0., 1., 0., 1.],\n",
      "       [0., 1., 0., 0.],\n",
      "       [0., 1., 1., 1.],\n",
      "       [0., 1., 1., 0.],\n",
      "       [0., 0., 0., 1.],\n",
      "       [0., 0., 0., 0.],\n",
      "       [0., 0., 1., 1.],\n",
      "       [0., 0., 1., 0.]])\n",
      "array([[1.],\n",
      "       [2.],\n",
      "       [1.],\n",
      "       [0.],\n",
      "       [1.],\n",
      "       [2.],\n",
      "       [1.],\n",
      "       [1.]])\n",
      "array([[1., 1., 0., 1.],\n",
      "       [1., 1., 0., 0.],\n",
      "       [1., 1., 1., 1.],\n",
      "       [1., 1., 1., 0.],\n",
      "       [1., 0., 0., 1.],\n",
      "       [1., 0., 0., 0.],\n",
      "       [1., 0., 1., 1.],\n",
      "       [1., 0., 1., 0.]])\n",
      "array([[1.],\n",
      "       [1.],\n",
      "       [1.],\n",
      "       [0.],\n",
      "       [1.],\n",
      "       [2.],\n",
      "       [1.],\n",
      "       [1.]])\n",
      "array([[2., 1., 0., 1.],\n",
      "       [2., 1., 0., 0.],\n",
      "       [2., 1., 1., 1.],\n",
      "       [2., 1., 1., 0.],\n",
      "       [2., 0., 0., 1.],\n",
      "       [2., 0., 0., 0.],\n",
      "       [2., 0., 1., 1.],\n",
      "       [2., 0., 1., 0.]])\n",
      "array([[1.],\n",
      "       [2.],\n",
      "       [1.],\n",
      "       [0.],\n",
      "       [1.],\n",
      "       [2.],\n",
      "       [1.],\n",
      "       [0.]])\n",
      "1.286691021718177\n",
      "NEW FEATURE\n",
      "array([[2., 0., 0., 1.],\n",
      "       [2., 0., 0., 0.],\n",
      "       [2., 0., 1., 1.],\n",
      "       [2., 0., 1., 0.],\n",
      "       [0., 0., 0., 1.],\n",
      "       [0., 0., 0., 0.],\n",
      "       [0., 0., 1., 1.],\n",
      "       [0., 0., 1., 0.],\n",
      "       [1., 0., 0., 1.],\n",
      "       [1., 0., 0., 0.],\n",
      "       [1., 0., 1., 1.],\n",
      "       [1., 0., 1., 0.]])\n",
      "array([[1.],\n",
      "       [2.],\n",
      "       [1.],\n",
      "       [0.],\n",
      "       [1.],\n",
      "       [2.],\n",
      "       [1.],\n",
      "       [1.],\n",
      "       [1.],\n",
      "       [2.],\n",
      "       [1.],\n",
      "       [1.]])\n",
      "array([[2., 1., 0., 1.],\n",
      "       [2., 1., 0., 0.],\n",
      "       [2., 1., 1., 1.],\n",
      "       [2., 1., 1., 0.],\n",
      "       [0., 1., 0., 1.],\n",
      "       [0., 1., 0., 0.],\n",
      "       [0., 1., 1., 1.],\n",
      "       [0., 1., 1., 0.],\n",
      "       [1., 1., 0., 1.],\n",
      "       [1., 1., 0., 0.],\n",
      "       [1., 1., 1., 1.],\n",
      "       [1., 1., 1., 0.]])\n",
      "array([[1.],\n",
      "       [2.],\n",
      "       [1.],\n",
      "       [0.],\n",
      "       [1.],\n",
      "       [2.],\n",
      "       [1.],\n",
      "       [0.],\n",
      "       [1.],\n",
      "       [1.],\n",
      "       [1.],\n",
      "       [0.]])\n",
      "1.2865766899407325\n",
      "NEW FEATURE\n",
      "array([[2., 1., 0., 1.],\n",
      "       [2., 1., 0., 0.],\n",
      "       [2., 0., 0., 1.],\n",
      "       [2., 0., 0., 0.],\n",
      "       [0., 1., 0., 1.],\n",
      "       [0., 1., 0., 0.],\n",
      "       [0., 0., 0., 1.],\n",
      "       [0., 0., 0., 0.],\n",
      "       [1., 1., 0., 1.],\n",
      "       [1., 1., 0., 0.],\n",
      "       [1., 0., 0., 1.],\n",
      "       [1., 0., 0., 0.]])\n",
      "array([[1.],\n",
      "       [2.],\n",
      "       [1.],\n",
      "       [2.],\n",
      "       [1.],\n",
      "       [2.],\n",
      "       [1.],\n",
      "       [2.],\n",
      "       [1.],\n",
      "       [1.],\n",
      "       [1.],\n",
      "       [2.]])\n",
      "array([[2., 1., 1., 1.],\n",
      "       [2., 1., 1., 0.],\n",
      "       [2., 0., 1., 1.],\n",
      "       [2., 0., 1., 0.],\n",
      "       [0., 1., 1., 1.],\n",
      "       [0., 1., 1., 0.],\n",
      "       [0., 0., 1., 1.],\n",
      "       [0., 0., 1., 0.],\n",
      "       [1., 1., 1., 1.],\n",
      "       [1., 1., 1., 0.],\n",
      "       [1., 0., 1., 1.],\n",
      "       [1., 0., 1., 0.]])\n",
      "array([[1.],\n",
      "       [0.],\n",
      "       [1.],\n",
      "       [0.],\n",
      "       [1.],\n",
      "       [0.],\n",
      "       [1.],\n",
      "       [1.],\n",
      "       [1.],\n",
      "       [0.],\n",
      "       [1.],\n",
      "       [1.]])\n",
      "0.9490822953528212\n",
      "NEW FEATURE\n",
      "array([[2., 1., 0., 0.],\n",
      "       [2., 1., 1., 0.],\n",
      "       [2., 0., 0., 0.],\n",
      "       [2., 0., 1., 0.],\n",
      "       [0., 1., 0., 0.],\n",
      "       [0., 1., 1., 0.],\n",
      "       [0., 0., 0., 0.],\n",
      "       [0., 0., 1., 0.],\n",
      "       [1., 1., 0., 0.],\n",
      "       [1., 1., 1., 0.],\n",
      "       [1., 0., 0., 0.],\n",
      "       [1., 0., 1., 0.]])\n",
      "array([[2.],\n",
      "       [0.],\n",
      "       [2.],\n",
      "       [0.],\n",
      "       [2.],\n",
      "       [0.],\n",
      "       [2.],\n",
      "       [1.],\n",
      "       [1.],\n",
      "       [0.],\n",
      "       [2.],\n",
      "       [1.]])\n",
      "array([[2., 1., 0., 1.],\n",
      "       [2., 1., 1., 1.],\n",
      "       [2., 0., 0., 1.],\n",
      "       [2., 0., 1., 1.],\n",
      "       [0., 1., 0., 1.],\n",
      "       [0., 1., 1., 1.],\n",
      "       [0., 0., 0., 1.],\n",
      "       [0., 0., 1., 1.],\n",
      "       [1., 1., 0., 1.],\n",
      "       [1., 1., 1., 1.],\n",
      "       [1., 0., 0., 1.],\n",
      "       [1., 0., 1., 1.]])\n",
      "array([[1.],\n",
      "       [1.],\n",
      "       [1.],\n",
      "       [1.],\n",
      "       [1.],\n",
      "       [1.],\n",
      "       [1.],\n",
      "       [1.],\n",
      "       [1.],\n",
      "       [1.],\n",
      "       [1.],\n",
      "       [1.]])\n",
      "0.7772925846688998\n"
     ]
    },
    {
     "data": {
      "text/plain": "DTClassifier(counts=array([3, 2, 2, 2], dtype=int64))"
     },
     "execution_count": 84,
     "metadata": {},
     "output_type": "execute_result"
    }
   ],
   "metadata": {}
  },
  {
   "cell_type": "code",
   "execution_count": null,
   "source": [
    "# Predict and compute model accuracy"
   ],
   "outputs": [],
   "metadata": {}
  },
  {
   "cell_type": "code",
   "execution_count": null,
   "source": [
    "# Print the information gain of every split you make."
   ],
   "outputs": [],
   "metadata": {}
  },
  {
   "cell_type": "code",
   "execution_count": null,
   "source": [
    "# Optional/Additional Debugging Dataset - Pizza Homework\r\n",
    "# pizza_dataset = np.array([[1,2,0],[0,0,0],[0,1,1],[1,1,1],[1,0,0],[1,0,1],[0,2,1],[1,0,0],[0,2,0]])\r\n",
    "# pizza_labels = np.array([2,0,1,2,1,2,1,1,0])"
   ],
   "outputs": [],
   "metadata": {}
  },
  {
   "cell_type": "markdown",
   "source": [
    "## 1.2 Evaluation\n",
    "\n",
    "We will evaluate your model based on its performance on the zoo dataset. \n",
    "\n",
    "Train your model using this dataset: [Evaluation Train Dataset](https://raw.githubusercontent.com/cs472ta/CS472/master/datasets/zoo.arff)\n",
    "\n",
    "Test your model on this dataset: [Evaluation Test Dataset](https://raw.githubusercontent.com/cs472ta/CS472/master/datasets/zoo_test.arff)\n",
    "\n",
    "Parameters:\n",
    "(optional) counts = [2, 2, 2, 2, 2, 2, 2, 2, 2, 2, 2, 2, 6, 2, 2, 2] (You should compute this when you read in the data, before fitting)\n",
    "\n",
    "---\n",
    "Print out your accuracy on the evaluation test dataset.\n",
    "\n",
    "Print out the information gain of every split you make."
   ],
   "metadata": {}
  },
  {
   "cell_type": "code",
   "execution_count": null,
   "source": [
    "# Load evaluation training data\r\n",
    "\r\n",
    "\r\n",
    "# Train Decision Tree\r\n",
    "\r\n",
    "\r\n",
    "# Load evaluation test data\r\n",
    "\r\n",
    "\r\n",
    "# Print out the information gain for every split you make\r\n",
    "\r\n"
   ],
   "outputs": [],
   "metadata": {}
  },
  {
   "cell_type": "markdown",
   "source": [
    "## 2. (20%) You will use your ID3 algorithm to induce decision trees for the cars dataset and the voting dataset.  Do not use a stopping criteria, but induce the tree as far as it can go (until classes are pure or there are no more data or attributes to split on).  \n",
    "- Implement and use 10-fold Cross Validation (CV) on each data set to predict how well the models will do on novel data.  \n",
    "- For each dataset, report the training and test classification accuracy for each fold and the average test accuracy. \n",
    "- As a rough sanity check, typical decision tree accuracies for these data sets are: Cars: .90-.95, Vote: .92-.95."
   ],
   "metadata": {}
  },
  {
   "cell_type": "markdown",
   "source": [
    "## 2.1 Implement 10-fold Cross Validation"
   ],
   "metadata": {}
  },
  {
   "cell_type": "code",
   "execution_count": null,
   "source": [
    "# Write a function that implements 10-fold cross validation"
   ],
   "outputs": [],
   "metadata": {}
  },
  {
   "cell_type": "markdown",
   "source": [
    "##  2.2 Cars Dataset\n",
    "- Use this [Cars Dataset](https://raw.githubusercontent.com/cs472ta/CS472/master/datasets/cars.arff)\n",
    "- Make a table for your K-Fold cross validation accuracies\n",
    "\n",
    "*If you are having trouble using scipy's loadarff function (scipy.io.arff.loadarff), try:*\n",
    "\n",
    "*pip install arff &nbsp;&nbsp;&nbsp;&nbsp;          # Install arff library*\n",
    "\n",
    "*import arff as arf*                   \n",
    "\n",
    "*cars = list(arf.load('cars.arff'))   &nbsp;&nbsp;&nbsp;&nbsp;# Load your downloaded dataset (!curl, etc.)*\n",
    "\n",
    "*df = pd.DataFrame(cars)*  \n",
    "\n",
    "*There may be additional cleaning needed*"
   ],
   "metadata": {}
  },
  {
   "cell_type": "code",
   "execution_count": null,
   "source": [
    "# Use 10-fold CV on Cars Dataset\n",
    "\n",
    "# Report Training and Test Classification Accuracies\n",
    "\n",
    "# Report Average Test Accuracy"
   ],
   "outputs": [],
   "metadata": {}
  },
  {
   "cell_type": "markdown",
   "source": [
    "## 2.3 Voting Dataset\n",
    "- Use this [Voting Dataset with missing values](https://raw.githubusercontent.com/cs472ta/CS472/master/datasets/voting_with_missing.arff)\n",
    "- Note that you will need to support unknown attributes in the voting data set. "
   ],
   "metadata": {}
  },
  {
   "cell_type": "code",
   "execution_count": null,
   "source": [
    "# Load vote data \n",
    "vote_data = arff.loadarff('datasets/voting_with_missing.arff')\n",
    "voteDF = pd.DataFrame(vote_data[0])\n",
    "for column in voteDF.columns:\n",
    "    voteDF[column] = voteDF[column] \\\n",
    "                         .astype(str).str \\\n",
    "                         .split(\"\\'\", expand=True) \\\n",
    "                         .iloc[:,1]\n",
    "\n",
    "m = lambda x: \"UNKNOWN\" if x == \"?\" else x\n",
    "voteDF = voteDF.applymap(m).head()\n",
    "display(voteDF.head())\n",
    "\n",
    "enc_vote = OrdinalEncoder()\n",
    "enc_vote.fit(voteDF)\n",
    "vote = enc_vote.transform(voteDF)\n",
    "display(vote[:, :5])\n",
    "\n",
    "X_vote_train = vote[:, :-1]\n",
    "Y_vote_train = vote[:, -1]\n",
    "\n",
    "# Used 10-fold CV on Voting Dataset\n",
    "\n",
    "# Report Training and Test Classification Accuracies\n",
    "\n",
    "# Report Average Test Accuracy"
   ],
   "outputs": [],
   "metadata": {}
  },
  {
   "cell_type": "markdown",
   "source": [
    "## 2.4 Discuss Your Results\n",
    "\n",
    "- Summarize your results from both datasets, and discuss what you observed. \n",
    "- A fully expanded tree will often get 100% accuracy on the training set. Why does this happen and in what cases might it not?  "
   ],
   "metadata": {}
  },
  {
   "cell_type": "markdown",
   "source": [
    "Discuss your results"
   ],
   "metadata": {}
  },
  {
   "cell_type": "markdown",
   "source": [
    "## 3. (15%) For each of the two problems above, summarize in English what the decision tree has learned (i.e. look at the induced tree and describe what rules it has discovered to try to solve each task). \n",
    "- If the tree is very large you can just discuss a few of the more shallow attribute combinations and the most important decisions made high in the tree."
   ],
   "metadata": {}
  },
  {
   "cell_type": "markdown",
   "source": [
    "## 3.1 Discuss what the decision tree induced on the cars dataset has learned"
   ],
   "metadata": {}
  },
  {
   "cell_type": "markdown",
   "source": [
    "Discussion Here"
   ],
   "metadata": {}
  },
  {
   "cell_type": "markdown",
   "source": [
    "## 3.2 Discuss what the decision tree induced on the voting dataset has learned"
   ],
   "metadata": {}
  },
  {
   "cell_type": "markdown",
   "source": [
    "Discussion Here"
   ],
   "metadata": {}
  },
  {
   "cell_type": "markdown",
   "source": [
    "## 3.3 How did you handle unknown attributes in the voting problem? Why did you choose this approach? (Do not use the approach of just throwing out data with unknown attributes)."
   ],
   "metadata": {}
  },
  {
   "cell_type": "markdown",
   "source": [
    "Discuss how you handled unknown attributes"
   ],
   "metadata": {}
  },
  {
   "cell_type": "markdown",
   "source": [
    "## 4.1 (10%) Use SciKit Learn's decision tree on the voting dataset and compare your results. Try different parameters and report what parameters perform the best on the test set. "
   ],
   "metadata": {}
  },
  {
   "cell_type": "markdown",
   "source": [
    "### 4.1.1 SK Learn on Voting Dataset\n",
    "- Use this [Voting Dataset with missing values](https://raw.githubusercontent.com/cs472ta/CS472/master/datasets/voting_with_missing.arff)"
   ],
   "metadata": {}
  },
  {
   "cell_type": "code",
   "execution_count": null,
   "source": [
    "# Use SK Learn's Decision Tree to learn the voting dataset\n",
    "from sklearn import tree\n",
    "from matplotlib.pyplot import figure\n",
    "\n",
    "figure(figsize=(40, 40), dpi=300)\n",
    "\n",
    "clf = DecisionTreeClassifier(random_state=0)\n",
    "clf.fit(X_vote_train, Y_vote_train)\n",
    "tree.plot_tree(clf)\n",
    "plt.show()\n",
    "\n",
    "# Explore different parameters\n",
    "\n",
    "# Report results"
   ],
   "outputs": [],
   "metadata": {}
  },
  {
   "cell_type": "markdown",
   "source": [
    "Discuss results & compare to your method's results"
   ],
   "metadata": {}
  },
  {
   "cell_type": "markdown",
   "source": [
    "## 4.2 (10%) Choose a data set of your choice (not already used in this or previous labs) and use the SK decision tree to learn it. Experiment with different hyper-parameters to try to get the best results possible."
   ],
   "metadata": {}
  },
  {
   "cell_type": "code",
   "execution_count": null,
   "source": [
    "# Use SciKit Learn's Decision Tree on a new dataset\n",
    "\n",
    "# Experiment with different hyper-parameters"
   ],
   "outputs": [],
   "metadata": {}
  },
  {
   "cell_type": "markdown",
   "source": [
    "## 5. (5%) Visualize sklearn's decision tree for your chosen data set (using export_graphviz or another tool) and discuss what you find. If your tree is too deep to reasonably fit on one page, show only the first several levels (e.g. top 5)."
   ],
   "metadata": {}
  },
  {
   "cell_type": "code",
   "execution_count": null,
   "source": [
    "# Include decision tree visualization here\n",
    "\n",
    "# Discuss what the model has learned"
   ],
   "outputs": [],
   "metadata": {}
  },
  {
   "cell_type": "markdown",
   "source": [
    "## 6. (optional 5% extra credit) Implement reduced error pruning to help avoid overfitting.  \n",
    "- You will need to take a validation set out of your training data to do this, while still having a test set to test your final accuracy. \n",
    "- Create a table comparing your decision tree implementation's results on the cars and voting data sets with and without reduced error pruning. \n",
    "- This table should compare:\n",
    "    - a) The # of nodes (including leaf nodes) and tree depth of the final decision trees \n",
    "    - b) The generalization (test set) accuracy. (For the unpruned 10-fold CV models, just use their average values in the table)."
   ],
   "metadata": {}
  },
  {
   "cell_type": "code",
   "execution_count": null,
   "source": [],
   "outputs": [],
   "metadata": {}
  }
 ],
 "metadata": {
  "interpreter": {
   "hash": "f6ab8df0a30277f4bb5d286fc0f5da626a3de586a52a04b7d68eb7a168a00d24"
  },
  "kernelspec": {
   "name": "python3",
   "display_name": "Python 3.8.10 64-bit ('data_science': conda)"
  },
  "language_info": {
   "codemirror_mode": {
    "name": "ipython",
    "version": 3
   },
   "file_extension": ".py",
   "mimetype": "text/x-python",
   "name": "python",
   "nbconvert_exporter": "python",
   "pygments_lexer": "ipython3",
   "version": "3.8.10"
  }
 },
 "nbformat": 4,
 "nbformat_minor": 4
}