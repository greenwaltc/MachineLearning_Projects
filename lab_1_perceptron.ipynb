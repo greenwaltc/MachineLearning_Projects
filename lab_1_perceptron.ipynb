{
 "cells": [
  {
   "cell_type": "markdown",
   "metadata": {
    "id": "DVL7_bgmIAPR"
   },
   "source": [
    "# Perceptron Lab\n",
    "\n",
    "\n",
    "\n"
   ]
  },
  {
   "cell_type": "code",
   "execution_count": 1,
   "metadata": {
    "id": "6ZbYjZZZ_yLV"
   },
   "outputs": [],
   "source": [
    "from sklearn.base import BaseEstimator, ClassifierMixin\n",
    "from sklearn.linear_model import Perceptron\n",
    "from sklearn.model_selection import train_test_split\n",
    "import numpy as np\n",
    "import matplotlib.pyplot as plt\n",
    "import seaborn as sns\n",
    "from scipy.io import arff\n",
    "import pandas as pd\n",
    "from IPython.display import display"
   ]
  },
  {
   "cell_type": "markdown",
   "metadata": {
    "id": "sCcEPx5VIORj"
   },
   "source": [
    "## 1. (40%) Correctly implement and submit your own code for the perceptron learning algorithm. \n",
    "\n",
    "### Code requirements\n",
    "- Shuffle the data each epoch.\n",
    "- A way to create a random train/test split. Write your own. In the future you can use the scikit-learn version if you want.\n",
    "- Use Stochastic/On-line training updates: Iterate and update weights after each training instance (i.e. do not attempt batch updates)\n",
    "- Implement a stopping criteria: when your model has trained for a number of epochs with no significant improvement in accuracy, stop training. Note that the weights/accuracy do not usually change monotonically.\n",
    "- Use your perceptron to solve the Debug data. We provide you with several parameters, and you should be able to replicate our results every time. When you are confident it is correct, run your perceptron on the Evaluation data with the same parameters, and print your final weights and accuracy."
   ]
  },
  {
   "cell_type": "code",
   "execution_count": 2,
   "metadata": {
    "id": "_a2KSZ_7AN0G"
   },
   "outputs": [],
   "source": [
    "class PerceptronClassifier(BaseEstimator,ClassifierMixin):\n",
    "    def __init__(self, lr=.1, shuffle=True, num_epochs=1000, tol=0.001, max_iter_no_change=5):\n",
    "        \"\"\" \n",
    "            Initialize class with chosen hyperparameters.\n",
    "        Args:\n",
    "            lr (float): A learning rate / step size.\n",
    "            shuffle: Whether to shuffle the training data each epoch. DO NOT \n",
    "            SHUFFLE for evaluation / debug datasets.\n",
    "        \"\"\"\n",
    "        self.lr = lr\n",
    "        self.shuffle = shuffle\n",
    "        self.weights = None\n",
    "        self.num_epochs = num_epochs\n",
    "        self.tol = tol\n",
    "        self.best_accuracy = 0\n",
    "        self.max_iter_no_change = max_iter_no_change\n",
    "\n",
    "    def fit(self, X, y, initial_weights=None):\n",
    "        \"\"\" \n",
    "            Fit the data; run the algorithm and adjust the weights to find a \n",
    "            good solution\n",
    "        Args:\n",
    "            X (array-like): A 2D numpy array with the training data, excluding\n",
    "            targets\n",
    "            y (array-like): A 2D numpy array with the training targets\n",
    "            initial_weights (array-like): allows the user to provide initial \n",
    "            weights\n",
    "        Returns:\n",
    "            self: this allows this to be chained, e.g. model.fit(X,y).predict(X_test)\n",
    "        \"\"\"\n",
    "        X = self._add_bias(X)\n",
    "        self.weights = self.initialize_weights(X.shape[1]) if initial_weights is None else initial_weights\n",
    "        epochs_since_no_improvement = 0\n",
    "        self.scores = []\n",
    "        loss = 1\n",
    "        previous_loss = 1\n",
    "\n",
    "        for epoch in range(self.num_epochs):\n",
    "            previous_loss = loss\n",
    "\n",
    "            # Train one epoch\n",
    "            if self.shuffle:\n",
    "                X, y = self._shuffle_data(X, y)\n",
    "\n",
    "            for i in range(X.shape[0]):\n",
    "                input = X[i, :]\n",
    "                target = y[i]\n",
    "                net = np.dot(input, self.weights).sum()\n",
    "                output = 1 if net > 0 else 0\n",
    "                chng_weight = \\\n",
    "                    np.multiply(input, self.lr * (target - output))\n",
    "                self.weights = np.add(self.weights, chng_weight)\n",
    "\n",
    "            # update accuracy\n",
    "            local_accuracy = self.score(X[:, :-1], y)\n",
    "            self.scores.append(local_accuracy)\n",
    "\n",
    "            loss = 1 - local_accuracy\n",
    "\n",
    "            if loss > (previous_loss - self.tol):\n",
    "                epochs_since_no_improvement += 1\n",
    "            else:\n",
    "                self.best_accuracy = local_accuracy\n",
    "                epochs_since_no_improvement = 0\n",
    "\n",
    "            # Break if it's been a few epochs with no improvement\n",
    "            if epochs_since_no_improvement >= self.max_iter_no_change:\n",
    "                break\n",
    "\n",
    "        return self\n",
    "\n",
    "    def predict(self, X):\n",
    "        \"\"\" \n",
    "            Predict all classes for a dataset X\n",
    "        Args:\n",
    "            X (array-like): A 2D numpy array with the training data, excluding \n",
    "            targets\n",
    "        Returns:\n",
    "            array, shape (n_samples,)\n",
    "                Predicted target values per element in X.\n",
    "        \"\"\"\n",
    "        out = np.matmul(X, self.weights)\n",
    "        preds = np.where(out>0, 1, 0)\n",
    "        return (preds)\n",
    "\n",
    "    def initialize_weights(self, n):\n",
    "        \"\"\" Initialize weights for perceptron. Don't forget the bias!\n",
    "        Returns:\n",
    "        \"\"\"\n",
    "        return np.random.uniform(-1e-1, 1e-1, n) # n + 1 for bias\n",
    "\n",
    "    def score(self, X, y):\n",
    "        \"\"\" \n",
    "            Return accuracy of model on a given dataset. Must implement own \n",
    "            score function.\n",
    "        Args:\n",
    "            X (array-like): A 2D numpy array with data, excluding targets\n",
    "            y (array-like): A 2D numpy array with targets\n",
    "        Returns:\n",
    "            score : float\n",
    "                Mean accuracy of self.predict(X) wrt. y.\n",
    "        \"\"\"\n",
    "        X = self._add_bias(X)\n",
    "        preds = self.predict(X)\n",
    "        cnt_same = 0\n",
    "        for i in range(len(preds)):\n",
    "            if preds[i] == y[i]:\n",
    "                cnt_same += 1\n",
    "\n",
    "        return cnt_same/len(preds)\n",
    "\n",
    "    def train_test_split(self, X, y, prop_test=1):\n",
    "        assert(0 < prop_test <= 1)\n",
    "\n",
    "        if self.shuffle:\n",
    "            X, y = self._shuffle_data(X, y)\n",
    "\n",
    "        X_train = X[:int( len(X) * prop_test ),:]\n",
    "        X_test = X[int( len(X) * prop_test ):,:]\n",
    "        y_train = y[:int( len(y) * prop_test )]\n",
    "        y_test = y[int( len(y) * prop_test ):]\n",
    "\n",
    "        return X_train, y_train, X_test, y_test\n",
    "\n",
    "    def _add_bias(self, X):\n",
    "        bias_col = np.ones((X.shape[0], 1))\n",
    "        return np.append(X, bias_col, 1)\n",
    "\n",
    "    def _shuffle_data(self, X, y):\n",
    "        \"\"\" \n",
    "            Shuffle the data! This _ prefix suggests that this method should \n",
    "            only be called internally.\n",
    "            It might be easier to concatenate X & y and shuffle a single 2D \n",
    "            array, rather than shuffling X and y exactly the same way, \n",
    "            independently.\n",
    "        \"\"\"\n",
    "        arr = np.concatenate((X, np.reshape(y, (len(y), 1))), axis=1)\n",
    "        np.random.shuffle(arr)\n",
    "        return arr[:, :-1], arr[:, -1]\n",
    "\n",
    "    ### Not required by sk-learn but required by us for grading. Returns the weights.\n",
    "    def get_weights(self):\n",
    "        return self.weights\n",
    "\n",
    "    def get_epochs_ran(self):\n",
    "        return len(self.scores)\n",
    "\n",
    "    def get_scores(self):\n",
    "        return self.scores"
   ]
  },
  {
   "cell_type": "markdown",
   "metadata": {
    "id": "KibCIXIThpbE"
   },
   "source": [
    "## 1.1 Debug and Evaluation\n",
    "\n",
    "Debug and Evaluate your model using the parameters below\n",
    "\n",
    "Learning Rate = 0.1 \\ \n",
    "Deterministic = 10 [This means run it 10 epochs and should be the same everytime you run it] \\ \n",
    "Shuffle = False \\ \n",
    "Initial Weights = All zeros\n",
    "\n",
    "---\n",
    "\n",
    "### 1.1.1 Debug\n",
    "\n",
    "Debug your model by running it on the [debug dataset](https://raw.githubusercontent.com/cs472ta/CS472/master/datasets/linsep2nonorigin.arff)\n",
    "\n",
    "Expected Results:\n",
    "\n",
    "Accuracy = [0.88]\\\n",
    "Final Weights = [-0.23  0.18 -0.1 ]"
   ]
  },
  {
   "cell_type": "code",
   "execution_count": 3,
   "metadata": {
    "id": "KgAyy82gixIF"
   },
   "outputs": [
    {
     "name": "stdout",
     "output_type": "stream",
     "text": [
      "Epochs ran: 10\n",
      "Score: 0.875\n",
      "Weights: [-0.23  0.18 -0.1 ]\n"
     ]
    }
   ],
   "source": [
    "# Load debug data\n",
    "linsep = arff.loadarff('datasets/linsep2nonorigin.arff')\n",
    "debugDF = pd.DataFrame(linsep[0])\n",
    "debugDF['class'] = pd.to_numeric(debugDF['class'])\n",
    "y = debugDF.iloc[:, -1].to_numpy()\n",
    "X = debugDF.iloc[:, 0:-1].to_numpy()\n",
    "\n",
    "# Train on debug data\n",
    "perceptron = PerceptronClassifier(lr=0.1, shuffle=False,\n",
    "                                  num_epochs=10,\n",
    "                                  tol=-10,\n",
    "                                  max_iter_no_change=20)\n",
    "\n",
    "initial_weights = np.zeros(X.shape[1] + 1)\n",
    "perceptron.fit(X, y, initial_weights=initial_weights)\n",
    "\n",
    "# Print accuracy and weights\n",
    "print(\"Epochs ran: {}\".format(perceptron.get_epochs_ran()))\n",
    "print(\"Score: {}\".format(perceptron.score(X,y)))\n",
    "print(\"Weights: {}\".format(perceptron.get_weights()))"
   ]
  },
  {
   "cell_type": "markdown",
   "metadata": {
    "id": "kY3VNB1ui03N"
   },
   "source": [
    "### 1.1.2 Evaluation\n",
    "\n",
    "We will evaluate your model based on it's performance on the [evaluation dataset](https://raw.githubusercontent.com/cs472ta/CS472/master/datasets/data_banknote_authentication.arff)"
   ]
  },
  {
   "cell_type": "code",
   "execution_count": 4,
   "metadata": {
    "id": "2yAxA78QjDh2"
   },
   "outputs": [
    {
     "name": "stdout",
     "output_type": "stream",
     "text": [
      "Epochs ran: 10\n",
      "Score: 0.988\n",
      "Weights: [-3.80657242 -2.840821   -3.0719334  -1.4003906   4.9       ]\n"
     ]
    }
   ],
   "source": [
    "# Load evaluation data\n",
    "banknote = arff.loadarff('datasets/data_banknote_authentication.arff')\n",
    "banknoteDF = pd.DataFrame(banknote[0])\n",
    "banknoteDF['class'] = pd.to_numeric(banknoteDF['class'])\n",
    "\n",
    "y = banknoteDF.iloc[:, -1].to_numpy()\n",
    "X = banknoteDF.iloc[:, 0:-1].to_numpy()\n",
    "\n",
    "# Train on evaluation data\n",
    "perceptron = PerceptronClassifier(lr=0.1, shuffle=False,\n",
    "                                  num_epochs=10,\n",
    "                                  tol=-10,\n",
    "                                  max_iter_no_change=20)\n",
    "\n",
    "initial_weights = np.zeros(X.shape[1] + 1)\n",
    "perceptron.fit(X, y, initial_weights=initial_weights)\n",
    "\n",
    "# Print accuracy and weights\n",
    "print(\"Epochs ran: {}\".format(perceptron.get_epochs_ran()))\n",
    "print(\"Score: {0:0.3f}\".format(perceptron.score(X,y)))\n",
    "print(\"Weights: {}\".format(perceptron.get_weights()))"
   ]
  },
  {
   "cell_type": "markdown",
   "metadata": {
    "id": "9vWiTdlbR2Xh"
   },
   "source": [
    "## 2. (30%) Classifying on linearly separable and non-linearly separable data\n",
    "\n",
    "### 2.1 Create 2 datasets\n",
    "\n",
    "- Both with 8 instances using 2 real valued inputs (ranging between -1 and 1) with 4 instances from each class. \n",
    "- One data set should be linearly separable and the other not.\n",
    "\n"
   ]
  },
  {
   "cell_type": "code",
   "execution_count": 24,
   "metadata": {
    "id": "4SSoasDQSKXb"
   },
   "outputs": [
    {
     "name": "stdout",
     "output_type": "stream",
     "text": [
      "[[0.25 0.25 1.  ]\n",
      " [0.5  0.25 1.  ]\n",
      " [0.75 0.25 1.  ]\n",
      " [1.   0.25 1.  ]\n",
      " [0.25 0.75 0.  ]\n",
      " [0.5  0.75 0.  ]\n",
      " [0.75 0.75 0.  ]\n",
      " [1.   0.75 0.  ]]\n",
      "[[0.205  0.5981 1.    ]\n",
      " [0.337  0.3563 1.    ]\n",
      " [0.695  0.4021 1.    ]\n",
      " [0.831  0.6882 1.    ]\n",
      " [0.4    0.8    0.    ]\n",
      " [0.4    0.6    0.    ]\n",
      " [0.6    0.6    0.    ]\n",
      " [0.6    0.8    0.    ]]\n"
     ]
    }
   ],
   "source": [
    "# Create 2 datasets\n",
    "\n",
    "linsep = pd.read_csv('datasets/csv/linsep.csv', \n",
    "                     header=None).to_numpy()\n",
    "\n",
    "# y=4(x-0.5)^{2}+0.25\n",
    "nonlinsep = pd.read_csv('datasets/csv/nonlinsep.csv',\n",
    "                        header=None).to_numpy()"
   ]
  },
  {
   "cell_type": "markdown",
   "metadata": {
    "id": "SIRG42TgSR4x"
   },
   "source": [
    "### 2.2 Train on both sets with your perceptron code (with LR=.1)"
   ]
  },
  {
   "cell_type": "code",
   "execution_count": 29,
   "metadata": {
    "id": "KBGUn43ASiXW"
   },
   "outputs": [
    {
     "name": "stdout",
     "output_type": "stream",
     "text": [
      "Epochs ran: 8\n",
      "Final accuracy: 1.0\n",
      "Epochs ran: 6\n",
      "Final accuracy: 0.5\n"
     ]
    }
   ],
   "source": [
    "# Train on each dataset\n",
    "X_linsep = linsep[:, 0:-1]\n",
    "y_linsep = linsep[:, -1]\n",
    "\n",
    "perceptron_linsep = PerceptronClassifier(lr=0.1, shuffle=True)\n",
    "perceptron_linsep.fit(X_linsep, y_linsep)\n",
    "\n",
    "# Print accuracy and weights\n",
    "print(\"Epochs ran: {}\" \\\n",
    "      .format(perceptron_linsep.get_epochs_ran()))\n",
    "print(\"Final accuracy: {}\" \\\n",
    "      .format(perceptron_linsep.score(X_linsep, y_linsep)))\n",
    "\n",
    "X_nonlinsep = nonlinsep[:, 0:-1]\n",
    "y_nonlinsep = nonlinsep[:, -1]\n",
    "\n",
    "perceptron_nonlinsep = PerceptronClassifier(lr=0.1, shuffle=True)\n",
    "perceptron_nonlinsep.fit(X_nonlinsep, y_nonlinsep)\n",
    "\n",
    "# Print accuracy and weights\n",
    "print(\"Epochs ran: {}\" \\\n",
    "      .format(perceptron_nonlinsep.get_epochs_ran()))\n",
    "print(\"Final accuracy: {}\" \\\n",
    "      .format(perceptron_nonlinsep.score(X_nonlinsep, y_nonlinsep)))"
   ]
  },
  {
   "cell_type": "markdown",
   "metadata": {
    "id": "v19fpixqTe-7"
   },
   "source": [
    "### 2.3 Graph the datasets and their corresponding decision line\n",
    " \n",
    " - Graph each dataset\n",
    " - Use your trained perceptrons above to determine each dataset's decision line\n",
    " - For all graphs always label the axes!\n",
    " \n",
    "![Linearly Separable Data](https://raw.githubusercontent.com/rmorain/CS472-1/master/images/perceptron/linearly_separable.png)\n",
    "\n",
    "![Not Linearly Separable](https://raw.githubusercontent.com/rmorain/CS472-1/master/images/perceptron/not_linearly_separable.png)"
   ]
  },
  {
   "cell_type": "code",
   "execution_count": 33,
   "metadata": {
    "id": "ZCPFUAGTS2sX"
   },
   "outputs": [
    {
     "name": "stderr",
     "output_type": "stream",
     "text": [
      "C:\\Users\\camer\\anaconda3\\lib\\site-packages\\seaborn\\_decorators.py:36: FutureWarning: Pass the following variables as keyword args: x, y. From version 0.12, the only valid positional argument will be `data`, and passing other arguments without an explicit keyword will result in an error or misinterpretation.\n",
      "  warnings.warn(\n",
      "C:\\Users\\camer\\anaconda3\\lib\\site-packages\\seaborn\\_decorators.py:36: FutureWarning: Pass the following variables as keyword args: x, y. From version 0.12, the only valid positional argument will be `data`, and passing other arguments without an explicit keyword will result in an error or misinterpretation.\n",
      "  warnings.warn(\n"
     ]
    },
    {
     "data": {
      "image/png": "[encoded data removed]",
      "text/plain": [
       "<Figure size 576x576 with 1 Axes>"
      ]
     },
     "metadata": {},
     "output_type": "display_data"
    },
    {
     "data": {
      "image/png": "[encoded data removed]",
      "text/plain": [
       "<Figure size 576x576 with 1 Axes>"
      ]
     },
     "metadata": {},
     "output_type": "display_data"
    }
   ],
   "source": [
    "# Graph datasets and decision lines\n",
    "sns.set_style('whitegrid')\n",
    "sns.set_context('poster')\n",
    "\n",
    "b = perceptron_linsep.get_weights()[-1]\n",
    "w1 = perceptron_linsep.get_weights()[0]\n",
    "w2 = perceptron_linsep.get_weights()[1]\n",
    "x = X_linsep[:, 0]\n",
    "y = X_linsep[:, 1]\n",
    "\n",
    "x_intercept = -b / w1\n",
    "y_intercept = -b / w2\n",
    "m = -(b / w2) / (b / w1)\n",
    "\n",
    "out = m * X_linsep[:, 0] + (-b / w2)\n",
    "\n",
    "fig, ax = plt.subplots(figsize=(8,8))\n",
    "ax = sns.scatterplot(X_linsep[:, 0], X_linsep[:, 1], hue=y_linsep)\n",
    "ax = sns.lineplot(x=X_linsep[:, 0], y=out, color='black')\n",
    "plt.title('Linearly Separable Data')\n",
    "plt.xlabel('X1')\n",
    "plt.ylabel('X2')\n",
    "plt.tight_layout()\n",
    "fig.savefig('decision-line-linsep.png', dpi=300)\n",
    "\n",
    "#------------------------------------------------------------------#\n",
    "b = perceptron_nonlinsep.get_weights()[-1]\n",
    "w1 = perceptron_nonlinsep.get_weights()[0]\n",
    "w2 = perceptron_nonlinsep.get_weights()[1]\n",
    "x = X_nonlinsep[:, 0]\n",
    "y = X_nonlinsep[:, 1]\n",
    "\n",
    "x_intercept = -b / w1\n",
    "y_intercept = -b / w2\n",
    "\n",
    "if b / w1 == 0:\n",
    "    m = 0\n",
    "else:\n",
    "    m = -(b / w2) / (b / w1)\n",
    "\n",
    "out = m * X_nonlinsep[:, 0] + (-b / w2)\n",
    "\n",
    "fig, ax = plt.subplots(figsize=(8,8))\n",
    "ax = sns.scatterplot(X_nonlinsep[:, 0], X_nonlinsep[:, 1], hue=y_nonlinsep)\n",
    "ax = sns.lineplot(x=X_nonlinsep[:, 0], y=out, color='black')\n",
    "plt.title('Nonlinearly Separable Data')\n",
    "plt.xlabel('X1')\n",
    "plt.ylabel('X2')\n",
    "plt.tight_layout()\n",
    "fig.savefig('decision-line-nonlinsep.png', dpi=300)\n"
   ]
  },
  {
   "cell_type": "markdown",
   "metadata": {},
   "source": [
    "### 2.4 Discuss why the perceptron won’t converge on non-linearly separable data."
   ]
  },
  {
   "cell_type": "markdown",
   "metadata": {},
   "source": [
    "The perceptron works by finding parameters to a linear classification function in the nth dimension.\n",
    "Therefore, it can only work on data that is linearly separable and can't find an impossible line\n",
    "to separate non-linearly separable data."
   ]
  },
  {
   "cell_type": "markdown",
   "metadata": {
    "id": "0ySvhd1lUGSe"
   },
   "source": [
    "## 3. (20%) Use your perceptron code to learn this version of the [voting data set](https://raw.githubusercontent.com/cs472ta/CS472/master/datasets/voting-dataset.arff).\n",
    "\n",
    "This particular task is an edited version of the standard voting set, where we have replaced all the “don’t know” values with the most common value for the particular attribute.  \n",
    "\n",
    "### 3.1 Create a table that reports the final training and test set accuracy and the number of epochs for each trial.\n",
    "\n",
    "- Try it five times with different random 70/30 splits. \n",
    "- Use your own code to randomize and make splits. \n",
    "- Report the 5 trials and the average across the 5 trials in a table.  \n",
    "\n",
    "| Trial | Training Accuracy | Test accuracy | Number of epochs |\n",
    "| --- | --- | --- | --- |\n",
    "| 1 | .95 | .55 | 4 |\n",
    "| 2 | .85 | .45 | 6 |\n",
    "| Average | .9 | .5 | 5 | \n",
    "\n",
    "*- As a rough sanity check, typical Perceptron test accuracies for the voting data set are 90%-98%.*\n"
   ]
  },
  {
   "cell_type": "code",
   "execution_count": 8,
   "metadata": {
    "id": "Romyl4G8Trki"
   },
   "outputs": [
    {
     "name": "stdout",
     "output_type": "stream",
     "text": [
      "<class 'pandas.core.frame.DataFrame'>\n",
      "RangeIndex: 461 entries, 0 to 460\n",
      "Data columns (total 17 columns):\n",
      " #   Column                                  Non-Null Count  Dtype\n",
      "---  ------                                  --------------  -----\n",
      " 0   handicapped-infants                     461 non-null    int32\n",
      " 1   water-project-cost-sharing              461 non-null    int32\n",
      " 2   adoption-of-the-budget-resolution       461 non-null    int32\n",
      " 3   physician-fee-freeze                    461 non-null    int32\n",
      " 4   el-salvador-aid                         461 non-null    int32\n",
      " 5   religious-groups-in-schools             461 non-null    int32\n",
      " 6   anti-satellite-test-ban                 461 non-null    int32\n",
      " 7   aid-to-nicaraguan-contras               461 non-null    int32\n",
      " 8   mx-missile                              461 non-null    int32\n",
      " 9   immigration                             461 non-null    int32\n",
      " 10  synfuels-corporation-cutback            461 non-null    int32\n",
      " 11  education-spending                      461 non-null    int32\n",
      " 12  superfund-right-to-sue                  461 non-null    int32\n",
      " 13  crime                                   461 non-null    int32\n",
      " 14  duty-free-exports                       461 non-null    int32\n",
      " 15  export-administration-act-south-africa  461 non-null    int32\n",
      " 16  Class                                   461 non-null    int32\n",
      "dtypes: int32(17)\n",
      "memory usage: 30.7 KB\n",
      "None\n"
     ]
    },
    {
     "data": {
      "text/html": [
       "<div>\n",
       "<style scoped>\n",
       "    .dataframe tbody tr th:only-of-type {\n",
       "        vertical-align: middle;\n",
       "    }\n",
       "\n",
       "    .dataframe tbody tr th {\n",
       "        vertical-align: top;\n",
       "    }\n",
       "\n",
       "    .dataframe thead th {\n",
       "        text-align: right;\n",
       "    }\n",
       "</style>\n",
       "<table border=\"1\" class=\"dataframe\">\n",
       "  <thead>\n",
       "    <tr style=\"text-align: right;\">\n",
       "      <th></th>\n",
       "      <th>Trial</th>\n",
       "      <th>Training accuracy</th>\n",
       "      <th>Test accuracy</th>\n",
       "      <th>Number of epochs</th>\n",
       "    </tr>\n",
       "  </thead>\n",
       "  <tbody>\n",
       "    <tr>\n",
       "      <th>0</th>\n",
       "      <td>1.0</td>\n",
       "      <td>0.947205</td>\n",
       "      <td>0.964029</td>\n",
       "      <td>23.0</td>\n",
       "    </tr>\n",
       "    <tr>\n",
       "      <th>1</th>\n",
       "      <td>2.0</td>\n",
       "      <td>0.965839</td>\n",
       "      <td>0.964029</td>\n",
       "      <td>55.0</td>\n",
       "    </tr>\n",
       "    <tr>\n",
       "      <th>2</th>\n",
       "      <td>3.0</td>\n",
       "      <td>0.925466</td>\n",
       "      <td>0.928058</td>\n",
       "      <td>22.0</td>\n",
       "    </tr>\n",
       "    <tr>\n",
       "      <th>3</th>\n",
       "      <td>4.0</td>\n",
       "      <td>0.965839</td>\n",
       "      <td>0.928058</td>\n",
       "      <td>40.0</td>\n",
       "    </tr>\n",
       "    <tr>\n",
       "      <th>4</th>\n",
       "      <td>5.0</td>\n",
       "      <td>0.947205</td>\n",
       "      <td>0.906475</td>\n",
       "      <td>17.0</td>\n",
       "    </tr>\n",
       "  </tbody>\n",
       "</table>\n",
       "</div>"
      ],
      "text/plain": [
       "   Trial  Training accuracy  Test accuracy  Number of epochs\n",
       "0    1.0           0.947205       0.964029              23.0\n",
       "1    2.0           0.965839       0.964029              55.0\n",
       "2    3.0           0.925466       0.928058              22.0\n",
       "3    4.0           0.965839       0.928058              40.0\n",
       "4    5.0           0.947205       0.906475              17.0"
      ]
     },
     "metadata": {},
     "output_type": "display_data"
    }
   ],
   "source": [
    "# Create the table any way you like\n",
    "vote = arff.loadarff(r\"datasets/voting-dataset.arff\")\n",
    "voteDF = pd.DataFrame(vote[0])\n",
    "voteDF = voteDF.astype(str)\n",
    "\n",
    "# Convert columns to classes\n",
    "for column in voteDF.columns[:-1]:\n",
    "    voteDF[column] = voteDF[column].astype(str)\n",
    "    voteDF[column] = np.where(voteDF[column] \\\n",
    "                              .str \\\n",
    "                              .find('y') != -1, 1, 0)\n",
    "\n",
    "# Change response column to classes. \n",
    "# democrat = 0; republican = 1\n",
    "voteDF['Class'] = np.where(voteDF['Class'] \\\n",
    "                           .astype(str) \\\n",
    "                           .str \\\n",
    "                           .find('rep') != -1, 1, 0)\n",
    "\n",
    "print(voteDF.info())\n",
    "\n",
    "# Put data into np array\n",
    "X_vote = voteDF.iloc[:, :-1].to_numpy()\n",
    "y_vote = voteDF.iloc[:, -1].to_numpy()\n",
    "\n",
    "vote_resultsDF = pd.DataFrame(columns=['Trial',\n",
    "                                       'Training accuracy',\n",
    "                                       'Test accuracy',\n",
    "                                       'Number of epochs'])\n",
    "\n",
    "# Train data on a classifier\n",
    "perceptron_vote = PerceptronClassifier(lr=0.0005, \n",
    "                                       shuffle=True, \n",
    "                                       tol=1e-4, \n",
    "                                       max_iter_no_change=3)\n",
    "trial_scores = []\n",
    "\n",
    "for trial in range(5):\n",
    "    X_train, y_train, X_test, y_test = \\\n",
    "        perceptron_vote.train_test_split(X_vote, y_vote, prop_test=0.7)\n",
    "    perceptron_vote.fit(X_train, y_train)\n",
    "\n",
    "    # Report the results of the trial\n",
    "    vote_resultsDF = vote_resultsDF.append({\n",
    "        'Trial': trial + 1,\n",
    "        'Training accuracy': perceptron_vote.score(X_train, y_train),\n",
    "        'Test accuracy': perceptron_vote.score(X_test, y_test),\n",
    "        'Number of epochs': perceptron_vote.get_epochs_ran()\n",
    "    }, ignore_index=True)\n",
    "\n",
    "    # Save the scores\n",
    "    trial_scores.append(perceptron_vote.get_scores())\n",
    "\n",
    "display(vote_resultsDF)\n"
   ]
  },
  {
   "cell_type": "code",
   "execution_count": 9,
   "metadata": {
    "pycharm": {
     "name": "#%%\n"
    }
   },
   "outputs": [
    {
     "name": "stdout",
     "output_type": "stream",
     "text": [
      "Averages\n"
     ]
    },
    {
     "data": {
      "text/plain": [
       "Training accuracy     0.950311\n",
       "Test accuracy         0.938129\n",
       "Number of epochs     31.400000\n",
       "dtype: float64"
      ]
     },
     "metadata": {},
     "output_type": "display_data"
    },
    {
     "name": "stdout",
     "output_type": "stream",
     "text": [
      "Final weights: \n",
      "\t[-0.0384  0.0153 -0.019   0.0691  0.0367 -0.0321  0.0233  0.0194 -0.0407\n",
      "  0.0447 -0.0182 -0.0199  0.0353  0.0429  0.0243 -0.018 ]\n"
     ]
    }
   ],
   "source": [
    "print(\"Averages\")\n",
    "display(vote_resultsDF[['Training accuracy', 'Test accuracy', 'Number of epochs']].mean())\n",
    "mean_test_accuracy = vote_resultsDF['Test accuracy'].mean()\n",
    "\n",
    "# Print weights\n",
    "np.set_printoptions(precision=4, suppress=True)\n",
    "weights = perceptron_vote.get_weights()[:-1] # without bias\n",
    "\n",
    "print(\"Final weights: \\n\\t{}\".format(weights))"
   ]
  },
  {
   "cell_type": "markdown",
   "metadata": {
    "id": "cm4rbWkzVeoR"
   },
   "source": [
    "### 3.2 By looking at the weights, explain what the model has learned and how the individual input features affect the result. Which specific features are most critical for the voting task, and which are least critical? \n"
   ]
  },
  {
   "cell_type": "markdown",
   "metadata": {
    "id": "g3F0Qp-BVi1R"
   },
   "source": [
    "The model has learned which input features are the most important in classifying whether the representative\n",
    "belongs to the democratic or republican party. To determine the most important features, I filtered those whose\n",
    "absolute value weights are greater than the 75th quantile of absolute value weights. Likewise, to determine the least important features, I filtered those\n",
    "whose absolute value weights are less than the 25th quantile of absolute value weights."
   ]
  },
  {
   "cell_type": "code",
   "execution_count": 10,
   "metadata": {
    "pycharm": {
     "name": "#%%\n"
    }
   },
   "outputs": [
    {
     "name": "stdout",
     "output_type": "stream",
     "text": [
      "Most significant features (above the 75th quantile):\n",
      "\tphysician-fee-freeze\n",
      "\tmx-missile\n",
      "\timmigration\n",
      "\tcrime\n",
      "Least significant features (below the 25th quantile):\n",
      "\twater-project-cost-sharing\n",
      "\tadoption-of-the-budget-resolution\n",
      "\tsynfuels-corporation-cutback\n",
      "\texport-administration-act-south-africa\n"
     ]
    }
   ],
   "source": [
    "abs_weights = np.abs(weights)\n",
    "important_factors = np.where(abs_weights > np.quantile(abs_weights, 0.75))[0] # Where the weight is bigger than the mean of abs weights\n",
    "nonimportant_factors = np.where(abs_weights < np.quantile(abs_weights, 0.25))[0]\n",
    "\n",
    "print(\"Most significant features (above the 75th quantile):\")\n",
    "for ind in important_factors:\n",
    "    print(\"\\t{}\".format(voteDF.columns[ind]))\n",
    "\n",
    "print(\"Least significant features (below the 25th quantile):\")\n",
    "for ind in nonimportant_factors:\n",
    "    print(\"\\t{}\".format(voteDF.columns[ind]))"
   ]
  },
  {
   "cell_type": "markdown",
   "metadata": {
    "id": "NyUmJ4yWVsQ7"
   },
   "source": [
    "### 3.3 Make a graph of the average misclassification rate vs epochs (0th – final epoch).\n",
    "\n",
    "- Average the misclassification rate for the training set across your 5 trials (not across 5 epochs).\n",
    "\n",
    "\n",
    "![Average Misclassification Rate](https://raw.githubusercontent.com/rmorain/CS472-1/master/images/perceptron/avg_misclassification_rate_vs_epochs.png)"
   ]
  },
  {
   "cell_type": "code",
   "execution_count": 42,
   "metadata": {
    "id": "2_ZRPWWVVeFM"
   },
   "outputs": [
    {
     "data": {
      "image/png": "[encoded data removed]",
      "text/plain": [
       "<Figure size 432x288 with 1 Axes>"
      ]
     },
     "metadata": {},
     "output_type": "display_data"
    }
   ],
   "source": [
    "# Graph here\n",
    "vote_scoresDF = pd.DataFrame(columns=['Trial', 'Training accuracy'])\n",
    "for trial_num in range(len(trial_scores)):\n",
    "    for epoch in range(len(trial_scores[trial_num])):\n",
    "        vote_scoresDF = vote_scoresDF.append({\n",
    "            'Trial': trial_num,\n",
    "            'Training accuracy': trial_scores[trial_num][epoch],\n",
    "            'Number of epochs': epoch\n",
    "        }, ignore_index=True)\n",
    "\n",
    "vote_scoresDF['Misclassification Rate Training'] = 1 - vote_scoresDF['Training accuracy']\n",
    "avg_misclassification_rate = \\\n",
    "    vote_scoresDF.groupby('Number of epochs').agg(np.mean)['Misclassification Rate Training']\n",
    "\n",
    "sns.set_context('notebook')\n",
    "\n",
    "def plot_misclassification(avg_misclassification_rate):\n",
    "    \"\"\"\n",
    "        Plots the average misclassification rate\n",
    "    Args:\n",
    "        avg_misclassification_rate (array-like): A 1D array or list\n",
    "    \"\"\"\n",
    "    plt.plot(np.arange(len(avg_misclassification_rate)), avg_misclassification_rate)\n",
    "    plt.title(\"Average Misclassification Rate vs. Epoch\")\n",
    "    plt.xlabel(\"Epoch\")\n",
    "    plt.ylabel(\"Avg Misclassification Rate\")\n",
    "    plt.show()\n",
    "\n",
    "plot_misclassification(avg_misclassification_rate)\n",
    "\n"
   ]
  },
  {
   "cell_type": "markdown",
   "metadata": {
    "id": "oBBmeNQ7jvcQ"
   },
   "source": [
    "## 4.1 (5%) Use the perceptron algorithm from the [scikit-learn toolkit](https://scikit-learn.org/stable/modules/generated/sklearn.linear_model.Perceptron.html) to learn the voting task above.\n",
    "- Report and compare your results with your own perceptron code."
   ]
  },
  {
   "cell_type": "code",
   "execution_count": 51,
   "metadata": {
    "id": "OFQv70W2VyqJ"
   },
   "outputs": [
    {
     "name": "stdout",
     "output_type": "stream",
     "text": [
      "My implementation test accuracy: 0.938\n",
      "SciKit-Learn test accuracy: 0.928\n"
     ]
    }
   ],
   "source": [
    "# Load sklearn perceptron\n",
    "perceptron_sklearn = Perceptron()\n",
    "\n",
    "# Train on voting dataset\n",
    "X_train, X_test, y_train, y_test = \\\n",
    "    train_test_split(X_vote, y_vote, test_size=0.3)\n",
    "perceptron_sklearn.fit(X_train, y_train)\n",
    "sklearn_test_accuracy = perceptron_sklearn.score(X_test, y_test)\n",
    "\n",
    "# Print results\n",
    "print(\"My implementation test accuracy: {0:0.3f}\" \\\n",
    "      .format(mean_test_accuracy))\n",
    "print(\"SciKit-Learn test accuracy: {0:0.3f}\" \\\n",
    "      .format(sklearn_test_accuracy))"
   ]
  },
  {
   "cell_type": "markdown",
   "metadata": {},
   "source": [
    "Depending on how the data is shuffled, my implementation and the SciKit-Learn perceptron are generally\n",
    "very close in accuracy."
   ]
  },
  {
   "cell_type": "markdown",
   "metadata": {},
   "source": [
    "## 4.2 (5%) Use the perceptron algorithm from the [scikit-learn toolkit](https://scikit-learn.org/stable/modules/generated/sklearn.linear_model.Perceptron.html) to learn one other data set of your choice.\n",
    "- Try out some of the hyper-parameters that scikit-learn makes available."
   ]
  },
  {
   "cell_type": "code",
   "execution_count": 55,
   "metadata": {},
   "outputs": [],
   "source": [
    "# Hyperparameters to try\n",
    "penalty_opt = [None,'l2','l1', 'elasticnet'] # default: None\n",
    "alpha_opt = np.linspace(1e-4, 1e-1, 10) # default: 1e-4\n",
    "tol_opt = np.linspace(1e-4, 1e-1, 10) # default: 1e-3\n",
    "validation_fraction_opt = np.linspace(0.001, 0.2, 10) # default: 0.1\n",
    "n_iter_no_change_opt = np.linspace(1, 20, 10) # default: 5\n",
    "random_state = 1 # for reproducible output\n",
    "\n",
    "X_train, X_test, y_train, y_test = \\\n",
    "    train_test_split(X_vote,\n",
    "                     y_vote,\n",
    "                     test_size=0.3,\n",
    "                     random_state=random_state)\n",
    "\n",
    "best_model = Perceptron(random_state=random_state)\n",
    "best_model.fit(X_train, y_train)\n",
    "base_accuracy = best_model.score(X_test, y_test)\n",
    "\n",
    "# Train on your dataset\n",
    "for penalty in penalty_opt:\n",
    "    for alpha in alpha_opt:\n",
    "        for tol in tol_opt:\n",
    "            for validation_fraction in validation_fraction_opt:\n",
    "                for n_iter_no_change in n_iter_no_change_opt:\n",
    "                    curr_model = \\\n",
    "                        Perceptron(penalty=penalty, \n",
    "                                   alpha=alpha, \n",
    "                                   tol=tol,\n",
    "                                   validation_fraction=validation_fraction,\n",
    "                                   n_iter_no_change=n_iter_no_change,\n",
    "                                   random_state=random_state)\n",
    "                    curr_model.fit(X_train, y_train)\n",
    "\n",
    "                    if curr_model.score(X_test, y_test) > \\\n",
    "                            best_model.score(X_test, y_test):\n",
    "                        best_model = curr_model\n",
    "                        best_penalty = penalty\n",
    "                        best_alpha = alpha\n",
    "                        best_tol = tol\n",
    "                        best_validation_fraction = validation_fraction\n",
    "                        best_n_iter_no_change = n_iter_no_change"
   ]
  },
  {
   "cell_type": "markdown",
   "metadata": {
    "id": "BqSFAXwlk3Ms"
   },
   "source": [
    "With the hyperparameters tested, the best performing ones are listed here."
   ]
  },
  {
   "cell_type": "code",
   "execution_count": 54,
   "metadata": {
    "pycharm": {
     "name": "#%%\n"
    }
   },
   "outputs": [
    {
     "name": "stdout",
     "output_type": "stream",
     "text": [
      "Base accuracy: 0.964\n",
      "Best accuracy: 0.978\n",
      "best_penalty: l2\n",
      "best_alpha: 0.0001\n",
      "best_tol: 0.0001\n",
      "best_validation_fraction: 0.001\n",
      "best_n_iter_no_change: 15\n"
     ]
    }
   ],
   "source": [
    "print(\"Base accuracy: {0:0.3f}\".format(base_accuracy))\n",
    "print(\"Best accuracy: {0:0.3f}\".format(best_model.score(X_test, y_test)))\n",
    "print(\"best_penalty: {}\".format(best_penalty))\n",
    "print(\"best_alpha: {}\".format(best_alpha))\n",
    "print(\"best_tol: {}\".format(best_tol))\n",
    "print(\"best_validation_fraction: {}\".format(best_validation_fraction))\n",
    "print(\"best_n_iter_no_change: {}\".format(int(best_n_iter_no_change)))"
   ]
  },
  {
   "cell_type": "markdown",
   "metadata": {
    "id": "cTlK-kijk8Mg"
   },
   "source": [
    "## 5. (Optional 5% extra credit) Use the perceptron rule to learn the [iris task](https://raw.githubusercontent.com/cs472ta/CS472/master/datasets/iris.arff) or some other task with more than two possible output values. \n",
    "\n",
    "Note that the [iris data](https://raw.githubusercontent.com/cs472ta/CS472/master/datasets/iris.arff) set has 3 output classes, and a perceptron node only has two possible outputs.  You could implement either of the two most common ways to deal with this. For testing you just execute the novel instance on each model and combine the overall results to see which output class wins."
   ]
  },
  {
   "cell_type": "code",
   "execution_count": null,
   "metadata": {
    "id": "5iY77P7gk1Nh"
   },
   "outputs": [],
   "source": []
  }
 ],
 "metadata": {
  "colab": {
   "collapsed_sections": [],
   "name": "lab 1 - perceptron",
   "provenance": []
  },
  "kernelspec": {
   "display_name": "Python 3",
   "language": "python",
   "name": "python3"
  },
  "language_info": {
   "codemirror_mode": {
    "name": "ipython",
    "version": 3
   },
   "file_extension": ".py",
   "mimetype": "text/x-python",
   "name": "python",
   "nbconvert_exporter": "python",
   "pygments_lexer": "ipython3",
   "version": "3.8.8"
  }
 },
 "nbformat": 4,
 "nbformat_minor": 4
}