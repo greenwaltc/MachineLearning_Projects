{
 "cells": [
  {
   "cell_type": "markdown",
   "metadata": {
    "id": "DVL7_bgmIAPR"
   },
   "source": [
    "# Unsupervised Learning: Clustering Lab\n",
    "\n",
    "\n",
    "\n"
   ]
  },
  {
   "cell_type": "code",
   "execution_count": 10,
   "metadata": {
    "id": "6ZbYjZZZ_yLV"
   },
   "outputs": [],
   "source": [
    "from sklearn.base import BaseEstimator, ClassifierMixin, ClusterMixin\n",
    "from sklearn.cluster import AgglomerativeClustering, KMeans\n",
    "from sklearn.metrics import silhouette_score\n",
    "import numpy as np\n",
    "import matplotlib.pyplot as plt\n",
    "\n",
    "from scipy.io import arff\n",
    "import pandas as pd\n",
    "from IPython.core.display import display\n",
    "import pprint\n",
    "pp = pprint.PrettyPrinter(indent=4)\n",
    "from scipy.spatial.distance import cdist\n",
    "import gc\n",
    "from sklearn.metrics import silhouette_score\n",
    "import copy\n",
    "import time\n",
    "from numpy.random import default_rng\n",
    "from scipy.spatial import distance_matrix"
   ]
  },
  {
   "cell_type": "code",
   "execution_count": 2,
   "metadata": {},
   "outputs": [],
   "source": [
    "# HELPER FUNCTIONS\n",
    "\n",
    "def load_data(filename):\n",
    "    data = arff.loadarff(filename)\n",
    "    df = pd.DataFrame(data[0])\n",
    "\n",
    "    for i in range(len(df.dtypes)):\n",
    "        if df.dtypes.astype(str).iloc[i] == 'object':\n",
    "            column = df.columns[i]\n",
    "            df[column] = df[column] \\\n",
    "                            .astype(str).str \\\n",
    "                            .split(\"\\'\", expand=True) \\\n",
    "                            .iloc[:,1]\n",
    "    return df\n",
    "\n",
    "def normalize(data):\n",
    "    return (data - np.min(data, axis=0)) / (np.max(data, axis=0) - np.min(data, axis=0))"
   ]
  },
  {
   "cell_type": "markdown",
   "metadata": {
    "id": "sCcEPx5VIORj"
   },
   "source": [
    "## 1. (50%) Implement the k-means clustering algorithm and the HAC (Hierarchical Agglomerative Clustering) algorithm.\n",
    "\n",
    "### 1.1.1 HAC\n",
    "\n",
    "### Code requirements \n",
    "- HAC should support both single link and complete link options.\n",
    "- HAC automatically generates all clusterings from n to 1.  To simplify the amount of output you may want to implement a mechanism to specify for which k values actual output will be generated.\n",
    "\n",
    "\n",
    "---\n",
    "The output should include the following:\n",
    "- The number of clusters (k).\n",
    "- The silhouette score of the full clustering. (You can either write and use your own silhouette_score function (extra credit) or use sklearn's)\n",
    "\n",
    "\n",
    "For each cluster report include:\n",
    "\n",
    "\n",
    "- The centroid id.\n",
    "- The number of instances tied to that centroid. \n",
    "---"
   ]
  },
  {
   "cell_type": "code",
   "execution_count": 83,
   "metadata": {
    "id": "_a2KSZ_7AN0G"
   },
   "outputs": [],
   "source": [
    "class HACClustering(BaseEstimator,ClusterMixin):\n",
    "\n",
    "    def __init__(self,k=3,link_type='single'):\n",
    "        \"\"\"\n",
    "        Args:\n",
    "            k = how many final clusters to have\n",
    "            link_type = single or complete. when combining two clusters use complete link or single link\n",
    "        \"\"\"\n",
    "        self.link_type = link_type\n",
    "        self.k = k\n",
    "        \n",
    "    def fit(self, X, y=None):\n",
    "        \"\"\" Fit the data; In this lab this will make the K clusters :D\n",
    "        Args:\n",
    "            X (array-like): A 2D numpy array with the training data\n",
    "            y (array-like): An optional argument. Clustering is usually unsupervised so you don't need labels\n",
    "        Returns:\n",
    "            self: this allows this to be chained, e.g. model.fit(X,y).predict(X_test)\n",
    "        \"\"\"\n",
    "        if y is not None:\n",
    "            if len(y.shape) == 1: y = y.reshape(-1,1)\n",
    "            X = np.append(X, y, axis=1)\n",
    "\n",
    "        self.X = X\n",
    "                \n",
    "        self.labels = np.arange(0, len(self.X), 1)\n",
    "        unique_labels = np.unique(self.labels)\n",
    "        dist_matrix = distance_matrix(self.X, self.X)\n",
    "        \n",
    "        while len(unique_labels) > self.k:\n",
    "            min_cluster_dist = np.inf\n",
    "\n",
    "            for i in range(len(unique_labels) - 1):\n",
    "                c1_label = unique_labels[i]\n",
    "                c1_ind = np.where(self.labels==c1_label)\n",
    "\n",
    "                for j in range(i + 1, len(unique_labels)):\n",
    "                    c2_label = unique_labels[j]\n",
    "                    c2_ind = np.where(self.labels==c2_label)\n",
    "\n",
    "                    dist = dist_matrix[c1_ind][:, c2_ind]\n",
    "                    dist = np.min(dist) if self.link_type=='single' else np.max(dist)\n",
    "\n",
    "                    if dist < min_cluster_dist:\n",
    "                        min_cluster_dist = dist\n",
    "                        min_c1_label, min_c2_ind = c1_label, c2_ind\n",
    "\n",
    "            self.labels[min_c2_ind] = min_c1_label\n",
    "            unique_labels = np.unique(self.labels)\n",
    "\n",
    "        self.clusters = []\n",
    "        for label in np.unique(self.labels):\n",
    "          cluster = self.X[ np.where(self.labels==label) ]\n",
    "          self.clusters.append(cluster)\n",
    "\n",
    "        self.silhouette_score = silhouette_score(self.X, self.labels, metric='euclidean')\n",
    "\n",
    "        return self\n",
    "    \n",
    "    def print_clusters(self):\n",
    "        print(\"Num clusters:\\t\\t{:d}\".format(len(self.clusters)))\n",
    "        for i in range(len(self.clusters)):\n",
    "            cluster = self.clusters[i]\n",
    "            centroid = np.mean(cluster, axis=0)\n",
    "            print(\"Centroid:\\t\\t{}\".format(np.array2string(centroid,precision=4,separator=\",\")))\n",
    "            print(\"Num points:\\t\\t{:d}\".format(cluster.shape[0]))"
   ]
  },
  {
   "cell_type": "markdown",
   "metadata": {
    "id": "KibCIXIThpbE"
   },
   "source": [
    "### 1.1.2 Debug \n",
    "\n",
    "Debug your model by running it on the [Debug Dataset](https://raw.githubusercontent.com/cs472ta/CS472/master/datasets/abalone.arff)\n",
    "\n",
    "\n",
    "---\n",
    "The dataset was modified to be a lot smaller. The last datapoint should be on line 359 or the point 0.585,0.46,0.185,0.922,0.3635,0.213,0.285,10. The remaining points should be commented out.\n",
    "\n",
    "\n",
    "- Make sure to include the output class (last column) as an additional input feature\n",
    "- Normalize Data\n",
    "- K = 5\n",
    "- Use 4 decimal places and DO NOT ROUND when reporting silhouette score and centroid values.\n",
    "\n",
    "\n",
    "---\n",
    "Solutions in files:\n",
    "\n",
    "[Debug HAC Single (Silhouette).txt](https://raw.githubusercontent.com/cs472ta/CS472/master/debug_solutions/Debug%20HAC%20Single%20Link%20%28Silhouette%29.txt)\n",
    "\n",
    "[Debug HAC Complete (Silhouette).txt](https://raw.githubusercontent.com/cs472ta/CS472/master/debug_solutions/Debug%20HAC%20Complete%20Link%20%28Silhouette%29.txt)"
   ]
  },
  {
   "cell_type": "code",
   "execution_count": 40,
   "metadata": {},
   "outputs": [
    {
     "data": {
      "text/html": [
       "<div>\n",
       "<style scoped>\n",
       "    .dataframe tbody tr th:only-of-type {\n",
       "        vertical-align: middle;\n",
       "    }\n",
       "\n",
       "    .dataframe tbody tr th {\n",
       "        vertical-align: top;\n",
       "    }\n",
       "\n",
       "    .dataframe thead th {\n",
       "        text-align: right;\n",
       "    }\n",
       "</style>\n",
       "<table border=\"1\" class=\"dataframe\">\n",
       "  <thead>\n",
       "    <tr style=\"text-align: right;\">\n",
       "      <th></th>\n",
       "      <th>Length</th>\n",
       "      <th>Diameter</th>\n",
       "      <th>Height</th>\n",
       "      <th>Whole_weight</th>\n",
       "      <th>Shucked_weight</th>\n",
       "      <th>Viscera_weight</th>\n",
       "      <th>Shell_weight</th>\n",
       "      <th>Rings</th>\n",
       "    </tr>\n",
       "  </thead>\n",
       "  <tbody>\n",
       "    <tr>\n",
       "      <th>0</th>\n",
       "      <td>0.455</td>\n",
       "      <td>0.365</td>\n",
       "      <td>0.095</td>\n",
       "      <td>0.5140</td>\n",
       "      <td>0.2245</td>\n",
       "      <td>0.1010</td>\n",
       "      <td>0.15</td>\n",
       "      <td>15.0</td>\n",
       "    </tr>\n",
       "    <tr>\n",
       "      <th>1</th>\n",
       "      <td>0.350</td>\n",
       "      <td>0.265</td>\n",
       "      <td>0.090</td>\n",
       "      <td>0.2255</td>\n",
       "      <td>0.0995</td>\n",
       "      <td>0.0485</td>\n",
       "      <td>0.07</td>\n",
       "      <td>7.0</td>\n",
       "    </tr>\n",
       "  </tbody>\n",
       "</table>\n",
       "</div>"
      ],
      "text/plain": [
       "   Length  Diameter  Height  Whole_weight  Shucked_weight  Viscera_weight  \\\n",
       "0   0.455     0.365   0.095        0.5140          0.2245          0.1010   \n",
       "1   0.350     0.265   0.090        0.2255          0.0995          0.0485   \n",
       "\n",
       "   Shell_weight  Rings  \n",
       "0          0.15   15.0  \n",
       "1          0.07    7.0  "
      ]
     },
     "metadata": {},
     "output_type": "display_data"
    },
    {
     "data": {
      "text/html": [
       "<div>\n",
       "<style scoped>\n",
       "    .dataframe tbody tr th:only-of-type {\n",
       "        vertical-align: middle;\n",
       "    }\n",
       "\n",
       "    .dataframe tbody tr th {\n",
       "        vertical-align: top;\n",
       "    }\n",
       "\n",
       "    .dataframe thead th {\n",
       "        text-align: right;\n",
       "    }\n",
       "</style>\n",
       "<table border=\"1\" class=\"dataframe\">\n",
       "  <thead>\n",
       "    <tr style=\"text-align: right;\">\n",
       "      <th></th>\n",
       "      <th>Length</th>\n",
       "      <th>Diameter</th>\n",
       "      <th>Height</th>\n",
       "      <th>Whole_weight</th>\n",
       "      <th>Shucked_weight</th>\n",
       "      <th>Viscera_weight</th>\n",
       "      <th>Shell_weight</th>\n",
       "      <th>Rings</th>\n",
       "    </tr>\n",
       "  </thead>\n",
       "  <tbody>\n",
       "    <tr>\n",
       "      <th>198</th>\n",
       "      <td>0.560</td>\n",
       "      <td>0.45</td>\n",
       "      <td>0.160</td>\n",
       "      <td>0.922</td>\n",
       "      <td>0.4320</td>\n",
       "      <td>0.178</td>\n",
       "      <td>0.260</td>\n",
       "      <td>15.0</td>\n",
       "    </tr>\n",
       "    <tr>\n",
       "      <th>199</th>\n",
       "      <td>0.585</td>\n",
       "      <td>0.46</td>\n",
       "      <td>0.185</td>\n",
       "      <td>0.922</td>\n",
       "      <td>0.3635</td>\n",
       "      <td>0.213</td>\n",
       "      <td>0.285</td>\n",
       "      <td>10.0</td>\n",
       "    </tr>\n",
       "  </tbody>\n",
       "</table>\n",
       "</div>"
      ],
      "text/plain": [
       "     Length  Diameter  Height  Whole_weight  Shucked_weight  Viscera_weight  \\\n",
       "198   0.560      0.45   0.160         0.922          0.4320           0.178   \n",
       "199   0.585      0.46   0.185         0.922          0.3635           0.213   \n",
       "\n",
       "     Shell_weight  Rings  \n",
       "198         0.260   15.0  \n",
       "199         0.285   10.0  "
      ]
     },
     "metadata": {},
     "output_type": "display_data"
    },
    {
     "name": "stdout",
     "output_type": "stream",
     "text": [
      "(200, 7)\n",
      "(200,)\n"
     ]
    }
   ],
   "source": [
    "# Debug Here\n",
    "dbDF = load_data(\"datasets/abalone.arff\")\n",
    "display(dbDF.head(2))\n",
    "display(dbDF.tail(2))\n",
    "\n",
    "X_db = dbDF.iloc[:, :-1].to_numpy()\n",
    "y_db = dbDF.iloc[:, -1].to_numpy()\n",
    "\n",
    "print(X_db.shape)\n",
    "print(y_db.shape)\n",
    "\n",
    "X_db = normalize(X_db)\n",
    "y_db = normalize(y_db)"
   ]
  },
  {
   "cell_type": "code",
   "execution_count": 85,
   "metadata": {},
   "outputs": [
    {
     "name": "stdout",
     "output_type": "stream",
     "text": [
      "time: 14.626831531524658\n",
      "Num clusters:\t\t5\n",
      "Centroid:\t\t[0.599 ,0.5923,0.4915,0.2826,0.2682,0.2921,0.2316,0.3849]\n",
      "Num points:\t\t195\n",
      "Centroid:\t\t[0.9189,0.9438,0.7105,0.7016,0.759 ,0.7222,0.4472,0.8824]\n",
      "Num points:\t\t1\n",
      "Centroid:\t\t[1.    ,0.9831,0.8026,0.8343,0.6575,0.7825,0.9221,0.8824]\n",
      "Num points:\t\t2\n",
      "Centroid:\t\t[1.    ,0.9888,0.7895,1.    ,1.    ,0.8915,0.7186,0.5882]\n",
      "Num points:\t\t1\n",
      "Centroid:\t\t[0.9189,0.9888,0.8684,0.719 ,0.5797,0.7512,0.6432,0.9412]\n",
      "Num points:\t\t1\n"
     ]
    }
   ],
   "source": [
    "# Single Link\n",
    "hac = HACClustering(k=5, link_type='single')\n",
    "t1 = time.time()\n",
    "hac.fit(X_db, y_db)\n",
    "t2 = time.time()\n",
    "print(\"time: {}\".format(t2-t1))\n",
    "hac.print_clusters()"
   ]
  },
  {
   "cell_type": "code",
   "execution_count": 86,
   "metadata": {},
   "outputs": [
    {
     "name": "stdout",
     "output_type": "stream",
     "text": [
      "time: 15.724576711654663\n",
      "Num clusters:\t\t5\n",
      "Centroid:\t\t[0.6544,0.649 ,0.5256,0.2879,0.2815,0.3057,0.2288,0.3911]\n",
      "Num points:\t\t71\n",
      "Centroid:\t\t[0.3661,0.3505,0.271 ,0.1008,0.1024,0.1058,0.0836,0.2116]\n",
      "Num points:\t\t67\n",
      "Centroid:\t\t[0.7622,0.7658,0.6759,0.4265,0.4016,0.4536,0.3376,0.5217]\n",
      "Num points:\t\t38\n",
      "Centroid:\t\t[0.8818,0.8904,0.7582,0.614 ,0.5433,0.5317,0.561 ,0.7794]\n",
      "Num points:\t\t16\n",
      "Centroid:\t\t[0.9471,0.934 ,0.8158,0.7457,0.6434,0.7944,0.6457,0.625 ]\n",
      "Num points:\t\t8\n"
     ]
    }
   ],
   "source": [
    "# Complete Link\n",
    "hac = HACClustering(k=5, link_type='complete')\n",
    "t1 = time.time()\n",
    "hac.fit(X_db, y_db)\n",
    "t2 = time.time()\n",
    "print(\"time: {}\".format(t2-t1))\n",
    "hac.print_clusters()"
   ]
  },
  {
   "cell_type": "markdown",
   "metadata": {
    "id": "kY3VNB1ui03N"
   },
   "source": [
    "### 1.1.3 Evaluation\n",
    "\n",
    "We will evaluate your model based on its print_clusters() output using [Evaluation Dataset](https://raw.githubusercontent.com/cs472ta/CS472/master/datasets/seismic-bumps_train.arff)\n",
    "\n",
    "- Make sure to include the output class (last column) as an additional input feature\n",
    "- Normalize Data\n",
    "- K = 5\n",
    "- Use 4 decimal places and DO NOT ROUND when reporting silhouette score and centroid values."
   ]
  },
  {
   "cell_type": "markdown",
   "metadata": {},
   "source": [
    "#### 1.1.3.1 Complete Link"
   ]
  },
  {
   "cell_type": "code",
   "execution_count": 90,
   "metadata": {
    "id": "2yAxA78QjDh2"
   },
   "outputs": [
    {
     "name": "stdout",
     "output_type": "stream",
     "text": [
      "time 5.231130599975586\n",
      "Num clusters:\t\t5\n",
      "Centroid:\t\t[0.3636,0.4107,0.5609,0.3857,0.3937,0.2808,0.3155,0.    ]\n",
      "Num points:\t\t49\n",
      "Centroid:\t\t[0.3471,0.3622,0.7897,0.279 ,0.441 ,0.8568,0.2234,0.    ]\n",
      "Num points:\t\t3\n",
      "Centroid:\t\t[0.1656,0.2226,0.3509,0.2328,0.152 ,0.3424,0.1918,0.    ]\n",
      "Num points:\t\t18\n",
      "Centroid:\t\t[0.7918,0.8268,0.606 ,0.7669,0.7787,0.4634,0.7877,1.    ]\n",
      "Num points:\t\t49\n",
      "Centroid:\t\t[0.5326,0.6002,0.4536,0.5531,0.5144,0.5401,0.6266,1.    ]\n",
      "Num points:\t\t21\n"
     ]
    }
   ],
   "source": [
    "# Load evaluation data\n",
    "evalDF = load_data(\"datasets/seismic-bumps_train.arff\")\n",
    "evalDF['Class'] = evalDF['Class'].astype(float)\n",
    "\n",
    "X_eval = evalDF.iloc[:, :-1].to_numpy()\n",
    "y_eval = evalDF.iloc[:, -1].to_numpy()\n",
    "\n",
    "X_eval = normalize(X_eval)\n",
    "y_eval = normalize(y_eval)\n",
    "\n",
    "# Train on evaluation data using complete link\n",
    "hac = HACClustering(k=5, link_type='complete')\n",
    "\n",
    "t1 = time.time()\n",
    "hac.fit(X_eval, y_eval)\n",
    "t2 = time.time()\n",
    "print(\"time {}\".format(t2-t1))\n",
    "\n",
    "# Print clusters\n",
    "hac.print_clusters()"
   ]
  },
  {
   "cell_type": "markdown",
   "metadata": {},
   "source": [
    "#### 1.1.3.1 Single Link"
   ]
  },
  {
   "cell_type": "code",
   "execution_count": 89,
   "metadata": {},
   "outputs": [
    {
     "name": "stdout",
     "output_type": "stream",
     "text": [
      "time 5.839275121688843\n",
      "Num clusters:\t\t5\n",
      "Centroid:\t\t[0.3159,0.3648,0.5145,0.349 ,0.3338,0.3077,0.2868,0.    ]\n",
      "Num points:\t\t67\n",
      "Centroid:\t\t[0.2774,0.2597,1.    ,0.1224,0.4505,0.7549,0.129 ,0.    ]\n",
      "Num points:\t\t1\n",
      "Centroid:\t\t[0.3065,0.3333,0.6979,0.2792,0.3787,1.    ,0.2373,0.    ]\n",
      "Num points:\t\t1\n",
      "Centroid:\t\t[0.0884,0.1818,0.    ,0.145 ,0.1538,0.1245,0.    ,0.    ]\n",
      "Num points:\t\t1\n",
      "Centroid:\t\t[0.714 ,0.7588,0.5603,0.7028,0.6994,0.4864,0.7393,1.    ]\n",
      "Num points:\t\t70\n"
     ]
    }
   ],
   "source": [
    "# Train on evaluation data using single link\n",
    "hac = HACClustering(k=5, link_type='single')\n",
    "\n",
    "t1 = time.time()\n",
    "hac.fit(X_eval, y_eval)\n",
    "t2 = time.time()\n",
    "print(\"time {}\".format(t2-t1))\n",
    "\n",
    "# Print clusters\n",
    "hac.print_clusters()"
   ]
  },
  {
   "cell_type": "markdown",
   "metadata": {},
   "source": [
    "### 1.2.1 K-Means\n",
    "\n",
    "### Code requirements \n",
    "- Ability to choose k and specify k initial centroids\n",
    "- Use Euclidean Distance as metric\n",
    "- Ability to handle distance ties\n",
    "- Include output label as a cluster feature\n",
    "\n",
    "\n",
    "---\n",
    "The output should include the following:\n",
    "- The number of clusters (k).\n",
    "- The silhouette score of the full clustering. (You can either write and use your own silhouette_score function (extra credit) or use sklearn's)\n",
    "\n",
    "\n",
    "For each cluster report include:\n",
    "\n",
    "\n",
    "- The centroid id.\n",
    "- The number of instances tied to that centroid. \n",
    "---\n",
    "You only need to handle continuous features"
   ]
  },
  {
   "cell_type": "code",
   "execution_count": 6,
   "metadata": {
    "id": "_a2KSZ_7AN0G"
   },
   "outputs": [],
   "source": [
    "class KMEANSClustering(BaseEstimator,ClusterMixin):\n",
    "\n",
    "    def __init__(self,k=3,debug=False, tol=0, random_centroids=False): ## add parameters here\n",
    "        \"\"\"\n",
    "        Args:\n",
    "            k = how many final clusters to have\n",
    "            debug = if debug is true use the first k instances as the initial centroids otherwise choose random points as the initial centroids.\n",
    "        \"\"\"\n",
    "        self.k = k\n",
    "        self.debug = debug\n",
    "        self.tol = tol\n",
    "        self.random_centroids = random_centroids\n",
    "\n",
    "    def fit(self, X, y=None):\n",
    "        \"\"\" Fit the data; In this lab this will make the K clusters :D\n",
    "        Args:\n",
    "            X (array-like): A 2D numpy array with the training data\n",
    "            y (array-like): An optional argument. Clustering is usually unsupervised so you don't need labels\n",
    "        Returns:\n",
    "            self: this allows this to be chained, e.g. model.fit(X,y).predict(X_test)\n",
    "        \"\"\"\n",
    "        # Put all instances in their own cluster\n",
    "        if y is not None:\n",
    "            if len(y.shape) == 1:\n",
    "                X = np.append(X, y.reshape(-1,1), axis=1)\n",
    "            elif len(y.shape) > 1:\n",
    "                X = np.append(X, y, axis=1)\n",
    "\n",
    "        # Remember number of samples and number of features\n",
    "        self.n_samples, self.n_features = X.shape[0], X.shape[1]\n",
    "\n",
    "        # Store X as class variable\n",
    "        self.data = X\n",
    "\n",
    "        # Get centroids (first k instances)\n",
    "        self.init_centroids()\n",
    "        self.old_centroids = np.full(self.centroids.shape, np.inf)\n",
    "\n",
    "        # Combine clusters one at a time until there is not change in centroids\n",
    "        while np.max(np.abs(self.centroids - self.old_centroids)) > self.tol:\n",
    "            gc.collect()\n",
    "            self.iterate_centroids()\n",
    "\n",
    "        self.calculate_silhouette_score()\n",
    "        self.calculate_sse()\n",
    "\n",
    "        return self\n",
    "\n",
    "    def init_centroids(self):\n",
    "        if self.random_centroids == True:\n",
    "            # Sample k random centroids from instances in the data\n",
    "            rng = default_rng()\n",
    "            centroid_indxs = rng.choice(self.data.shape[0], size=self.k)\n",
    "            self.centroids = np.copy(self.data[centroid_indxs])\n",
    "        else:\n",
    "            self.centroids = np.copy(self.data[:self.k, :])\n",
    "    \n",
    "    def iterate_centroids(self):\n",
    "        self.old_centroids = np.copy(self.centroids)\n",
    "\n",
    "        dist = cdist( self.centroids, self.data, metric='euclidean' )  # -> (nx, ny) distances\n",
    "        self.labels = np.argmin(dist, axis=0) # Ties are broken by taking the first index\n",
    "\n",
    "        for centroid_id in range(self.centroids.shape[0]):\n",
    "            nearest_point_ids = np.where(self.labels == centroid_id)\n",
    "            nearest_points = self.data[nearest_point_ids, :].squeeze(axis=0)\n",
    "            if len(nearest_points) > 0:\n",
    "                self.centroids[centroid_id, :] = np.mean(nearest_points, axis=0)\n",
    "\n",
    "    def calculate_sse(self):\n",
    "        self.cluster_sses = []\n",
    "        \n",
    "        for centroid_id in range(self.centroids.shape[0]):\n",
    "            centroid = self.centroids[centroid_id, :]\n",
    "            row_ind = np.where(self.labels == centroid_id)\n",
    "            data = self.data[row_ind, :].squeeze(0)\n",
    "            dist = cdist(centroid.reshape(1, -1), data)\n",
    "            dist = dist**2\n",
    "            sse = np.sum(dist)\n",
    "            self.cluster_sses.append(sse)\n",
    "        \n",
    "        self.total_sse = sum(self.cluster_sses)\n",
    "            \n",
    "    def calculate_silhouette_score(self):\n",
    "        # dist = cdist( self.centroids, self.data, metric='euclidean' )  # -> (nx, ny) distances\n",
    "        # self.labels = np.argmin(dist, axis=0)\n",
    "        self.silhouette_score = silhouette_score(self.data, self.labels, metric='euclidean')\n",
    "\n",
    "    def print_clusters(self):\n",
    "        \"\"\"\n",
    "            Used for grading.\n",
    "            print(\"Num clusters: {:d}\\n\".format(k))\n",
    "            print(\"Silhouette score: {:.4f}\\n\\n\".format(silhouette_score))\n",
    "            for each cluster and centroid:\n",
    "                print(np.array2string(centroid,precision=4,separator=\",\"))\n",
    "                print(\"{:d}\\n\".format(size of cluster))\n",
    "        \"\"\"\n",
    "\n",
    "        print(\"Num clusters:\\t\\t{:d}\".format(self.centroids.shape[0]))\n",
    "        print(\"SSE:\\t\\t\\t{:.4f}\\n\\n\".format(self.total_sse))\n",
    "        for i in range(self.centroids.shape[0]):\n",
    "            centroid = self.centroids[i, :]\n",
    "            print(\"Centroid:\\t\\t{}\".format(np.array2string(centroid,precision=4,separator=\",\")))\n",
    "            n_samples_cluster = len(np.where(self.labels == i)[0])\n",
    "            print(\"Num points:\\t\\t{:d}\".format(n_samples_cluster))\n",
    "            print(\"SSE\\t\\t\\t{:.4f}\\n\".format(self.cluster_sses[i]))"
   ]
  },
  {
   "cell_type": "markdown",
   "metadata": {
    "id": "KibCIXIThpbE"
   },
   "source": [
    "### 1.2.2 Debug \n",
    "\n",
    "Debug your model by running it on the [Debug Dataset](https://raw.githubusercontent.com/cs472ta/CS472/master/datasets/abalone.arff)\n",
    "\n",
    "\n",
    "- Train until convergence\n",
    "- Make sure to include the output class (last column) as an additional input feature\n",
    "- Normalize Data\n",
    "- K = 5\n",
    "- Use the first k instances as the initial centroids\n",
    "- Use 4 decimal places and DO NOT ROUND when reporting silhouette score and centroid values\n",
    "\n",
    "\n",
    "\n",
    "\n",
    "---\n",
    "Solutions in files:\n",
    "\n",
    "[Debug K Means (Silhouette).txt](https://raw.githubusercontent.com/cs472ta/CS472/master/debug_solutions/Debug%20K%20Means%20%28Silhouette%29.txt)"
   ]
  },
  {
   "cell_type": "code",
   "execution_count": 7,
   "metadata": {
    "id": "KgAyy82gixIF"
   },
   "outputs": [
    {
     "name": "stdout",
     "output_type": "stream",
     "text": [
      "Num clusters:\t\t5\n",
      "SSE:\t\t\t9.7826\n",
      "\n",
      "\n",
      "Centroid:\t\t[0.7325,0.7327,0.627 ,0.3817,0.3633,0.4045,0.3046,0.4839]\n",
      "Num points:\t\t75\n",
      "SSE\t\t\t4.0454\n",
      "\n",
      "Centroid:\t\t[0.3704,0.3519,0.2686,0.0926,0.0935,0.094 ,0.0792,0.218 ]\n",
      "Num points:\t\t34\n",
      "SSE\t\t\t0.6609\n",
      "\n",
      "Centroid:\t\t[0.9035,0.905 ,0.7774,0.6579,0.5767,0.6193,0.5893,0.7279]\n",
      "Num points:\t\t24\n",
      "SSE\t\t\t3.2116\n",
      "\n",
      "Centroid:\t\t[0.5692,0.5628,0.4376,0.211 ,0.2113,0.2248,0.1659,0.317 ]\n",
      "Num points:\t\t54\n",
      "SSE\t\t\t1.5452\n",
      "\n",
      "Centroid:\t\t[0.1296,0.1037,0.1053,0.0177,0.0211,0.0272,0.0135,0.0724]\n",
      "Num points:\t\t13\n",
      "SSE\t\t\t0.3195\n",
      "\n"
     ]
    }
   ],
   "source": [
    "# Debug Here\n",
    "dbDF = load_data(\"datasets/abalone.arff\")\n",
    "\n",
    "X_db = dbDF.iloc[:, :-1].to_numpy()\n",
    "y_db = dbDF.iloc[:, -1].to_numpy()\n",
    "\n",
    "X_db = normalize(X_db)\n",
    "y_db = normalize(y_db)\n",
    "\n",
    "# Train on debug data\n",
    "kmeans = KMEANSClustering(k=5)\n",
    "kmeans.fit(X_db, y_db)\n",
    "\n",
    "# Print clusters\n",
    "kmeans.print_clusters()"
   ]
  },
  {
   "cell_type": "markdown",
   "metadata": {
    "id": "kY3VNB1ui03N"
   },
   "source": [
    "### 1.2.3 Evaluation\n",
    "\n",
    "We will evaluate your model based on its print_clusters() output using [Evaluation Dataset](https://raw.githubusercontent.com/cs472ta/CS472/master/datasets/seismic-bumps_train.arff)\n",
    "- Train until convergence\n",
    "- Make sure to include the output class (last column) as an additional input feature\n",
    "- Normalize Data\n",
    "- K = 5\n",
    "- Use the first k instances as the initial centroids\n",
    "- Use 4 decimal places and DO NOT ROUND when reporting silhouette score and centroid values"
   ]
  },
  {
   "cell_type": "code",
   "execution_count": 8,
   "metadata": {
    "id": "2yAxA78QjDh2"
   },
   "outputs": [
    {
     "data": {
      "text/html": [
       "<div>\n",
       "<style scoped>\n",
       "    .dataframe tbody tr th:only-of-type {\n",
       "        vertical-align: middle;\n",
       "    }\n",
       "\n",
       "    .dataframe tbody tr th {\n",
       "        vertical-align: top;\n",
       "    }\n",
       "\n",
       "    .dataframe thead th {\n",
       "        text-align: right;\n",
       "    }\n",
       "</style>\n",
       "<table border=\"1\" class=\"dataframe\">\n",
       "  <thead>\n",
       "    <tr style=\"text-align: right;\">\n",
       "      <th></th>\n",
       "      <th>V1</th>\n",
       "      <th>V2</th>\n",
       "      <th>V3</th>\n",
       "      <th>V4</th>\n",
       "      <th>V5</th>\n",
       "      <th>V6</th>\n",
       "      <th>V7</th>\n",
       "      <th>Class</th>\n",
       "    </tr>\n",
       "  </thead>\n",
       "  <tbody>\n",
       "    <tr>\n",
       "      <th>0</th>\n",
       "      <td>15.26</td>\n",
       "      <td>14.84</td>\n",
       "      <td>0.8710</td>\n",
       "      <td>5.763</td>\n",
       "      <td>3.312</td>\n",
       "      <td>2.221</td>\n",
       "      <td>5.220</td>\n",
       "      <td>1</td>\n",
       "    </tr>\n",
       "    <tr>\n",
       "      <th>1</th>\n",
       "      <td>14.88</td>\n",
       "      <td>14.57</td>\n",
       "      <td>0.8811</td>\n",
       "      <td>5.554</td>\n",
       "      <td>3.333</td>\n",
       "      <td>1.018</td>\n",
       "      <td>4.956</td>\n",
       "      <td>1</td>\n",
       "    </tr>\n",
       "  </tbody>\n",
       "</table>\n",
       "</div>"
      ],
      "text/plain": [
       "      V1     V2      V3     V4     V5     V6     V7 Class\n",
       "0  15.26  14.84  0.8710  5.763  3.312  2.221  5.220     1\n",
       "1  14.88  14.57  0.8811  5.554  3.333  1.018  4.956     1"
      ]
     },
     "metadata": {},
     "output_type": "display_data"
    },
    {
     "data": {
      "text/html": [
       "<div>\n",
       "<style scoped>\n",
       "    .dataframe tbody tr th:only-of-type {\n",
       "        vertical-align: middle;\n",
       "    }\n",
       "\n",
       "    .dataframe tbody tr th {\n",
       "        vertical-align: top;\n",
       "    }\n",
       "\n",
       "    .dataframe thead th {\n",
       "        text-align: right;\n",
       "    }\n",
       "</style>\n",
       "<table border=\"1\" class=\"dataframe\">\n",
       "  <thead>\n",
       "    <tr style=\"text-align: right;\">\n",
       "      <th></th>\n",
       "      <th>V1</th>\n",
       "      <th>V2</th>\n",
       "      <th>V3</th>\n",
       "      <th>V4</th>\n",
       "      <th>V5</th>\n",
       "      <th>V6</th>\n",
       "      <th>V7</th>\n",
       "      <th>Class</th>\n",
       "    </tr>\n",
       "  </thead>\n",
       "  <tbody>\n",
       "    <tr>\n",
       "      <th>138</th>\n",
       "      <td>15.60</td>\n",
       "      <td>15.11</td>\n",
       "      <td>0.858</td>\n",
       "      <td>5.832</td>\n",
       "      <td>3.286</td>\n",
       "      <td>2.725</td>\n",
       "      <td>5.752</td>\n",
       "      <td>2</td>\n",
       "    </tr>\n",
       "    <tr>\n",
       "      <th>139</th>\n",
       "      <td>16.23</td>\n",
       "      <td>15.18</td>\n",
       "      <td>0.885</td>\n",
       "      <td>5.872</td>\n",
       "      <td>3.472</td>\n",
       "      <td>3.769</td>\n",
       "      <td>5.922</td>\n",
       "      <td>2</td>\n",
       "    </tr>\n",
       "  </tbody>\n",
       "</table>\n",
       "</div>"
      ],
      "text/plain": [
       "        V1     V2     V3     V4     V5     V6     V7 Class\n",
       "138  15.60  15.11  0.858  5.832  3.286  2.725  5.752     2\n",
       "139  16.23  15.18  0.885  5.872  3.472  3.769  5.922     2"
      ]
     },
     "metadata": {},
     "output_type": "display_data"
    },
    {
     "name": "stdout",
     "output_type": "stream",
     "text": [
      "Num clusters:\t\t5\n",
      "SSE:\t\t\t14.7279\n",
      "\n",
      "\n",
      "Centroid:\t\t[0.5349,0.6013,0.4617,0.5541,0.5232,0.5544,0.6248,1.    ]\n",
      "Num points:\t\t22\n",
      "SSE\t\t\t2.0160\n",
      "\n",
      "Centroid:\t\t[0.3684,0.4338,0.4356,0.4388,0.3573,0.2988,0.3673,0.    ]\n",
      "Num points:\t\t31\n",
      "SSE\t\t\t2.4076\n",
      "\n",
      "Centroid:\t\t[0.3658,0.3854,0.7563,0.3093,0.4659,0.3691,0.2413,0.    ]\n",
      "Num points:\t\t20\n",
      "SSE\t\t\t2.5248\n",
      "\n",
      "Centroid:\t\t[0.1634,0.2137,0.3968,0.2178,0.1555,0.3078,0.1775,0.    ]\n",
      "Num points:\t\t19\n",
      "SSE\t\t\t1.7770\n",
      "\n",
      "Centroid:\t\t[0.7961,0.831 ,0.6054,0.7709,0.7802,0.4553,0.7919,1.    ]\n",
      "Num points:\t\t48\n",
      "SSE\t\t\t6.0025\n",
      "\n"
     ]
    }
   ],
   "source": [
    "# Load evaluation data\n",
    "evalDF = load_data(\"datasets/seismic-bumps_train.arff\")\n",
    "display(evalDF.head(2))\n",
    "display(evalDF.tail(2))\n",
    "\n",
    "evalDF['Class'] = evalDF['Class'].astype(float)\n",
    "\n",
    "X_eval = evalDF.iloc[:, :-1].to_numpy()\n",
    "y_eval = evalDF.iloc[:, -1].to_numpy()\n",
    "\n",
    "X_eval = normalize(X_eval)\n",
    "y_eval = normalize(y_eval)\n",
    "\n",
    "# Train on evaluation data\n",
    "kmeans = KMEANSClustering(k=5)\n",
    "kmeans.fit(X_eval, y_eval)\n",
    "\n",
    "# Print clusters\n",
    "kmeans.print_clusters()"
   ]
  },
  {
   "cell_type": "markdown",
   "metadata": {
    "id": "9vWiTdlbR2Xh"
   },
   "source": [
    "## 2.1.1 (7.5%) Clustering the Iris Classification problem - HAC\n",
    "\n",
    "Load the Iris Dataset [Iris Dataset](https://raw.githubusercontent.com/cs472ta/CS472/master/datasets/iris.arff)\n",
    "\n",
    "- Use single-link and complete link clustering algorithms\n",
    "- State whether you normalize your data or not (your choice).  \n",
    "- Show your results for clusterings using k = 2-7.  \n",
    "- Graph the silhouette score for each k and discuss your results (i.e. what kind of clusters are being made).\n",
    "---"
   ]
  },
  {
   "cell_type": "code",
   "execution_count": 41,
   "metadata": {
    "id": "4SSoasDQSKXb"
   },
   "outputs": [
    {
     "data": {
      "text/html": [
       "<div>\n",
       "<style scoped>\n",
       "    .dataframe tbody tr th:only-of-type {\n",
       "        vertical-align: middle;\n",
       "    }\n",
       "\n",
       "    .dataframe tbody tr th {\n",
       "        vertical-align: top;\n",
       "    }\n",
       "\n",
       "    .dataframe thead th {\n",
       "        text-align: right;\n",
       "    }\n",
       "</style>\n",
       "<table border=\"1\" class=\"dataframe\">\n",
       "  <thead>\n",
       "    <tr style=\"text-align: right;\">\n",
       "      <th></th>\n",
       "      <th>sepallength</th>\n",
       "      <th>sepalwidth</th>\n",
       "      <th>petallength</th>\n",
       "      <th>petalwidth</th>\n",
       "      <th>class</th>\n",
       "    </tr>\n",
       "  </thead>\n",
       "  <tbody>\n",
       "    <tr>\n",
       "      <th>0</th>\n",
       "      <td>5.1</td>\n",
       "      <td>3.5</td>\n",
       "      <td>1.4</td>\n",
       "      <td>0.2</td>\n",
       "      <td>Iris-setosa</td>\n",
       "    </tr>\n",
       "    <tr>\n",
       "      <th>1</th>\n",
       "      <td>4.9</td>\n",
       "      <td>3.0</td>\n",
       "      <td>1.4</td>\n",
       "      <td>0.2</td>\n",
       "      <td>Iris-setosa</td>\n",
       "    </tr>\n",
       "  </tbody>\n",
       "</table>\n",
       "</div>"
      ],
      "text/plain": [
       "   sepallength  sepalwidth  petallength  petalwidth        class\n",
       "0          5.1         3.5          1.4         0.2  Iris-setosa\n",
       "1          4.9         3.0          1.4         0.2  Iris-setosa"
      ]
     },
     "metadata": {},
     "output_type": "display_data"
    },
    {
     "data": {
      "text/html": [
       "<div>\n",
       "<style scoped>\n",
       "    .dataframe tbody tr th:only-of-type {\n",
       "        vertical-align: middle;\n",
       "    }\n",
       "\n",
       "    .dataframe tbody tr th {\n",
       "        vertical-align: top;\n",
       "    }\n",
       "\n",
       "    .dataframe thead th {\n",
       "        text-align: right;\n",
       "    }\n",
       "</style>\n",
       "<table border=\"1\" class=\"dataframe\">\n",
       "  <thead>\n",
       "    <tr style=\"text-align: right;\">\n",
       "      <th></th>\n",
       "      <th>sepallength</th>\n",
       "      <th>sepalwidth</th>\n",
       "      <th>petallength</th>\n",
       "      <th>petalwidth</th>\n",
       "      <th>class</th>\n",
       "    </tr>\n",
       "  </thead>\n",
       "  <tbody>\n",
       "    <tr>\n",
       "      <th>148</th>\n",
       "      <td>6.2</td>\n",
       "      <td>3.4</td>\n",
       "      <td>5.4</td>\n",
       "      <td>2.3</td>\n",
       "      <td>Iris-virginica</td>\n",
       "    </tr>\n",
       "    <tr>\n",
       "      <th>149</th>\n",
       "      <td>5.9</td>\n",
       "      <td>3.0</td>\n",
       "      <td>5.1</td>\n",
       "      <td>1.8</td>\n",
       "      <td>Iris-virginica</td>\n",
       "    </tr>\n",
       "  </tbody>\n",
       "</table>\n",
       "</div>"
      ],
      "text/plain": [
       "     sepallength  sepalwidth  petallength  petalwidth           class\n",
       "148          6.2         3.4          5.4         2.3  Iris-virginica\n",
       "149          5.9         3.0          5.1         1.8  Iris-virginica"
      ]
     },
     "metadata": {},
     "output_type": "display_data"
    },
    {
     "name": "stdout",
     "output_type": "stream",
     "text": [
      "sepallength    float64\n",
      "sepalwidth     float64\n",
      "petallength    float64\n",
      "petalwidth     float64\n",
      "class            int32\n",
      "dtype: object\n"
     ]
    }
   ],
   "source": [
    "# Load Iris dataset\n",
    "from sklearn.preprocessing import LabelEncoder\n",
    "\n",
    "irisDF = load_data(\"datasets/iris.arff\")\n",
    "display(irisDF.head(2))\n",
    "display(irisDF.tail(2))\n",
    "\n",
    "le = LabelEncoder()\n",
    "irisDF['class'] = le.fit_transform(irisDF['class'])\n",
    "print(irisDF.dtypes)\n",
    "\n",
    "X_iris = irisDF.iloc[:, :-1].to_numpy() # We will only be using X_iris for training\n",
    "y_iris_truth_labels = irisDF.iloc[:, -1].to_numpy()\n",
    "\n",
    "X_iris = normalize(X_iris)\n",
    "\n",
    "# One-hot encode output labels\n",
    "y_iris = np.zeros((y_iris_truth_labels.size, y_iris_truth_labels.max() + 1))\n",
    "y_iris[np.arange(y_iris_truth_labels.size), y_iris_truth_labels] = 1\n",
    "\n",
    "iris_ks = np.arange(2, 8)"
   ]
  },
  {
   "cell_type": "code",
   "execution_count": 23,
   "metadata": {},
   "outputs": [
    {
     "name": "stdout",
     "output_type": "stream",
     "text": [
      "Computing hac 2\n",
      "Computing hac 3\n",
      "Computing hac 4\n",
      "Computing hac 5\n",
      "Computing hac 6\n",
      "Computing hac 7\n"
     ]
    }
   ],
   "source": [
    "# Iris Classification using single-link\n",
    "single_sil_scores = []\n",
    "for k in iris_ks:\n",
    "    print('Computing hac %d' % k)\n",
    "    hac = HACClustering(k=k, link_type='single')\n",
    "    hac.fit(X_iris)\n",
    "    single_sil_scores.append(hac.silhouette_score)"
   ]
  },
  {
   "cell_type": "code",
   "execution_count": 24,
   "metadata": {},
   "outputs": [
    {
     "name": "stdout",
     "output_type": "stream",
     "text": [
      "Computing hac 2\n",
      "Computing hac 3\n",
      "Computing hac 4\n",
      "Computing hac 5\n",
      "Computing hac 6\n",
      "Computing hac 7\n"
     ]
    }
   ],
   "source": [
    "# Iris Classification using complete-link\n",
    "complete_sil_scores = []\n",
    "for k in iris_ks:\n",
    "    print('Computing hac %d' % k)\n",
    "    hac = HACClustering(k=k, link_type='complete')\n",
    "    hac.fit(X_iris)\n",
    "    complete_sil_scores.append(hac.silhouette_score)"
   ]
  },
  {
   "cell_type": "code",
   "execution_count": 25,
   "metadata": {},
   "outputs": [
    {
     "data": {
      "image/png": "[encoded data removed]",
      "text/plain": [
       "<Figure size 432x288 with 1 Axes>"
      ]
     },
     "metadata": {
      "needs_background": "light"
     },
     "output_type": "display_data"
    }
   ],
   "source": [
    "# Graph results\n",
    "plt.plot(iris_ks, single_sil_scores, label='Single Link')\n",
    "plt.plot(iris_ks, complete_sil_scores, label='Complete Link')\n",
    "plt.title('Iris HAC Clustering w/out Output Label Silhouette Scores vs K')\n",
    "plt.xlabel('K')\n",
    "plt.ylabel('Silhouette Score')\n",
    "plt.legend()\n",
    "plt.show()"
   ]
  },
  {
   "cell_type": "markdown",
   "metadata": {},
   "source": [
    "When using single link as the distance metric, the algorithm decided that 2 clusters was the best for the iris dataset. When complete link is used as the distance metric, the algorithm decided that 3 clusters was best for the iris dataset. To explain this result, we know that two of the clusters in the iris dataset are very similar and that the single linkage method has the disadvantage that clusters are sometimes chained because of loose or weak connections. Therefore, since two of the clusters are similar, or have a weak connection, the single linkage method grouped them together, and we see that two clusters produced the best silhouette score in this case. In contrast, the complete linkage method usually produces tigher clusters than a single linkage, but the tight clusters can end up very close together. In this case, having clusters be very close together isn't a big issue. So, complete linkage is the better metric for this dataset."
   ]
  },
  {
   "cell_type": "markdown",
   "metadata": {},
   "source": [
    "## 2.1.2 (5%) Clustering the Iris Classification problem - HAC\n",
    "\n",
    "Requirements:\n",
    "- Repeat excercise 2.1.1 and include the output label as one of the input features."
   ]
  },
  {
   "cell_type": "code",
   "execution_count": 26,
   "metadata": {},
   "outputs": [
    {
     "name": "stdout",
     "output_type": "stream",
     "text": [
      "Computing hac 2\n",
      "Computing hac 3\n",
      "Computing hac 4\n",
      "Computing hac 5\n",
      "Computing hac 6\n",
      "Computing hac 7\n"
     ]
    }
   ],
   "source": [
    "# Iris Classification using single-link\n",
    "single_sil_scores_w_output = []\n",
    "for k in iris_ks:\n",
    "    print('Computing hac %d' % k)\n",
    "    hac = HACClustering(k=k, link_type='single')\n",
    "    hac.fit(X_iris, y_iris)\n",
    "    single_sil_scores_w_output.append(hac.silhouette_score)"
   ]
  },
  {
   "cell_type": "code",
   "execution_count": 27,
   "metadata": {},
   "outputs": [
    {
     "name": "stdout",
     "output_type": "stream",
     "text": [
      "Computing hac 2\n",
      "Computing hac 3\n",
      "Computing hac 4\n",
      "Computing hac 5\n",
      "Computing hac 6\n",
      "Computing hac 7\n"
     ]
    }
   ],
   "source": [
    "# Iris Classification using complete-link\n",
    "complete_sil_scores_w_out = []\n",
    "for k in iris_ks:\n",
    "    print('Computing hac %d' % k)\n",
    "    hac = HACClustering(k=k, link_type='complete')\n",
    "    hac.fit(X_iris, y_iris)\n",
    "    complete_sil_scores_w_out.append(hac.silhouette_score)"
   ]
  },
  {
   "cell_type": "code",
   "execution_count": 28,
   "metadata": {},
   "outputs": [
    {
     "data": {
      "image/png": "[encoded data removed]",
      "text/plain": [
       "<Figure size 432x288 with 1 Axes>"
      ]
     },
     "metadata": {
      "needs_background": "light"
     },
     "output_type": "display_data"
    }
   ],
   "source": [
    "# Graph results\n",
    "plt.plot(iris_ks, single_sil_scores_w_output, label='Single Link')\n",
    "plt.plot(iris_ks, complete_sil_scores_w_out, label='Complete Link')\n",
    "plt.title('Iris HAC Clustering w/ Output Label Silhouette Scores vs K')\n",
    "plt.xlabel('K')\n",
    "plt.ylabel('Silhouette Score')\n",
    "plt.legend()\n",
    "plt.show()"
   ]
  },
  {
   "cell_type": "markdown",
   "metadata": {},
   "source": [
    "Discuss any differences between the results from 2.1.1 and 2.1.2.\n",
    "\n",
    "For this problem, I included the output label as a one-hot encoding. The results from this trial are dramatically different from the previous trial where the output label was not included in the data. Here, both single linkage and complete linkage methods agree that 3 clusters is the best, according to that clustering's silhouette score. The silhouette score for K=3 was the same for both single and complete linkage. Further, both single and complete linkage methods follow a similar trend as K increases: the silhouette score peaks at K=3 and thereafter decreases at a similar rate between the two linkage methods.\n",
    "\n",
    "It makes sense that both methods would agree that K=3 is the best clustering for the iris dataset. This is because including the output label basically gives the algorithm the answer before beginning computation."
   ]
  },
  {
   "cell_type": "markdown",
   "metadata": {
    "id": "9vWiTdlbR2Xh"
   },
   "source": [
    "## 2.2.1 (7.5%) Clustering the Iris Classification problem: K-Means\n",
    "\n",
    "Load the Iris Dataset [Iris Dataset](https://raw.githubusercontent.com/cs472ta/CS472/master/datasets/iris.arff)\n",
    "\n",
    "Run K-Means on the Iris dataset using the output label as a feature and without using the output label as a feature\n",
    "\n",
    "Requirements:\n",
    "- State whether you normalize your data or not (your choice).  \n",
    "- Show your results for clusterings using k = 2-7.  \n",
    "- Graph the silhouette score for each k and discuss your results (i.e. what kind of clusters are being made).\n",
    "---"
   ]
  },
  {
   "cell_type": "code",
   "execution_count": 36,
   "metadata": {},
   "outputs": [
    {
     "name": "stdout",
     "output_type": "stream",
     "text": [
      "Computing kmeans 2\n",
      "Computing kmeans 3\n",
      "Computing kmeans 4\n",
      "Computing kmeans 5\n",
      "Computing kmeans 6\n",
      "Computing kmeans 7\n"
     ]
    }
   ],
   "source": [
    "# Iris Classification without output label\n",
    "kmeans_sil_scores = []\n",
    "for k in iris_ks:\n",
    "    print('Computing kmeans %d' % k)\n",
    "    kmeans = KMEANSClustering(k=k)\n",
    "    kmeans.fit(X_iris)\n",
    "    kmeans_sil_scores.append(kmeans.silhouette_score)"
   ]
  },
  {
   "cell_type": "code",
   "execution_count": 30,
   "metadata": {
    "id": "4SSoasDQSKXb"
   },
   "outputs": [
    {
     "name": "stdout",
     "output_type": "stream",
     "text": [
      "Computing kmeans 2\n",
      "Computing kmeans 3\n",
      "Computing kmeans 4\n",
      "Computing kmeans 5\n",
      "Computing kmeans 6\n",
      "Computing kmeans 7\n"
     ]
    }
   ],
   "source": [
    "# Iris Classification with output label\n",
    "kmeans_sil_scores_w_output = []\n",
    "for k in iris_ks:\n",
    "    print('Computing kmeans %d' % k)\n",
    "    kmeans = KMEANSClustering(k=k)\n",
    "    kmeans.fit(X_iris, y_iris)\n",
    "    kmeans_sil_scores_w_output.append(kmeans.silhouette_score)"
   ]
  },
  {
   "cell_type": "code",
   "execution_count": 37,
   "metadata": {},
   "outputs": [
    {
     "data": {
      "image/png": "[encoded data removed]",
      "text/plain": [
       "<Figure size 432x288 with 1 Axes>"
      ]
     },
     "metadata": {
      "needs_background": "light"
     },
     "output_type": "display_data"
    }
   ],
   "source": [
    "# Graph results\n",
    "plt.plot(iris_ks, kmeans_sil_scores, label='Without Output Label')\n",
    "plt.plot(iris_ks, kmeans_sil_scores_w_output, label='With Output Label')\n",
    "plt.title('Iris KMeans Clustering Silhouette Scores vs K')\n",
    "plt.xlabel('K')\n",
    "plt.ylabel('Silhouette Score')\n",
    "plt.legend()\n",
    "plt.show()"
   ]
  },
  {
   "cell_type": "markdown",
   "metadata": {},
   "source": [
    "Compare results and differences between using the output label and excluding the output label\n",
    "\n",
    "COMMENT HERE"
   ]
  },
  {
   "cell_type": "markdown",
   "metadata": {},
   "source": [
    "## 2.2.2 (5%) Clustering the Iris Classification problem: K-Means\n",
    "\n",
    "Requirements:\n",
    "- Use the output label as an input feature\n",
    "- Run K-Means 5 times with k=4, each time with different initial random centroids and discuss any variations in the results. "
   ]
  },
  {
   "cell_type": "code",
   "execution_count": 83,
   "metadata": {},
   "outputs": [
    {
     "name": "stdout",
     "output_type": "stream",
     "text": [
      "Computing kmeans 0\n",
      "Computing kmeans 1\n",
      "Computing kmeans 2\n",
      "Computing kmeans 3\n",
      "Computing kmeans 4\n",
      "Computing kmeans 5\n"
     ]
    },
    {
     "data": {
      "image/png": "[encoded data removed]",
      "text/plain": [
       "<Figure size 432x288 with 1 Axes>"
      ]
     },
     "metadata": {
      "needs_background": "light"
     },
     "output_type": "display_data"
    }
   ],
   "source": [
    "#K-Means 5 times\n",
    "kmeans_rand_cent_sil_scores = []\n",
    "trials = np.arange(0, 6)\n",
    "for trial in trials:\n",
    "    print('Computing kmeans %d' % trial)\n",
    "    kmeans = KMEANSClustering(k=4, random_centroids=True)\n",
    "    kmeans.fit(X_iris, y_iris)\n",
    "    kmeans_rand_cent_sil_scores.append(kmeans.silhouette_score)\n",
    "\n",
    "plt.bar(trials, kmeans_rand_cent_sil_scores)\n",
    "plt.title(\"KMeans Clustering on Iris Dataset with Random Centroids\")\n",
    "plt.xlabel(\"Trial\")\n",
    "plt.ylabel(\"Silhouette Score\")\n",
    "plt.show()"
   ]
  },
  {
   "cell_type": "markdown",
   "metadata": {},
   "source": [
    "Discuss any variations in the results\n",
    "\n",
    "COMMENT HERE"
   ]
  },
  {
   "cell_type": "markdown",
   "metadata": {
    "id": "oBBmeNQ7jvcQ"
   },
   "source": [
    "## 3.1 (12.5%) Run the SK versions of HAC (both single and complete link) on iris including the output label and compare your results with those above.\n",
    "Use the silhouette score for this iris problem(k = 2-7).  You may write your own code to do silhouette (optional extra credit) or you can use sklearn.metrics.silhouette_score. Please state if you coded your own silhouette score function to receive the extra credit points (described below). Discuss how helpful Silhouette appeared to be for selecting which clustering is best. You do not need to supply full Silhouette graphs, but you could if you wanted to.\n",
    "\n",
    "Requirements\n",
    "- Use the Sillhouette score for this iris problem (k= 2-7) \n",
    "- Use at least one other scoring function from [sklearn.metrics](https://scikit-learn.org/stable/modules/model_evaluation.html) and compare the results. State which metric was used. \n",
    "- Possible sklean metrics include (* metrics require ground truth labels):\n",
    "    - adjusted_mutual_info_score*\n",
    "    - adjusted_rand_score*\n",
    "    - homogeneity_score*\n",
    "    - completeness_score*\n",
    "    - fowlkes_mallows_score*\n",
    "    - calinski_harabasz_score\n",
    "    - davies_bouldin_score\n",
    "- Experiment using different hyper-parameters. Discuss Results"
   ]
  },
  {
   "cell_type": "code",
   "execution_count": 40,
   "metadata": {
    "id": "OFQv70W2VyqJ"
   },
   "outputs": [
    {
     "data": {
      "text/html": [
       "<div>\n",
       "<style scoped>\n",
       "    .dataframe tbody tr th:only-of-type {\n",
       "        vertical-align: middle;\n",
       "    }\n",
       "\n",
       "    .dataframe tbody tr th {\n",
       "        vertical-align: top;\n",
       "    }\n",
       "\n",
       "    .dataframe thead th {\n",
       "        text-align: right;\n",
       "    }\n",
       "</style>\n",
       "<table border=\"1\" class=\"dataframe\">\n",
       "  <thead>\n",
       "    <tr style=\"text-align: right;\">\n",
       "      <th></th>\n",
       "      <th>k</th>\n",
       "      <th>affinity</th>\n",
       "      <th>silhouette_score</th>\n",
       "      <th>adjusted_mutual_info_score</th>\n",
       "    </tr>\n",
       "  </thead>\n",
       "  <tbody>\n",
       "    <tr>\n",
       "      <th>0</th>\n",
       "      <td>2</td>\n",
       "      <td>euclidean</td>\n",
       "      <td>0.598861</td>\n",
       "      <td>0.731585</td>\n",
       "    </tr>\n",
       "    <tr>\n",
       "      <th>1</th>\n",
       "      <td>2</td>\n",
       "      <td>manhattan</td>\n",
       "      <td>0.408019</td>\n",
       "      <td>0.475884</td>\n",
       "    </tr>\n",
       "    <tr>\n",
       "      <th>2</th>\n",
       "      <td>3</td>\n",
       "      <td>euclidean</td>\n",
       "      <td>0.587823</td>\n",
       "      <td>0.780978</td>\n",
       "    </tr>\n",
       "    <tr>\n",
       "      <th>3</th>\n",
       "      <td>3</td>\n",
       "      <td>manhattan</td>\n",
       "      <td>0.497588</td>\n",
       "      <td>0.718464</td>\n",
       "    </tr>\n",
       "    <tr>\n",
       "      <th>4</th>\n",
       "      <td>4</td>\n",
       "      <td>euclidean</td>\n",
       "      <td>0.375146</td>\n",
       "      <td>0.712072</td>\n",
       "    </tr>\n",
       "    <tr>\n",
       "      <th>5</th>\n",
       "      <td>4</td>\n",
       "      <td>manhattan</td>\n",
       "      <td>0.275360</td>\n",
       "      <td>0.679653</td>\n",
       "    </tr>\n",
       "    <tr>\n",
       "      <th>6</th>\n",
       "      <td>5</td>\n",
       "      <td>euclidean</td>\n",
       "      <td>0.228277</td>\n",
       "      <td>0.649346</td>\n",
       "    </tr>\n",
       "    <tr>\n",
       "      <th>7</th>\n",
       "      <td>5</td>\n",
       "      <td>manhattan</td>\n",
       "      <td>0.124401</td>\n",
       "      <td>0.616981</td>\n",
       "    </tr>\n",
       "    <tr>\n",
       "      <th>8</th>\n",
       "      <td>6</td>\n",
       "      <td>euclidean</td>\n",
       "      <td>0.143093</td>\n",
       "      <td>0.613802</td>\n",
       "    </tr>\n",
       "    <tr>\n",
       "      <th>9</th>\n",
       "      <td>6</td>\n",
       "      <td>manhattan</td>\n",
       "      <td>0.231946</td>\n",
       "      <td>0.635032</td>\n",
       "    </tr>\n",
       "    <tr>\n",
       "      <th>10</th>\n",
       "      <td>7</td>\n",
       "      <td>euclidean</td>\n",
       "      <td>0.229719</td>\n",
       "      <td>0.615267</td>\n",
       "    </tr>\n",
       "    <tr>\n",
       "      <th>11</th>\n",
       "      <td>7</td>\n",
       "      <td>manhattan</td>\n",
       "      <td>0.172245</td>\n",
       "      <td>0.608457</td>\n",
       "    </tr>\n",
       "  </tbody>\n",
       "</table>\n",
       "</div>"
      ],
      "text/plain": [
       "    k   affinity  silhouette_score  adjusted_mutual_info_score\n",
       "0   2  euclidean          0.598861                    0.731585\n",
       "1   2  manhattan          0.408019                    0.475884\n",
       "2   3  euclidean          0.587823                    0.780978\n",
       "3   3  manhattan          0.497588                    0.718464\n",
       "4   4  euclidean          0.375146                    0.712072\n",
       "5   4  manhattan          0.275360                    0.679653\n",
       "6   5  euclidean          0.228277                    0.649346\n",
       "7   5  manhattan          0.124401                    0.616981\n",
       "8   6  euclidean          0.143093                    0.613802\n",
       "9   6  manhattan          0.231946                    0.635032\n",
       "10  7  euclidean          0.229719                    0.615267\n",
       "11  7  manhattan          0.172245                    0.608457"
      ]
     },
     "metadata": {},
     "output_type": "display_data"
    },
    {
     "data": {
      "image/png": "[encoded data removed]",
      "text/plain": [
       "<Figure size 432x288 with 1 Axes>"
      ]
     },
     "metadata": {
      "needs_background": "light"
     },
     "output_type": "display_data"
    }
   ],
   "source": [
    "# Load sklearn\n",
    "from sklearn.cluster import AgglomerativeClustering\n",
    "from sklearn.metrics.cluster import adjusted_mutual_info_score\n",
    "\n",
    "hac_data = pd.DataFrame(columns=['k', 'affinity', 'silhouette_score', 'adjusted_mutual_info_score'])\n",
    "\n",
    "for k in iris_ks:\n",
    "    hac_clustering = AgglomerativeClustering(n_clusters=k, affinity='euclidean').fit(X_iris, y_iris)\n",
    "    sil_score = silhouette_score(np.append(X_iris, y_iris, axis=1), hac_clustering.labels_)\n",
    "    adj_mut_info_score = adjusted_mutual_info_score(y_iris_truth_labels, hac_clustering.labels_)\n",
    "    hac_data = hac_data.append(pd.DataFrame([[k, 'euclidean', sil_score, adj_mut_info_score]], \n",
    "                                            columns=hac_data.columns), \n",
    "                                            ignore_index=True)\n",
    "\n",
    "    hac_clustering = AgglomerativeClustering(n_clusters=k, affinity='manhattan', linkage='complete').fit(X_iris, y_iris) # manhattan affinity cannot be done with ward linkage\n",
    "    sil_score = silhouette_score(np.append(X_iris, y_iris, axis=1), hac_clustering.labels_)\n",
    "    adj_mut_info_score = adjusted_mutual_info_score(y_iris_truth_labels, hac_clustering.labels_)\n",
    "    hac_data = hac_data.append(pd.DataFrame([[k, 'manhattan', sil_score, adj_mut_info_score]],\n",
    "                                            columns=hac_data.columns),\n",
    "                                            ignore_index=True)\n",
    "\n",
    "display(hac_data)\n",
    "\n",
    "plt.plot(hac_data[hac_data.affinity == 'manhattan'].k, hac_data[hac_data.affinity == 'manhattan'].adjusted_mutual_info_score, label=\"Adjusted Mutual Info Score (manhattan)\")\n",
    "plt.plot(hac_data[hac_data.affinity == 'euclidean'].k, hac_data[hac_data.affinity == 'euclidean'].adjusted_mutual_info_score, label=\"Adjusted Mutual Info Score (euclidean)\")\n",
    "plt.plot(hac_data[hac_data.affinity == 'manhattan'].k, hac_data[hac_data.affinity == 'manhattan'].silhouette_score, label=\"Silhouette Score (manhattan)\")\n",
    "plt.plot(hac_data[hac_data.affinity == 'euclidean'].k, hac_data[hac_data.affinity == 'euclidean'].silhouette_score, label=\"Silhouette Score (euclidean)\")\n",
    "plt.legend()\n",
    "plt.xlabel('Number of Clusters')\n",
    "plt.ylabel('Score')\n",
    "plt.title('Iris Dataset SKLearn hac Clustering Scores vs Num Clusters')\n",
    "plt.show()"
   ]
  },
  {
   "cell_type": "markdown",
   "metadata": {
    "id": "BqSFAXwlk3Ms"
   },
   "source": [
    "*Record impressions*\n",
    "\n",
    "\"The mutual information is a measure of the similarity between two labels of the same data.\""
   ]
  },
  {
   "cell_type": "markdown",
   "metadata": {
    "id": "oBBmeNQ7jvcQ"
   },
   "source": [
    "## 3.2 (12.5%) Run the SK version of k-means on iris including the output label and compare your results with those above. \n",
    "\n",
    "Use the silhouette score for this iris problem(k = 2-7). You may write your own code to do silhouette (optional extra credit) or you can use sklearn.metrics.silhouette_score. Please state if you coded your own silhouette score function to receive the extra credit points (described below). Discuss how helpful Silhouette appeared to be for selecting which clustering is best. You do not need to supply full Silhouette graphs, but you could if you wanted to.\n",
    "\n",
    "Requirements\n",
    "- Use the Sillhouette score for this iris problem (k= 2-7) \n",
    "- Use at least one other scoring function form sklearn.metrics and compare the results. State which metric was used\n",
    "- Experiment different hyper-parameters. Discuss Results"
   ]
  },
  {
   "cell_type": "code",
   "execution_count": 30,
   "metadata": {
    "id": "OFQv70W2VyqJ"
   },
   "outputs": [
    {
     "data": {
      "text/html": [
       "<div>\n",
       "<style scoped>\n",
       "    .dataframe tbody tr th:only-of-type {\n",
       "        vertical-align: middle;\n",
       "    }\n",
       "\n",
       "    .dataframe tbody tr th {\n",
       "        vertical-align: top;\n",
       "    }\n",
       "\n",
       "    .dataframe thead th {\n",
       "        text-align: right;\n",
       "    }\n",
       "</style>\n",
       "<table border=\"1\" class=\"dataframe\">\n",
       "  <thead>\n",
       "    <tr style=\"text-align: right;\">\n",
       "      <th></th>\n",
       "      <th>k</th>\n",
       "      <th>init_random</th>\n",
       "      <th>silhouette_score</th>\n",
       "      <th>adjusted_mutual_info_score</th>\n",
       "    </tr>\n",
       "  </thead>\n",
       "  <tbody>\n",
       "    <tr>\n",
       "      <th>0</th>\n",
       "      <td>2</td>\n",
       "      <td>0</td>\n",
       "      <td>0.598861</td>\n",
       "      <td>0.731585</td>\n",
       "    </tr>\n",
       "    <tr>\n",
       "      <th>1</th>\n",
       "      <td>2</td>\n",
       "      <td>1</td>\n",
       "      <td>0.598861</td>\n",
       "      <td>0.731585</td>\n",
       "    </tr>\n",
       "    <tr>\n",
       "      <th>2</th>\n",
       "      <td>3</td>\n",
       "      <td>0</td>\n",
       "      <td>0.581588</td>\n",
       "      <td>0.738655</td>\n",
       "    </tr>\n",
       "    <tr>\n",
       "      <th>3</th>\n",
       "      <td>3</td>\n",
       "      <td>1</td>\n",
       "      <td>0.581588</td>\n",
       "      <td>0.738655</td>\n",
       "    </tr>\n",
       "    <tr>\n",
       "      <th>4</th>\n",
       "      <td>4</td>\n",
       "      <td>0</td>\n",
       "      <td>0.390860</td>\n",
       "      <td>0.692797</td>\n",
       "    </tr>\n",
       "    <tr>\n",
       "      <th>5</th>\n",
       "      <td>4</td>\n",
       "      <td>1</td>\n",
       "      <td>0.390860</td>\n",
       "      <td>0.692797</td>\n",
       "    </tr>\n",
       "    <tr>\n",
       "      <th>6</th>\n",
       "      <td>5</td>\n",
       "      <td>0</td>\n",
       "      <td>0.245899</td>\n",
       "      <td>0.630947</td>\n",
       "    </tr>\n",
       "    <tr>\n",
       "      <th>7</th>\n",
       "      <td>5</td>\n",
       "      <td>1</td>\n",
       "      <td>0.245899</td>\n",
       "      <td>0.630947</td>\n",
       "    </tr>\n",
       "    <tr>\n",
       "      <th>8</th>\n",
       "      <td>6</td>\n",
       "      <td>0</td>\n",
       "      <td>0.190694</td>\n",
       "      <td>0.605214</td>\n",
       "    </tr>\n",
       "    <tr>\n",
       "      <th>9</th>\n",
       "      <td>6</td>\n",
       "      <td>1</td>\n",
       "      <td>0.192397</td>\n",
       "      <td>0.611287</td>\n",
       "    </tr>\n",
       "    <tr>\n",
       "      <th>10</th>\n",
       "      <td>7</td>\n",
       "      <td>0</td>\n",
       "      <td>0.270294</td>\n",
       "      <td>0.628454</td>\n",
       "    </tr>\n",
       "    <tr>\n",
       "      <th>11</th>\n",
       "      <td>7</td>\n",
       "      <td>1</td>\n",
       "      <td>0.254108</td>\n",
       "      <td>0.639949</td>\n",
       "    </tr>\n",
       "  </tbody>\n",
       "</table>\n",
       "</div>"
      ],
      "text/plain": [
       "    k init_random  silhouette_score  adjusted_mutual_info_score\n",
       "0   2           0          0.598861                    0.731585\n",
       "1   2           1          0.598861                    0.731585\n",
       "2   3           0          0.581588                    0.738655\n",
       "3   3           1          0.581588                    0.738655\n",
       "4   4           0          0.390860                    0.692797\n",
       "5   4           1          0.390860                    0.692797\n",
       "6   5           0          0.245899                    0.630947\n",
       "7   5           1          0.245899                    0.630947\n",
       "8   6           0          0.190694                    0.605214\n",
       "9   6           1          0.192397                    0.611287\n",
       "10  7           0          0.270294                    0.628454\n",
       "11  7           1          0.254108                    0.639949"
      ]
     },
     "metadata": {},
     "output_type": "display_data"
    },
    {
     "data": {
      "image/png": "[encoded data removed]",
      "text/plain": [
       "<Figure size 432x288 with 1 Axes>"
      ]
     },
     "metadata": {
      "needs_background": "light"
     },
     "output_type": "display_data"
    }
   ],
   "source": [
    "# Load sklearn\n",
    "from sklearn.cluster import KMeans\n",
    "from sklearn.metrics.cluster import adjusted_mutual_info_score\n",
    "\n",
    "kmeans_data = pd.DataFrame(columns=['k', 'init_random', 'silhouette_score', 'adjusted_mutual_info_score'])\n",
    "\n",
    "for k in iris_ks:\n",
    "    kmeans_clustering = KMeans(n_clusters=k, max_iter=5000).fit(X_iris, y_iris)\n",
    "    sil_score = silhouette_score(np.append(X_iris, y_iris, axis=1), kmeans_clustering.labels_)\n",
    "    adj_mut_info_score = adjusted_mutual_info_score(y_iris_truth_labels, kmeans_clustering.labels_)\n",
    "    kmeans_data = kmeans_data.append(pd.DataFrame([[k, 0, sil_score, adj_mut_info_score]], \n",
    "                                            columns=kmeans_data.columns), \n",
    "                                            ignore_index=True)\n",
    "\n",
    "    kmeans_clustering = KMeans(n_clusters=k, init='random', max_iter=5000).fit(X_iris, y_iris)\n",
    "    sil_score = silhouette_score(np.append(X_iris, y_iris, axis=1), kmeans_clustering.labels_)\n",
    "    adj_mut_info_score = adjusted_mutual_info_score(y_iris_truth_labels, kmeans_clustering.labels_)\n",
    "    kmeans_data = kmeans_data.append(pd.DataFrame([[k, 1, sil_score, adj_mut_info_score]],\n",
    "                                            columns=kmeans_data.columns),\n",
    "                                            ignore_index=True)\n",
    "\n",
    "display(kmeans_data)\n",
    "\n",
    "plt.plot(kmeans_data[kmeans_data.init_random == 1].k, kmeans_data[kmeans_data.init_random == 1].adjusted_mutual_info_score, label=\"Adjusted Mutual Info Score (random init)\")\n",
    "plt.plot(kmeans_data[kmeans_data.init_random == 0].k, kmeans_data[kmeans_data.init_random == 0].adjusted_mutual_info_score, label=\"Adjusted Mutual Info Score (k-means++ init)\")\n",
    "plt.plot(kmeans_data[kmeans_data.init_random == 1].k, kmeans_data[kmeans_data.init_random == 1].silhouette_score, label=\"Silhouette Score (random init)\")\n",
    "plt.plot(kmeans_data[kmeans_data.init_random == 0].k, kmeans_data[kmeans_data.init_random == 0].silhouette_score, label=\"Silhouette Score (k-means++ init)\")\n",
    "plt.legend()\n",
    "plt.xlabel('Number of Clusters')\n",
    "plt.ylabel('Score')\n",
    "plt.title('Iris Dataset SKLearn kMeans Clustering Scores vs Num Clusters')\n",
    "plt.show()"
   ]
  },
  {
   "cell_type": "markdown",
   "metadata": {
    "id": "BqSFAXwlk3Ms"
   },
   "source": [
    "*Record impressions*"
   ]
  },
  {
   "cell_type": "markdown",
   "metadata": {
    "id": "cTlK-kijk8Mg"
   },
   "source": [
    "## 4. (Optional 5% extra credit) For your silhouette experiment above, write and use your own code to calculate the silhouette scores, rather than the SK or other version. \n"
   ]
  },
  {
   "cell_type": "markdown",
   "metadata": {
    "id": "BqSFAXwlk3Ms"
   },
   "source": [
    "*Show findings here*"
   ]
  },
  {
   "cell_type": "code",
   "execution_count": null,
   "metadata": {},
   "outputs": [],
   "source": [
    "# Copy function Below"
   ]
  }
 ],
 "metadata": {
  "colab": {
   "collapsed_sections": [],
   "name": "lab 1 - perceptron",
   "provenance": []
  },
  "interpreter": {
   "hash": "1a65073414dc3321055cc9f3951d59c376a4cb91ef1a68a410f56d55beb752c1"
  },
  "kernelspec": {
   "display_name": "Python 3.8.12 64-bit ('school': conda)",
   "name": "python3"
  },
  "language_info": {
   "codemirror_mode": {
    "name": "ipython",
    "version": 3
   },
   "file_extension": ".py",
   "mimetype": "text/x-python",
   "name": "python",
   "nbconvert_exporter": "python",
   "pygments_lexer": "ipython3",
   "version": "3.8.11"
  }
 },
 "nbformat": 4,
 "nbformat_minor": 4
}
