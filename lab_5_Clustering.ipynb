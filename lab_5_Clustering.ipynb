{
 "cells": [
  {
   "cell_type": "markdown",
   "metadata": {
    "id": "DVL7_bgmIAPR"
   },
   "source": [
    "# Unsupervised Learning: Clustering Lab\n",
    "\n",
    "\n",
    "\n"
   ]
  },
  {
   "cell_type": "code",
   "execution_count": 140,
   "metadata": {
    "id": "6ZbYjZZZ_yLV"
   },
   "outputs": [],
   "source": [
    "from sklearn.base import BaseEstimator, ClassifierMixin, ClusterMixin\n",
    "from sklearn.cluster import AgglomerativeClustering, KMeans\n",
    "from sklearn.metrics import silhouette_score\n",
    "import numpy as np\n",
    "import matplotlib.pyplot as plt\n",
    "\n",
    "from scipy.io import arff\n",
    "import pandas as pd\n",
    "from IPython.core.display import display\n",
    "import pprint\n",
    "pp = pprint.PrettyPrinter(indent=4)\n",
    "from scipy.spatial.distance import cdist\n",
    "import gc\n",
    "from sklearn.metrics import silhouette_score\n",
    "import copy\n",
    "import time"
   ]
  },
  {
   "cell_type": "code",
   "execution_count": 112,
   "metadata": {},
   "outputs": [],
   "source": [
    "# HELPER FUNCTIONS\n",
    "\n",
    "def load_data(filename):\n",
    "    data = arff.loadarff(filename)\n",
    "    df = pd.DataFrame(data[0])\n",
    "\n",
    "    for i in range(len(df.dtypes)):\n",
    "        if df.dtypes.astype(str).iloc[i] == 'object':\n",
    "            column = df.columns[i]\n",
    "            df[column] = df[column] \\\n",
    "                            .astype(str).str \\\n",
    "                            .split(\"\\'\", expand=True) \\\n",
    "                            .iloc[:,1]\n",
    "    return df\n",
    "\n",
    "def normalize(data):\n",
    "    # (x-xmin)/(xmax-xmin)\n",
    "    return (data - np.min(data, axis=0)) / (np.max(data, axis=0) - np.min(data, axis=0))"
   ]
  },
  {
   "cell_type": "markdown",
   "metadata": {
    "id": "sCcEPx5VIORj"
   },
   "source": [
    "## 1. (50%) Implement the k-means clustering algorithm and the HAC (Hierarchical Agglomerative Clustering) algorithm.\n",
    "\n",
    "### 1.1.1 HAC\n",
    "\n",
    "### Code requirements \n",
    "- HAC should support both single link and complete link options.\n",
    "- HAC automatically generates all clusterings from n to 1.  To simplify the amount of output you may want to implement a mechanism to specify for which k values actual output will be generated.\n",
    "\n",
    "\n",
    "---\n",
    "The output should include the following:\n",
    "- The number of clusters (k).\n",
    "- The silhouette score of the full clustering. (You can either write and use your own silhouette_score function (extra credit) or use sklearn's)\n",
    "\n",
    "\n",
    "For each cluster report include:\n",
    "\n",
    "\n",
    "- The centroid id.\n",
    "- The number of instances tied to that centroid. \n",
    "---"
   ]
  },
  {
   "cell_type": "code",
   "execution_count": 180,
   "metadata": {
    "id": "_a2KSZ_7AN0G"
   },
   "outputs": [],
   "source": [
    "class HACClustering(BaseEstimator,ClusterMixin):\n",
    "\n",
    "    def __init__(self,k=3,link_type='single'): ## add parameters here\n",
    "        \"\"\"\n",
    "        Args:\n",
    "            k = how many final clusters to have\n",
    "            link_type = single or complete. when combining two clusters use complete link or single link\n",
    "        \"\"\"\n",
    "        self.link_type = link_type\n",
    "        self.k = k\n",
    "        self.clusters = []\n",
    "        \n",
    "    def fit(self, X, y=None):\n",
    "        \"\"\" Fit the data; In this lab this will make the K clusters :D\n",
    "        Args:\n",
    "            X (array-like): A 2D numpy array with the training data\n",
    "            y (array-like): An optional argument. Clustering is usually unsupervised so you don't need labels\n",
    "        Returns:\n",
    "            self: this allows this to be chained, e.g. model.fit(X,y).predict(X_test)\n",
    "        \"\"\"\n",
    "\n",
    "        # Put all instances in their own cluster\n",
    "        if y is not None:\n",
    "            X = np.append(X, y.reshape(-1,1), axis=1)\n",
    "        self.init_clusters(X)\n",
    "\n",
    "        # Remember number of samples and number of features\n",
    "        self.n_samples, self.n_features = X.shape[0], X.shape[1]\n",
    "\n",
    "        # Combine clusters one at a time until desired cluster count is reached\n",
    "        while len(self.clusters) > self.k:\n",
    "            gc.collect()\n",
    "            self.combine_two_clusters()\n",
    "\n",
    "        self.calc_silhouette_score()\n",
    "\n",
    "        return self\n",
    "\n",
    "    def combine_two_clusters(self):\n",
    "        \n",
    "        min_cluster_dist = np.inf\n",
    "        min_dist_clusters_inds = (None, None)\n",
    "\n",
    "        for i in range(len(self.clusters)):\n",
    "            for j in range(len(self.clusters)):\n",
    "                if i == j: continue\n",
    "\n",
    "                c1 = self.clusters[i]\n",
    "                c2 = self.clusters[j]\n",
    "                distance_metric = self.cluster_distance(c1, c2)\n",
    "\n",
    "                if distance_metric < min_cluster_dist:\n",
    "                    min_cluster_dist = distance_metric\n",
    "                    min_dist_clusters_inds = (i, j)\n",
    "\n",
    "        new_clusters = []\n",
    "        c1,  c2 = self.clusters[min_dist_clusters_inds[0]], \\\n",
    "            self.clusters[min_dist_clusters_inds[1]]\n",
    "        combined_cluster = np.append(c1, c2, axis=0)\n",
    "        new_clusters.append(combined_cluster)\n",
    "\n",
    "        for ind in range(len(self.clusters)):\n",
    "            if ind != min_dist_clusters_inds[0] and ind != min_dist_clusters_inds[1]:\n",
    "                new_clusters.append(self.clusters[ind])\n",
    "\n",
    "        self.clusters = new_clusters\n",
    "\n",
    "    def calc_silhouette_score(self):\n",
    "        self.data_, self.labels_ = self._arr_clusters_labels()\n",
    "        self.silhouette_score_ = silhouette_score(self.data_, self.labels_, metric='euclidean')\n",
    "\n",
    "    def cluster_distance(self, c1, c2):\n",
    "        dist = cdist( c1, c2, metric='euclidean' )  # -> (nx, ny) distances\n",
    "        if self.link_type == 'single':\n",
    "            return np.min(dist)\n",
    "        elif self.link_type == 'complete':\n",
    "            return np.max(dist)\n",
    "\n",
    "    def init_clusters(self, instances):\n",
    "        for i in range(instances.shape[0]):\n",
    "            cluster = instances[i, :].reshape(1, -1)\n",
    "            self.clusters.append(cluster)\n",
    "    \n",
    "    def print_clusters(self):\n",
    "        \"\"\"\n",
    "            Used for grading.\n",
    "            print(\"Num clusters: {:d}\\n\".format(k))\n",
    "            print(\"Silhouette score: {:.4f}\\n\\n\".format(silhouette_score))\n",
    "            for each cluster and centroid:\n",
    "                print(np.array2string(centroid,precision=4,separator=\",\"))\n",
    "                print(\"{:d}\\n\".format(size of cluster))\n",
    "        \"\"\"\n",
    "\n",
    "        print(\"Num clusters: {:d}\\n\".format(len(self.clusters)))\n",
    "        print(\"Silhouette score: {:.4f}\\n\\n\".format(self.silhouette_score_))\n",
    "        for cluster in self.clusters:\n",
    "            centroid = np.mean(cluster, axis=0)\n",
    "            print(np.array2string(centroid,precision=4,separator=\",\"))\n",
    "            print(\"{:d}\\n\".format(cluster.shape[0]))\n",
    "\n",
    "    def _arr_clusters_labels(self):\n",
    "        arr_clusters = np.zeros((self.n_samples, self.n_features))\n",
    "        labels = np.zeros(self.n_samples)\n",
    "        ptr = 0\n",
    "        cluster_label = 0\n",
    "\n",
    "        for cluster in self.clusters:\n",
    "            n_cluster_samples = cluster.shape[0]\n",
    "            arr_clusters[ptr:(ptr+n_cluster_samples)] = cluster\n",
    "            labels[ptr:(ptr+n_cluster_samples)] = cluster_label\n",
    "            cluster_label += 1\n",
    "            ptr += cluster.shape[0]\n",
    "\n",
    "        return arr_clusters, labels"
   ]
  },
  {
   "cell_type": "markdown",
   "metadata": {
    "id": "KibCIXIThpbE"
   },
   "source": [
    "### 1.1.2 Debug \n",
    "\n",
    "Debug your model by running it on the [Debug Dataset](https://raw.githubusercontent.com/cs472ta/CS472/master/datasets/abalone.arff)\n",
    "\n",
    "\n",
    "---\n",
    "The dataset was modified to be a lot smaller. The last datapoint should be on line 359 or the point 0.585,0.46,0.185,0.922,0.3635,0.213,0.285,10. The remaining points should be commented out.\n",
    "\n",
    "\n",
    "- Make sure to include the output class (last column) as an additional input feature\n",
    "- Normalize Data\n",
    "- K = 5\n",
    "- Use 4 decimal places and DO NOT ROUND when reporting silhouette score and centroid values.\n",
    "\n",
    "\n",
    "---\n",
    "Solutions in files:\n",
    "\n",
    "[Debug HAC Single (Silhouette).txt](https://raw.githubusercontent.com/cs472ta/CS472/master/debug_solutions/Debug%20HAC%20Single%20Link%20%28Silhouette%29.txt)\n",
    "\n",
    "[Debug HAC Complete (Silhouette).txt](https://raw.githubusercontent.com/cs472ta/CS472/master/debug_solutions/Debug%20HAC%20Complete%20Link%20%28Silhouette%29.txt)"
   ]
  },
  {
   "cell_type": "code",
   "execution_count": 82,
   "metadata": {},
   "outputs": [
    {
     "data": {
      "text/html": [
       "<div>\n",
       "<style scoped>\n",
       "    .dataframe tbody tr th:only-of-type {\n",
       "        vertical-align: middle;\n",
       "    }\n",
       "\n",
       "    .dataframe tbody tr th {\n",
       "        vertical-align: top;\n",
       "    }\n",
       "\n",
       "    .dataframe thead th {\n",
       "        text-align: right;\n",
       "    }\n",
       "</style>\n",
       "<table border=\"1\" class=\"dataframe\">\n",
       "  <thead>\n",
       "    <tr style=\"text-align: right;\">\n",
       "      <th></th>\n",
       "      <th>Length</th>\n",
       "      <th>Diameter</th>\n",
       "      <th>Height</th>\n",
       "      <th>Whole_weight</th>\n",
       "      <th>Shucked_weight</th>\n",
       "      <th>Viscera_weight</th>\n",
       "      <th>Shell_weight</th>\n",
       "      <th>Rings</th>\n",
       "    </tr>\n",
       "  </thead>\n",
       "  <tbody>\n",
       "    <tr>\n",
       "      <th>0</th>\n",
       "      <td>0.455</td>\n",
       "      <td>0.365</td>\n",
       "      <td>0.095</td>\n",
       "      <td>0.5140</td>\n",
       "      <td>0.2245</td>\n",
       "      <td>0.1010</td>\n",
       "      <td>0.15</td>\n",
       "      <td>15.0</td>\n",
       "    </tr>\n",
       "    <tr>\n",
       "      <th>1</th>\n",
       "      <td>0.350</td>\n",
       "      <td>0.265</td>\n",
       "      <td>0.090</td>\n",
       "      <td>0.2255</td>\n",
       "      <td>0.0995</td>\n",
       "      <td>0.0485</td>\n",
       "      <td>0.07</td>\n",
       "      <td>7.0</td>\n",
       "    </tr>\n",
       "  </tbody>\n",
       "</table>\n",
       "</div>"
      ],
      "text/plain": [
       "   Length  Diameter  Height  Whole_weight  Shucked_weight  Viscera_weight  \\\n",
       "0   0.455     0.365   0.095        0.5140          0.2245          0.1010   \n",
       "1   0.350     0.265   0.090        0.2255          0.0995          0.0485   \n",
       "\n",
       "   Shell_weight  Rings  \n",
       "0          0.15   15.0  \n",
       "1          0.07    7.0  "
      ]
     },
     "metadata": {},
     "output_type": "display_data"
    },
    {
     "data": {
      "text/html": [
       "<div>\n",
       "<style scoped>\n",
       "    .dataframe tbody tr th:only-of-type {\n",
       "        vertical-align: middle;\n",
       "    }\n",
       "\n",
       "    .dataframe tbody tr th {\n",
       "        vertical-align: top;\n",
       "    }\n",
       "\n",
       "    .dataframe thead th {\n",
       "        text-align: right;\n",
       "    }\n",
       "</style>\n",
       "<table border=\"1\" class=\"dataframe\">\n",
       "  <thead>\n",
       "    <tr style=\"text-align: right;\">\n",
       "      <th></th>\n",
       "      <th>Length</th>\n",
       "      <th>Diameter</th>\n",
       "      <th>Height</th>\n",
       "      <th>Whole_weight</th>\n",
       "      <th>Shucked_weight</th>\n",
       "      <th>Viscera_weight</th>\n",
       "      <th>Shell_weight</th>\n",
       "      <th>Rings</th>\n",
       "    </tr>\n",
       "  </thead>\n",
       "  <tbody>\n",
       "    <tr>\n",
       "      <th>198</th>\n",
       "      <td>0.560</td>\n",
       "      <td>0.45</td>\n",
       "      <td>0.160</td>\n",
       "      <td>0.922</td>\n",
       "      <td>0.4320</td>\n",
       "      <td>0.178</td>\n",
       "      <td>0.260</td>\n",
       "      <td>15.0</td>\n",
       "    </tr>\n",
       "    <tr>\n",
       "      <th>199</th>\n",
       "      <td>0.585</td>\n",
       "      <td>0.46</td>\n",
       "      <td>0.185</td>\n",
       "      <td>0.922</td>\n",
       "      <td>0.3635</td>\n",
       "      <td>0.213</td>\n",
       "      <td>0.285</td>\n",
       "      <td>10.0</td>\n",
       "    </tr>\n",
       "  </tbody>\n",
       "</table>\n",
       "</div>"
      ],
      "text/plain": [
       "     Length  Diameter  Height  Whole_weight  Shucked_weight  Viscera_weight  \\\n",
       "198   0.560      0.45   0.160         0.922          0.4320           0.178   \n",
       "199   0.585      0.46   0.185         0.922          0.3635           0.213   \n",
       "\n",
       "     Shell_weight  Rings  \n",
       "198         0.260   15.0  \n",
       "199         0.285   10.0  "
      ]
     },
     "metadata": {},
     "output_type": "display_data"
    },
    {
     "name": "stdout",
     "output_type": "stream",
     "text": [
      "(200, 7)\n",
      "(200,)\n",
      "Num clusters: 5\n",
      "\n",
      "Silhouette score: 0.3453\n",
      "\n",
      "\n",
      "[0.599 ,0.5923,0.4915,0.2826,0.2682,0.2921,0.2316,0.3849]\n",
      "195\n",
      "\n",
      "[1.    ,0.9831,0.8026,0.8343,0.6575,0.7825,0.9221,0.8824]\n",
      "2\n",
      "\n",
      "[0.9189,0.9438,0.7105,0.7016,0.759 ,0.7222,0.4472,0.8824]\n",
      "1\n",
      "\n",
      "[1.    ,0.9888,0.7895,1.    ,1.    ,0.8915,0.7186,0.5882]\n",
      "1\n",
      "\n",
      "[0.9189,0.9888,0.8684,0.719 ,0.5797,0.7512,0.6432,0.9412]\n",
      "1\n",
      "\n",
      "Num clusters: 5\n",
      "\n",
      "Silhouette score: 0.3095\n",
      "\n",
      "\n",
      "[0.3661,0.3505,0.271 ,0.1008,0.1024,0.1058,0.0836,0.2116]\n",
      "67\n",
      "\n",
      "[0.6544,0.649 ,0.5256,0.2879,0.2815,0.3057,0.2288,0.3911]\n",
      "71\n",
      "\n",
      "[0.8818,0.8904,0.7582,0.614 ,0.5433,0.5317,0.561 ,0.7794]\n",
      "16\n",
      "\n",
      "[0.9471,0.934 ,0.8158,0.7457,0.6434,0.7944,0.6457,0.625 ]\n",
      "8\n",
      "\n",
      "[0.7622,0.7658,0.6759,0.4265,0.4016,0.4536,0.3376,0.5217]\n",
      "38\n",
      "\n"
     ]
    }
   ],
   "source": [
    "# Debug Here\n",
    "dbDF = load_data(\"datasets/abalone.arff\")\n",
    "display(dbDF.head(2))\n",
    "display(dbDF.tail(2))\n",
    "\n",
    "X_db = dbDF.iloc[:, :-1].to_numpy()\n",
    "y_db = dbDF.iloc[:, -1].to_numpy()\n",
    "\n",
    "print(X_db.shape)\n",
    "print(y_db.shape)\n",
    "\n",
    "X_db = normalize(X_db)\n",
    "y_db = normalize(y_db)\n",
    "\n",
    "hac = HACClustering(k=5)\n",
    "hac.fit(X_db, y_db)\n",
    "hac.print_clusters()\n",
    "\n",
    "hac = HACClustering(k=5, link_type='complete')\n",
    "hac.fit(X_db, y_db)\n",
    "hac.print_clusters()"
   ]
  },
  {
   "cell_type": "markdown",
   "metadata": {
    "id": "kY3VNB1ui03N"
   },
   "source": [
    "### 1.1.3 Evaluation\n",
    "\n",
    "We will evaluate your model based on its print_clusters() output using [Evaluation Dataset](https://raw.githubusercontent.com/cs472ta/CS472/master/datasets/seismic-bumps_train.arff)\n",
    "\n",
    "- Make sure to include the output class (last column) as an additional input feature\n",
    "- Normalize Data\n",
    "- K = 5\n",
    "- Use 4 decimal places and DO NOT ROUND when reporting silhouette score and centroid values."
   ]
  },
  {
   "cell_type": "markdown",
   "metadata": {},
   "source": [
    "#### 1.1.3.1 Complete Link"
   ]
  },
  {
   "cell_type": "code",
   "execution_count": 31,
   "metadata": {
    "id": "2yAxA78QjDh2"
   },
   "outputs": [
    {
     "data": {
      "text/html": [
       "<div>\n",
       "<style scoped>\n",
       "    .dataframe tbody tr th:only-of-type {\n",
       "        vertical-align: middle;\n",
       "    }\n",
       "\n",
       "    .dataframe tbody tr th {\n",
       "        vertical-align: top;\n",
       "    }\n",
       "\n",
       "    .dataframe thead th {\n",
       "        text-align: right;\n",
       "    }\n",
       "</style>\n",
       "<table border=\"1\" class=\"dataframe\">\n",
       "  <thead>\n",
       "    <tr style=\"text-align: right;\">\n",
       "      <th></th>\n",
       "      <th>V1</th>\n",
       "      <th>V2</th>\n",
       "      <th>V3</th>\n",
       "      <th>V4</th>\n",
       "      <th>V5</th>\n",
       "      <th>V6</th>\n",
       "      <th>V7</th>\n",
       "      <th>Class</th>\n",
       "    </tr>\n",
       "  </thead>\n",
       "  <tbody>\n",
       "    <tr>\n",
       "      <th>0</th>\n",
       "      <td>15.26</td>\n",
       "      <td>14.84</td>\n",
       "      <td>0.8710</td>\n",
       "      <td>5.763</td>\n",
       "      <td>3.312</td>\n",
       "      <td>2.221</td>\n",
       "      <td>5.220</td>\n",
       "      <td>1</td>\n",
       "    </tr>\n",
       "    <tr>\n",
       "      <th>1</th>\n",
       "      <td>14.88</td>\n",
       "      <td>14.57</td>\n",
       "      <td>0.8811</td>\n",
       "      <td>5.554</td>\n",
       "      <td>3.333</td>\n",
       "      <td>1.018</td>\n",
       "      <td>4.956</td>\n",
       "      <td>1</td>\n",
       "    </tr>\n",
       "  </tbody>\n",
       "</table>\n",
       "</div>"
      ],
      "text/plain": [
       "      V1     V2      V3     V4     V5     V6     V7 Class\n",
       "0  15.26  14.84  0.8710  5.763  3.312  2.221  5.220     1\n",
       "1  14.88  14.57  0.8811  5.554  3.333  1.018  4.956     1"
      ]
     },
     "metadata": {},
     "output_type": "display_data"
    },
    {
     "data": {
      "text/html": [
       "<div>\n",
       "<style scoped>\n",
       "    .dataframe tbody tr th:only-of-type {\n",
       "        vertical-align: middle;\n",
       "    }\n",
       "\n",
       "    .dataframe tbody tr th {\n",
       "        vertical-align: top;\n",
       "    }\n",
       "\n",
       "    .dataframe thead th {\n",
       "        text-align: right;\n",
       "    }\n",
       "</style>\n",
       "<table border=\"1\" class=\"dataframe\">\n",
       "  <thead>\n",
       "    <tr style=\"text-align: right;\">\n",
       "      <th></th>\n",
       "      <th>V1</th>\n",
       "      <th>V2</th>\n",
       "      <th>V3</th>\n",
       "      <th>V4</th>\n",
       "      <th>V5</th>\n",
       "      <th>V6</th>\n",
       "      <th>V7</th>\n",
       "      <th>Class</th>\n",
       "    </tr>\n",
       "  </thead>\n",
       "  <tbody>\n",
       "    <tr>\n",
       "      <th>138</th>\n",
       "      <td>15.60</td>\n",
       "      <td>15.11</td>\n",
       "      <td>0.858</td>\n",
       "      <td>5.832</td>\n",
       "      <td>3.286</td>\n",
       "      <td>2.725</td>\n",
       "      <td>5.752</td>\n",
       "      <td>2</td>\n",
       "    </tr>\n",
       "    <tr>\n",
       "      <th>139</th>\n",
       "      <td>16.23</td>\n",
       "      <td>15.18</td>\n",
       "      <td>0.885</td>\n",
       "      <td>5.872</td>\n",
       "      <td>3.472</td>\n",
       "      <td>3.769</td>\n",
       "      <td>5.922</td>\n",
       "      <td>2</td>\n",
       "    </tr>\n",
       "  </tbody>\n",
       "</table>\n",
       "</div>"
      ],
      "text/plain": [
       "        V1     V2     V3     V4     V5     V6     V7 Class\n",
       "138  15.60  15.11  0.858  5.832  3.286  2.725  5.752     2\n",
       "139  16.23  15.18  0.885  5.872  3.472  3.769  5.922     2"
      ]
     },
     "metadata": {},
     "output_type": "display_data"
    },
    {
     "name": "stdout",
     "output_type": "stream",
     "text": [
      "(140, 7)\n",
      "(140,)\n",
      "Num clusters: 5\n",
      "\n",
      "Silhouette score: 0.2930\n",
      "\n",
      "\n",
      "[0.7918,0.8268,0.606 ,0.7669,0.7787,0.4634,0.7877,1.    ]\n",
      "49\n",
      "\n",
      "[0.3636,0.4107,0.5609,0.3857,0.3937,0.2808,0.3155,0.    ]\n",
      "49\n",
      "\n",
      "[0.1656,0.2226,0.3509,0.2328,0.152 ,0.3424,0.1918,0.    ]\n",
      "18\n",
      "\n",
      "[0.5326,0.6002,0.4536,0.5531,0.5144,0.5401,0.6266,1.    ]\n",
      "21\n",
      "\n",
      "[0.3471,0.3622,0.7897,0.279 ,0.441 ,0.8568,0.2234,0.    ]\n",
      "3\n",
      "\n"
     ]
    }
   ],
   "source": [
    "# Load evaluation data\n",
    "evalDF = load_data(\"datasets/seismic-bumps_train.arff\")\n",
    "display(evalDF.head(2))\n",
    "display(evalDF.tail(2))\n",
    "\n",
    "evalDF['Class'] = evalDF['Class'].astype(float)\n",
    "\n",
    "X_eval = evalDF.iloc[:, :-1].to_numpy()\n",
    "y_eval = evalDF.iloc[:, -1].to_numpy()\n",
    "\n",
    "print(X_eval.shape)\n",
    "print(y_eval.shape)\n",
    "\n",
    "X_eval = normalize(X_eval)\n",
    "y_eval = normalize(y_eval)\n",
    "\n",
    "# Train on evaluation data using complete link\n",
    "hac = HACClustering(k=5, link_type='complete')\n",
    "hac.fit(X_eval, y_eval)\n",
    "\n",
    "# Print clusters\n",
    "hac.print_clusters()"
   ]
  },
  {
   "cell_type": "markdown",
   "metadata": {},
   "source": [
    "#### 1.1.3.1 Single Link"
   ]
  },
  {
   "cell_type": "code",
   "execution_count": 32,
   "metadata": {},
   "outputs": [
    {
     "data": {
      "text/html": [
       "<div>\n",
       "<style scoped>\n",
       "    .dataframe tbody tr th:only-of-type {\n",
       "        vertical-align: middle;\n",
       "    }\n",
       "\n",
       "    .dataframe tbody tr th {\n",
       "        vertical-align: top;\n",
       "    }\n",
       "\n",
       "    .dataframe thead th {\n",
       "        text-align: right;\n",
       "    }\n",
       "</style>\n",
       "<table border=\"1\" class=\"dataframe\">\n",
       "  <thead>\n",
       "    <tr style=\"text-align: right;\">\n",
       "      <th></th>\n",
       "      <th>V1</th>\n",
       "      <th>V2</th>\n",
       "      <th>V3</th>\n",
       "      <th>V4</th>\n",
       "      <th>V5</th>\n",
       "      <th>V6</th>\n",
       "      <th>V7</th>\n",
       "      <th>Class</th>\n",
       "    </tr>\n",
       "  </thead>\n",
       "  <tbody>\n",
       "    <tr>\n",
       "      <th>0</th>\n",
       "      <td>15.26</td>\n",
       "      <td>14.84</td>\n",
       "      <td>0.8710</td>\n",
       "      <td>5.763</td>\n",
       "      <td>3.312</td>\n",
       "      <td>2.221</td>\n",
       "      <td>5.220</td>\n",
       "      <td>1</td>\n",
       "    </tr>\n",
       "    <tr>\n",
       "      <th>1</th>\n",
       "      <td>14.88</td>\n",
       "      <td>14.57</td>\n",
       "      <td>0.8811</td>\n",
       "      <td>5.554</td>\n",
       "      <td>3.333</td>\n",
       "      <td>1.018</td>\n",
       "      <td>4.956</td>\n",
       "      <td>1</td>\n",
       "    </tr>\n",
       "  </tbody>\n",
       "</table>\n",
       "</div>"
      ],
      "text/plain": [
       "      V1     V2      V3     V4     V5     V6     V7 Class\n",
       "0  15.26  14.84  0.8710  5.763  3.312  2.221  5.220     1\n",
       "1  14.88  14.57  0.8811  5.554  3.333  1.018  4.956     1"
      ]
     },
     "metadata": {},
     "output_type": "display_data"
    },
    {
     "data": {
      "text/html": [
       "<div>\n",
       "<style scoped>\n",
       "    .dataframe tbody tr th:only-of-type {\n",
       "        vertical-align: middle;\n",
       "    }\n",
       "\n",
       "    .dataframe tbody tr th {\n",
       "        vertical-align: top;\n",
       "    }\n",
       "\n",
       "    .dataframe thead th {\n",
       "        text-align: right;\n",
       "    }\n",
       "</style>\n",
       "<table border=\"1\" class=\"dataframe\">\n",
       "  <thead>\n",
       "    <tr style=\"text-align: right;\">\n",
       "      <th></th>\n",
       "      <th>V1</th>\n",
       "      <th>V2</th>\n",
       "      <th>V3</th>\n",
       "      <th>V4</th>\n",
       "      <th>V5</th>\n",
       "      <th>V6</th>\n",
       "      <th>V7</th>\n",
       "      <th>Class</th>\n",
       "    </tr>\n",
       "  </thead>\n",
       "  <tbody>\n",
       "    <tr>\n",
       "      <th>138</th>\n",
       "      <td>15.60</td>\n",
       "      <td>15.11</td>\n",
       "      <td>0.858</td>\n",
       "      <td>5.832</td>\n",
       "      <td>3.286</td>\n",
       "      <td>2.725</td>\n",
       "      <td>5.752</td>\n",
       "      <td>2</td>\n",
       "    </tr>\n",
       "    <tr>\n",
       "      <th>139</th>\n",
       "      <td>16.23</td>\n",
       "      <td>15.18</td>\n",
       "      <td>0.885</td>\n",
       "      <td>5.872</td>\n",
       "      <td>3.472</td>\n",
       "      <td>3.769</td>\n",
       "      <td>5.922</td>\n",
       "      <td>2</td>\n",
       "    </tr>\n",
       "  </tbody>\n",
       "</table>\n",
       "</div>"
      ],
      "text/plain": [
       "        V1     V2     V3     V4     V5     V6     V7 Class\n",
       "138  15.60  15.11  0.858  5.832  3.286  2.725  5.752     2\n",
       "139  16.23  15.18  0.885  5.872  3.472  3.769  5.922     2"
      ]
     },
     "metadata": {},
     "output_type": "display_data"
    },
    {
     "name": "stdout",
     "output_type": "stream",
     "text": [
      "(140, 7)\n",
      "(140,)\n",
      "Num clusters: 5\n",
      "\n",
      "Silhouette score: 0.3971\n",
      "\n",
      "\n",
      "[0.714 ,0.7588,0.5603,0.7028,0.6994,0.4864,0.7393,1.    ]\n",
      "70\n",
      "\n",
      "[0.3159,0.3648,0.5145,0.349 ,0.3338,0.3077,0.2868,0.    ]\n",
      "67\n",
      "\n",
      "[0.2774,0.2597,1.    ,0.1224,0.4505,0.7549,0.129 ,0.    ]\n",
      "1\n",
      "\n",
      "[0.3065,0.3333,0.6979,0.2792,0.3787,1.    ,0.2373,0.    ]\n",
      "1\n",
      "\n",
      "[0.0884,0.1818,0.    ,0.145 ,0.1538,0.1245,0.    ,0.    ]\n",
      "1\n",
      "\n"
     ]
    }
   ],
   "source": [
    "# Load evaluation data\n",
    "evalDF = load_data(\"datasets/seismic-bumps_train.arff\")\n",
    "display(evalDF.head(2))\n",
    "display(evalDF.tail(2))\n",
    "\n",
    "evalDF['Class'] = evalDF['Class'].astype(float)\n",
    "\n",
    "X_eval = evalDF.iloc[:, :-1].to_numpy()\n",
    "y_eval = evalDF.iloc[:, -1].to_numpy()\n",
    "\n",
    "print(X_eval.shape)\n",
    "print(y_eval.shape)\n",
    "\n",
    "X_eval = normalize(X_eval)\n",
    "y_eval = normalize(y_eval)\n",
    "\n",
    "# Train on evaluation data using single link\n",
    "hac = HACClustering(k=5, link_type='single')\n",
    "hac.fit(X_eval, y_eval)\n",
    "\n",
    "# Print clusters\n",
    "hac.print_clusters()"
   ]
  },
  {
   "cell_type": "markdown",
   "metadata": {},
   "source": [
    "### 1.2.1 K-Means\n",
    "\n",
    "### Code requirements \n",
    "- Ability to choose k and specify k initial centroids\n",
    "- Use Euclidean Distance as metric\n",
    "- Ability to handle distance ties\n",
    "- Include output label as a cluster feature\n",
    "\n",
    "\n",
    "---\n",
    "The output should include the following:\n",
    "- The number of clusters (k).\n",
    "- The silhouette score of the full clustering. (You can either write and use your own silhouette_score function (extra credit) or use sklearn's)\n",
    "\n",
    "\n",
    "For each cluster report include:\n",
    "\n",
    "\n",
    "- The centroid id.\n",
    "- The number of instances tied to that centroid. \n",
    "---\n",
    "You only need to handle continuous features"
   ]
  },
  {
   "cell_type": "code",
   "execution_count": 190,
   "metadata": {
    "id": "_a2KSZ_7AN0G"
   },
   "outputs": [],
   "source": [
    "class KMEANSClustering(BaseEstimator,ClusterMixin):\n",
    "\n",
    "    def __init__(self,k=3,debug=False, tol=0, random_centroids=False): ## add parameters here\n",
    "        \"\"\"\n",
    "        Args:\n",
    "            k = how many final clusters to have\n",
    "            debug = if debug is true use the first k instances as the initial centroids otherwise choose random points as the initial centroids.\n",
    "        \"\"\"\n",
    "        self.k = k\n",
    "        self.debug = debug\n",
    "        self.tol = tol\n",
    "        self.random_centroids = random_centroids\n",
    "\n",
    "    def fit(self, X, y=None):\n",
    "        \"\"\" Fit the data; In this lab this will make the K clusters :D\n",
    "        Args:\n",
    "            X (array-like): A 2D numpy array with the training data\n",
    "            y (array-like): An optional argument. Clustering is usually unsupervised so you don't need labels\n",
    "        Returns:\n",
    "            self: this allows this to be chained, e.g. model.fit(X,y).predict(X_test)\n",
    "        \"\"\"\n",
    "        # Put all instances in their own cluster\n",
    "        if y is not None:\n",
    "            X = np.append(X, y.reshape(-1,1), axis=1)\n",
    "\n",
    "        # Remember number of samples and number of features\n",
    "        self.n_samples, self.n_features = X.shape[0], X.shape[1]\n",
    "\n",
    "        # Store X as class variable\n",
    "        self.data = X\n",
    "\n",
    "        # Get centroids (first k instances)\n",
    "        self.init_centroids()\n",
    "        self.old_centroids = np.full(self.centroids.shape, np.inf)\n",
    "\n",
    "        # Combine clusters one at a time until there is not change in centroids\n",
    "        while np.max(np.abs(self.centroids - self.old_centroids)) > self.tol:\n",
    "            gc.collect()\n",
    "            self.iterate_centroids()\n",
    "\n",
    "        self.calc_silhouette_score()\n",
    "\n",
    "        return self\n",
    "\n",
    "    def init_centroids(self):\n",
    "        if self.random_centroids == True:\n",
    "            centroid_indxs = np.random.randint(0, self.n_samples, size=self.k)\n",
    "            self.centroids = np.copy(self.data[centroid_indxs])\n",
    "        else:\n",
    "            self.centroids = np.copy(self.data[:self.k, :])\n",
    "    \n",
    "    def iterate_centroids(self):\n",
    "        self.old_centroids = np.copy(self.centroids)\n",
    "\n",
    "        dist = cdist( self.centroids, self.data, metric='euclidean' )  # -> (nx, ny) distances\n",
    "        dist_ind = np.argmin(dist, axis=0) # Ties are broken by taking the first index\n",
    "\n",
    "        for centroid_id in range(self.centroids.shape[0]):\n",
    "            nearest_point_ids = np.where(dist_ind == centroid_id)\n",
    "            nearest_points = self.data[nearest_point_ids, :].squeeze(axis=0)\n",
    "            self.centroids[centroid_id, :] = np.mean(nearest_points, axis=0)\n",
    "\n",
    "    def calc_silhouette_score(self):\n",
    "        dist = cdist( self.centroids, self.data, metric='euclidean' )  # -> (nx, ny) distances\n",
    "        self.labels_ = np.argmin(dist, axis=0)\n",
    "        self.silhouette_score_ = silhouette_score(self.data, self.labels_, metric='euclidean')\n",
    "\n",
    "    def print_clusters(self):\n",
    "        \"\"\"\n",
    "            Used for grading.\n",
    "            print(\"Num clusters: {:d}\\n\".format(k))\n",
    "            print(\"Silhouette score: {:.4f}\\n\\n\".format(silhouette_score))\n",
    "            for each cluster and centroid:\n",
    "                print(np.array2string(centroid,precision=4,separator=\",\"))\n",
    "                print(\"{:d}\\n\".format(size of cluster))\n",
    "        \"\"\"\n",
    "\n",
    "        print(\"Num clusters: {:d}\\n\".format(self.centroids.shape[0]))\n",
    "        print(\"Silhouette score: {:.4f}\\n\\n\".format(self.silhouette_score_))\n",
    "        for i in range(self.centroids.shape[0]):\n",
    "            centroid = self.centroids[i, :]\n",
    "            print(np.array2string(centroid,precision=4,separator=\",\"))\n",
    "            n_samples_cluster = len(np.where(self.labels_ == i)[0])\n",
    "            print(\"{:d}\\n\".format(n_samples_cluster))"
   ]
  },
  {
   "cell_type": "markdown",
   "metadata": {
    "id": "KibCIXIThpbE"
   },
   "source": [
    "### 1.2.2 Debug \n",
    "\n",
    "Debug your model by running it on the [Debug Dataset](https://raw.githubusercontent.com/cs472ta/CS472/master/datasets/abalone.arff)\n",
    "\n",
    "\n",
    "- Train until convergence\n",
    "- Make sure to include the output class (last column) as an additional input feature\n",
    "- Normalize Data\n",
    "- K = 5\n",
    "- Use the first k instances as the initial centroids\n",
    "- Use 4 decimal places and DO NOT ROUND when reporting silhouette score and centroid values\n",
    "\n",
    "\n",
    "\n",
    "\n",
    "---\n",
    "Solutions in files:\n",
    "\n",
    "[Debug K Means (Silhouette).txt](https://raw.githubusercontent.com/cs472ta/CS472/master/debug_solutions/Debug%20K%20Means%20%28Silhouette%29.txt)"
   ]
  },
  {
   "cell_type": "code",
   "execution_count": 116,
   "metadata": {
    "id": "KgAyy82gixIF"
   },
   "outputs": [
    {
     "name": "stdout",
     "output_type": "stream",
     "text": [
      "Num clusters: 5\n",
      "\n",
      "Silhouette score: 0.3845\n",
      "\n",
      "\n",
      "[0.7325,0.7327,0.627 ,0.3817,0.3633,0.4045,0.3046,0.4839]\n",
      "75\n",
      "\n",
      "[0.3704,0.3519,0.2686,0.0926,0.0935,0.094 ,0.0792,0.218 ]\n",
      "34\n",
      "\n",
      "[0.9035,0.905 ,0.7774,0.6579,0.5767,0.6193,0.5893,0.7279]\n",
      "24\n",
      "\n",
      "[0.5692,0.5628,0.4376,0.211 ,0.2113,0.2248,0.1659,0.317 ]\n",
      "54\n",
      "\n",
      "[0.1296,0.1037,0.1053,0.0177,0.0211,0.0272,0.0135,0.0724]\n",
      "13\n",
      "\n"
     ]
    }
   ],
   "source": [
    "# Debug Here\n",
    "dbDF = load_data(\"datasets/abalone.arff\")\n",
    "\n",
    "X_db = dbDF.iloc[:, :-1].to_numpy()\n",
    "y_db = dbDF.iloc[:, -1].to_numpy()\n",
    "\n",
    "X_db = normalize(X_db)\n",
    "y_db = normalize(y_db)\n",
    "\n",
    "# Train on debug data\n",
    "kmeans = KMEANSClustering(k=5)\n",
    "kmeans.fit(X_db, y_db)\n",
    "\n",
    "# Print clusters\n",
    "kmeans.print_clusters()"
   ]
  },
  {
   "cell_type": "markdown",
   "metadata": {
    "id": "kY3VNB1ui03N"
   },
   "source": [
    "### 1.2.3 Evaluation\n",
    "\n",
    "We will evaluate your model based on its print_clusters() output using [Evaluation Dataset](https://raw.githubusercontent.com/cs472ta/CS472/master/datasets/seismic-bumps_train.arff)\n",
    "- Train until convergence\n",
    "- Make sure to include the output class (last column) as an additional input feature\n",
    "- Normalize Data\n",
    "- K = 5\n",
    "- Use the first k instances as the initial centroids\n",
    "- Use 4 decimal places and DO NOT ROUND when reporting silhouette score and centroid values"
   ]
  },
  {
   "cell_type": "code",
   "execution_count": 117,
   "metadata": {
    "id": "2yAxA78QjDh2"
   },
   "outputs": [
    {
     "data": {
      "text/html": [
       "<div>\n",
       "<style scoped>\n",
       "    .dataframe tbody tr th:only-of-type {\n",
       "        vertical-align: middle;\n",
       "    }\n",
       "\n",
       "    .dataframe tbody tr th {\n",
       "        vertical-align: top;\n",
       "    }\n",
       "\n",
       "    .dataframe thead th {\n",
       "        text-align: right;\n",
       "    }\n",
       "</style>\n",
       "<table border=\"1\" class=\"dataframe\">\n",
       "  <thead>\n",
       "    <tr style=\"text-align: right;\">\n",
       "      <th></th>\n",
       "      <th>V1</th>\n",
       "      <th>V2</th>\n",
       "      <th>V3</th>\n",
       "      <th>V4</th>\n",
       "      <th>V5</th>\n",
       "      <th>V6</th>\n",
       "      <th>V7</th>\n",
       "      <th>Class</th>\n",
       "    </tr>\n",
       "  </thead>\n",
       "  <tbody>\n",
       "    <tr>\n",
       "      <th>0</th>\n",
       "      <td>15.26</td>\n",
       "      <td>14.84</td>\n",
       "      <td>0.8710</td>\n",
       "      <td>5.763</td>\n",
       "      <td>3.312</td>\n",
       "      <td>2.221</td>\n",
       "      <td>5.220</td>\n",
       "      <td>1</td>\n",
       "    </tr>\n",
       "    <tr>\n",
       "      <th>1</th>\n",
       "      <td>14.88</td>\n",
       "      <td>14.57</td>\n",
       "      <td>0.8811</td>\n",
       "      <td>5.554</td>\n",
       "      <td>3.333</td>\n",
       "      <td>1.018</td>\n",
       "      <td>4.956</td>\n",
       "      <td>1</td>\n",
       "    </tr>\n",
       "  </tbody>\n",
       "</table>\n",
       "</div>"
      ],
      "text/plain": [
       "      V1     V2      V3     V4     V5     V6     V7 Class\n",
       "0  15.26  14.84  0.8710  5.763  3.312  2.221  5.220     1\n",
       "1  14.88  14.57  0.8811  5.554  3.333  1.018  4.956     1"
      ]
     },
     "metadata": {},
     "output_type": "display_data"
    },
    {
     "data": {
      "text/html": [
       "<div>\n",
       "<style scoped>\n",
       "    .dataframe tbody tr th:only-of-type {\n",
       "        vertical-align: middle;\n",
       "    }\n",
       "\n",
       "    .dataframe tbody tr th {\n",
       "        vertical-align: top;\n",
       "    }\n",
       "\n",
       "    .dataframe thead th {\n",
       "        text-align: right;\n",
       "    }\n",
       "</style>\n",
       "<table border=\"1\" class=\"dataframe\">\n",
       "  <thead>\n",
       "    <tr style=\"text-align: right;\">\n",
       "      <th></th>\n",
       "      <th>V1</th>\n",
       "      <th>V2</th>\n",
       "      <th>V3</th>\n",
       "      <th>V4</th>\n",
       "      <th>V5</th>\n",
       "      <th>V6</th>\n",
       "      <th>V7</th>\n",
       "      <th>Class</th>\n",
       "    </tr>\n",
       "  </thead>\n",
       "  <tbody>\n",
       "    <tr>\n",
       "      <th>138</th>\n",
       "      <td>15.60</td>\n",
       "      <td>15.11</td>\n",
       "      <td>0.858</td>\n",
       "      <td>5.832</td>\n",
       "      <td>3.286</td>\n",
       "      <td>2.725</td>\n",
       "      <td>5.752</td>\n",
       "      <td>2</td>\n",
       "    </tr>\n",
       "    <tr>\n",
       "      <th>139</th>\n",
       "      <td>16.23</td>\n",
       "      <td>15.18</td>\n",
       "      <td>0.885</td>\n",
       "      <td>5.872</td>\n",
       "      <td>3.472</td>\n",
       "      <td>3.769</td>\n",
       "      <td>5.922</td>\n",
       "      <td>2</td>\n",
       "    </tr>\n",
       "  </tbody>\n",
       "</table>\n",
       "</div>"
      ],
      "text/plain": [
       "        V1     V2     V3     V4     V5     V6     V7 Class\n",
       "138  15.60  15.11  0.858  5.832  3.286  2.725  5.752     2\n",
       "139  16.23  15.18  0.885  5.872  3.472  3.769  5.922     2"
      ]
     },
     "metadata": {},
     "output_type": "display_data"
    },
    {
     "name": "stdout",
     "output_type": "stream",
     "text": [
      "Num clusters: 5\n",
      "\n",
      "Silhouette score: 0.2769\n",
      "\n",
      "\n",
      "[0.5349,0.6013,0.4617,0.5541,0.5232,0.5544,0.6248,1.    ]\n",
      "22\n",
      "\n",
      "[0.3684,0.4338,0.4356,0.4388,0.3573,0.2988,0.3673,0.    ]\n",
      "31\n",
      "\n",
      "[0.3658,0.3854,0.7563,0.3093,0.4659,0.3691,0.2413,0.    ]\n",
      "20\n",
      "\n",
      "[0.1634,0.2137,0.3968,0.2178,0.1555,0.3078,0.1775,0.    ]\n",
      "19\n",
      "\n",
      "[0.7961,0.831 ,0.6054,0.7709,0.7802,0.4553,0.7919,1.    ]\n",
      "48\n",
      "\n"
     ]
    }
   ],
   "source": [
    "# Load evaluation data\n",
    "evalDF = load_data(\"datasets/seismic-bumps_train.arff\")\n",
    "display(evalDF.head(2))\n",
    "display(evalDF.tail(2))\n",
    "\n",
    "evalDF['Class'] = evalDF['Class'].astype(float)\n",
    "\n",
    "X_eval = evalDF.iloc[:, :-1].to_numpy()\n",
    "y_eval = evalDF.iloc[:, -1].to_numpy()\n",
    "\n",
    "X_eval = normalize(X_eval)\n",
    "y_eval = normalize(y_eval)\n",
    "\n",
    "# Train on evaluation data\n",
    "kmeans = KMEANSClustering(k=5)\n",
    "kmeans.fit(X_eval, y_eval)\n",
    "\n",
    "# Print clusters\n",
    "kmeans.print_clusters()"
   ]
  },
  {
   "cell_type": "markdown",
   "metadata": {
    "id": "9vWiTdlbR2Xh"
   },
   "source": [
    "## 2.1.1 (7.5%) Clustering the Iris Classification problem - HAC\n",
    "\n",
    "Load the Iris Dataset [Iris Dataset](https://raw.githubusercontent.com/cs472ta/CS472/master/datasets/iris.arff)\n",
    "\n",
    "- Use single-link and complete link clustering algorithms\n",
    "- State whether you normalize your data or not (your choice).  \n",
    "- Show your results for clusterings using k = 2-7.  \n",
    "- Graph the silhouette score for each k and discuss your results (i.e. what kind of clusters are being made).\n",
    "---"
   ]
  },
  {
   "cell_type": "code",
   "execution_count": 188,
   "metadata": {
    "id": "4SSoasDQSKXb"
   },
   "outputs": [
    {
     "data": {
      "text/html": [
       "<div>\n",
       "<style scoped>\n",
       "    .dataframe tbody tr th:only-of-type {\n",
       "        vertical-align: middle;\n",
       "    }\n",
       "\n",
       "    .dataframe tbody tr th {\n",
       "        vertical-align: top;\n",
       "    }\n",
       "\n",
       "    .dataframe thead th {\n",
       "        text-align: right;\n",
       "    }\n",
       "</style>\n",
       "<table border=\"1\" class=\"dataframe\">\n",
       "  <thead>\n",
       "    <tr style=\"text-align: right;\">\n",
       "      <th></th>\n",
       "      <th>sepallength</th>\n",
       "      <th>sepalwidth</th>\n",
       "      <th>petallength</th>\n",
       "      <th>petalwidth</th>\n",
       "      <th>class</th>\n",
       "    </tr>\n",
       "  </thead>\n",
       "  <tbody>\n",
       "    <tr>\n",
       "      <th>0</th>\n",
       "      <td>5.1</td>\n",
       "      <td>3.5</td>\n",
       "      <td>1.4</td>\n",
       "      <td>0.2</td>\n",
       "      <td>Iris-setosa</td>\n",
       "    </tr>\n",
       "    <tr>\n",
       "      <th>1</th>\n",
       "      <td>4.9</td>\n",
       "      <td>3.0</td>\n",
       "      <td>1.4</td>\n",
       "      <td>0.2</td>\n",
       "      <td>Iris-setosa</td>\n",
       "    </tr>\n",
       "  </tbody>\n",
       "</table>\n",
       "</div>"
      ],
      "text/plain": [
       "   sepallength  sepalwidth  petallength  petalwidth        class\n",
       "0          5.1         3.5          1.4         0.2  Iris-setosa\n",
       "1          4.9         3.0          1.4         0.2  Iris-setosa"
      ]
     },
     "metadata": {},
     "output_type": "display_data"
    },
    {
     "data": {
      "text/html": [
       "<div>\n",
       "<style scoped>\n",
       "    .dataframe tbody tr th:only-of-type {\n",
       "        vertical-align: middle;\n",
       "    }\n",
       "\n",
       "    .dataframe tbody tr th {\n",
       "        vertical-align: top;\n",
       "    }\n",
       "\n",
       "    .dataframe thead th {\n",
       "        text-align: right;\n",
       "    }\n",
       "</style>\n",
       "<table border=\"1\" class=\"dataframe\">\n",
       "  <thead>\n",
       "    <tr style=\"text-align: right;\">\n",
       "      <th></th>\n",
       "      <th>sepallength</th>\n",
       "      <th>sepalwidth</th>\n",
       "      <th>petallength</th>\n",
       "      <th>petalwidth</th>\n",
       "      <th>class</th>\n",
       "    </tr>\n",
       "  </thead>\n",
       "  <tbody>\n",
       "    <tr>\n",
       "      <th>148</th>\n",
       "      <td>6.2</td>\n",
       "      <td>3.4</td>\n",
       "      <td>5.4</td>\n",
       "      <td>2.3</td>\n",
       "      <td>Iris-virginica</td>\n",
       "    </tr>\n",
       "    <tr>\n",
       "      <th>149</th>\n",
       "      <td>5.9</td>\n",
       "      <td>3.0</td>\n",
       "      <td>5.1</td>\n",
       "      <td>1.8</td>\n",
       "      <td>Iris-virginica</td>\n",
       "    </tr>\n",
       "  </tbody>\n",
       "</table>\n",
       "</div>"
      ],
      "text/plain": [
       "     sepallength  sepalwidth  petallength  petalwidth           class\n",
       "148          6.2         3.4          5.4         2.3  Iris-virginica\n",
       "149          5.9         3.0          5.1         1.8  Iris-virginica"
      ]
     },
     "metadata": {},
     "output_type": "display_data"
    },
    {
     "name": "stdout",
     "output_type": "stream",
     "text": [
      "sepallength    float64\n",
      "sepalwidth     float64\n",
      "petallength    float64\n",
      "petalwidth     float64\n",
      "class            int32\n",
      "dtype: object\n",
      "(200, 7)\n",
      "(200,)\n"
     ]
    }
   ],
   "source": [
    "# Load Iris dataset\n",
    "from sklearn.preprocessing import LabelEncoder\n",
    "\n",
    "irisDF = load_data(\"datasets/iris.arff\")\n",
    "display(irisDF.head(2))\n",
    "display(irisDF.tail(2))\n",
    "\n",
    "le = LabelEncoder()\n",
    "irisDF['class'] = le.fit_transform(irisDF['class'])\n",
    "print(irisDF.dtypes)\n",
    "\n",
    "X_iris = dbDF.iloc[:, :-1].to_numpy() # We will only be using X_iris for training\n",
    "y_iris = dbDF.iloc[:, -1].to_numpy()\n",
    "\n",
    "print(X_iris.shape)\n",
    "print(y_iris.shape)\n",
    "\n",
    "X_iris = normalize(X_iris)\n",
    "y_iris = normalize(y_iris)\n",
    "\n",
    "iris_ks = np.arange(2, 8)\n"
   ]
  },
  {
   "cell_type": "code",
   "execution_count": 119,
   "metadata": {},
   "outputs": [
    {
     "name": "stdout",
     "output_type": "stream",
     "text": [
      "Computing hac 2\n",
      "Computing hac 3\n",
      "Computing hac 4\n",
      "Computing hac 5\n",
      "Computing hac 6\n",
      "Computing hac 7\n"
     ]
    }
   ],
   "source": [
    "# Iris Classification using single-link\n",
    "single_sil_scores = []\n",
    "for k in iris_ks:\n",
    "    print('Computing hac %d' % k)\n",
    "    hac = HACClustering(k=k, link_type='single')\n",
    "    hac.fit(X_iris)\n",
    "    single_sil_scores.append(hac.silhouette_score_)"
   ]
  },
  {
   "cell_type": "code",
   "execution_count": 96,
   "metadata": {},
   "outputs": [
    {
     "name": "stdout",
     "output_type": "stream",
     "text": [
      "Computing hac 2\n",
      "Computing hac 3\n",
      "Computing hac 4\n",
      "Computing hac 5\n",
      "Computing hac 6\n",
      "Computing hac 7\n"
     ]
    }
   ],
   "source": [
    "# Iris Classification using complete-link\n",
    "complete_sil_scores = []\n",
    "for k in iris_ks:\n",
    "    print('Computing hac %d' % k)\n",
    "    hac = HACClustering(k=k, link_type='complete')\n",
    "    hac.fit(X_iris)\n",
    "    complete_sil_scores.append(hac.silhouette_score_)"
   ]
  },
  {
   "cell_type": "code",
   "execution_count": 120,
   "metadata": {},
   "outputs": [
    {
     "data": {
      "image/png": "[encoded data removed]",
      "text/plain": [
       "<Figure size 432x288 with 1 Axes>"
      ]
     },
     "metadata": {
      "needs_background": "light"
     },
     "output_type": "display_data"
    }
   ],
   "source": [
    "# Graph results\n",
    "plt.plot(iris_ks, single_sil_scores, label='Single Link')\n",
    "plt.plot(iris_ks, complete_sil_scores, label='Complete Link')\n",
    "plt.title('Iris HAC Clustering w/out Output Label Silhouette Scores vs K')\n",
    "plt.xlabel('K')\n",
    "plt.ylabel('Silhouette Score')\n",
    "plt.legend()\n",
    "plt.show()"
   ]
  },
  {
   "cell_type": "markdown",
   "metadata": {},
   "source": [
    "Discuss differences between single-link and complete-link"
   ]
  },
  {
   "cell_type": "markdown",
   "metadata": {},
   "source": [
    "## 2.1.2 (5%) Clustering the Iris Classification problem - HAC\n",
    "\n",
    "Requirements:\n",
    "- Repeat excercise 2.1.1 and include the output label as one of the input features."
   ]
  },
  {
   "cell_type": "code",
   "execution_count": 99,
   "metadata": {},
   "outputs": [
    {
     "name": "stdout",
     "output_type": "stream",
     "text": [
      "Computing hac 2\n",
      "Computing hac 3\n",
      "Computing hac 4\n",
      "Computing hac 5\n",
      "Computing hac 6\n",
      "Computing hac 7\n"
     ]
    }
   ],
   "source": [
    "# Iris Classification using single-link\n",
    "single_sil_scores_w_output = []\n",
    "for k in iris_ks:\n",
    "    print('Computing hac %d' % k)\n",
    "    hac = HACClustering(k=k, link_type='single')\n",
    "    hac.fit(X_iris, y_iris)\n",
    "    single_sil_scores_w_output.append(hac.silhouette_score_)"
   ]
  },
  {
   "cell_type": "code",
   "execution_count": 101,
   "metadata": {},
   "outputs": [
    {
     "name": "stdout",
     "output_type": "stream",
     "text": [
      "Computing hac 2\n",
      "Computing hac 3\n",
      "Computing hac 4\n",
      "Computing hac 5\n",
      "Computing hac 6\n",
      "Computing hac 7\n"
     ]
    }
   ],
   "source": [
    "# Iris Classification using complete-link\n",
    "complete_sil_scores_w_out = []\n",
    "for k in iris_ks:\n",
    "    print('Computing hac %d' % k)\n",
    "    hac = HACClustering(k=k, link_type='complete')\n",
    "    hac.fit(X_iris, y_iris)\n",
    "    complete_sil_scores_w_out.append(hac.silhouette_score_)"
   ]
  },
  {
   "cell_type": "code",
   "execution_count": 121,
   "metadata": {},
   "outputs": [
    {
     "data": {
      "image/png": "[encoded data removed]",
      "text/plain": [
       "<Figure size 432x288 with 1 Axes>"
      ]
     },
     "metadata": {
      "needs_background": "light"
     },
     "output_type": "display_data"
    }
   ],
   "source": [
    "# Graph results\n",
    "plt.plot(iris_ks, single_sil_scores_w_output, label='Single Link')\n",
    "plt.plot(iris_ks, complete_sil_scores_w_out, label='Complete Link')\n",
    "plt.title('Iris HAC Clustering w/ Output Label Silhouette Scores vs K')\n",
    "plt.xlabel('K')\n",
    "plt.ylabel('Silhouette Score')\n",
    "plt.legend()\n",
    "plt.show()"
   ]
  },
  {
   "cell_type": "markdown",
   "metadata": {},
   "source": [
    "Discuss any differences between the results from 2.1.1 and 2.1.2."
   ]
  },
  {
   "cell_type": "markdown",
   "metadata": {
    "id": "9vWiTdlbR2Xh"
   },
   "source": [
    "## 2.2.1 (7.5%) Clustering the Iris Classification problem: K-Means\n",
    "\n",
    "Load the Iris Dataset [Iris Dataset](https://raw.githubusercontent.com/cs472ta/CS472/master/datasets/iris.arff)\n",
    "\n",
    "Run K-Means on the Iris dataset using the output label as a feature and without using the output label as a feature\n",
    "\n",
    "Requirements:\n",
    "- State whether you normalize your data or not (your choice).  \n",
    "- Show your results for clusterings using k = 2-7.  \n",
    "- Graph the silhouette score for each k and discuss your results (i.e. what kind of clusters are being made).\n",
    "---"
   ]
  },
  {
   "cell_type": "code",
   "execution_count": 123,
   "metadata": {},
   "outputs": [
    {
     "name": "stdout",
     "output_type": "stream",
     "text": [
      "Computing kmeans 2\n",
      "Computing kmeans 3\n",
      "Computing kmeans 4\n",
      "Computing kmeans 5\n",
      "Computing kmeans 6\n",
      "Computing kmeans 7\n"
     ]
    }
   ],
   "source": [
    "# Iris Classification without output label\n",
    "kmeans_sil_scores = []\n",
    "for k in iris_ks:\n",
    "    print('Computing kmeans %d' % k)\n",
    "    kmeans = KMEANSClustering(k=k)\n",
    "    kmeans.fit(X_iris)\n",
    "    kmeans_sil_scores.append(kmeans.silhouette_score_)"
   ]
  },
  {
   "cell_type": "code",
   "execution_count": 124,
   "metadata": {
    "id": "4SSoasDQSKXb"
   },
   "outputs": [
    {
     "name": "stdout",
     "output_type": "stream",
     "text": [
      "Computing kmeans 2\n",
      "Computing kmeans 3\n",
      "Computing kmeans 4\n",
      "Computing kmeans 5\n",
      "Computing kmeans 6\n",
      "Computing kmeans 7\n"
     ]
    }
   ],
   "source": [
    "# Iris Classification with output label\n",
    "kmeans_sil_scores_w_output = []\n",
    "for k in iris_ks:\n",
    "    print('Computing kmeans %d' % k)\n",
    "    kmeans = KMEANSClustering(k=k)\n",
    "    kmeans.fit(X_iris, y_iris)\n",
    "    kmeans_sil_scores_w_output.append(kmeans.silhouette_score_)"
   ]
  },
  {
   "cell_type": "code",
   "execution_count": 125,
   "metadata": {},
   "outputs": [
    {
     "data": {
      "image/png": "[encoded data removed]",
      "text/plain": [
       "<Figure size 432x288 with 1 Axes>"
      ]
     },
     "metadata": {
      "needs_background": "light"
     },
     "output_type": "display_data"
    }
   ],
   "source": [
    "# Graph results\n",
    "plt.plot(iris_ks, kmeans_sil_scores, label='Without Output Label')\n",
    "plt.plot(iris_ks, kmeans_sil_scores_w_output, label='With Output Label')\n",
    "plt.title('Iris KMeans Clustering Silhouette Scores vs K')\n",
    "plt.xlabel('K')\n",
    "plt.ylabel('Silhouette Score')\n",
    "plt.legend()\n",
    "plt.show()"
   ]
  },
  {
   "cell_type": "markdown",
   "metadata": {},
   "source": [
    "Compare results and differences between using the output label and excluding the output label"
   ]
  },
  {
   "cell_type": "markdown",
   "metadata": {},
   "source": [
    "## 2.2.2 (5%) Clustering the Iris Classification problem: K-Means\n",
    "\n",
    "Requirements:\n",
    "- Use the output label as an input feature\n",
    "- Run K-Means 5 times with k=4, each time with different initial random centroids and discuss any variations in the results. "
   ]
  },
  {
   "cell_type": "code",
   "execution_count": 192,
   "metadata": {},
   "outputs": [
    {
     "name": "stdout",
     "output_type": "stream",
     "text": [
      "Computing kmeans 0\n",
      "Computing kmeans 1\n",
      "Computing kmeans 2\n",
      "Computing kmeans 3\n",
      "Computing kmeans 4\n",
      "Computing kmeans 5\n"
     ]
    },
    {
     "data": {
      "image/png": "[encoded data removed]",
      "text/plain": [
       "<Figure size 432x288 with 1 Axes>"
      ]
     },
     "metadata": {
      "needs_background": "light"
     },
     "output_type": "display_data"
    }
   ],
   "source": [
    "#K-Means 5 times\n",
    "kmeans_rand_cent_sil_scores = []\n",
    "trials = np.arange(0, 6)\n",
    "for trial in trials:\n",
    "    print('Computing kmeans %d' % trial)\n",
    "    kmeans = KMEANSClustering(k=4, random_centroids=True)\n",
    "    kmeans.fit(X_iris, y_iris)\n",
    "    kmeans_rand_cent_sil_scores.append(kmeans.silhouette_score_)\n",
    "\n",
    "plt.bar(trials, kmeans_rand_cent_sil_scores)\n",
    "plt.title(\"KMeans Clustering on Iris Dataset with Random Centroids\")\n",
    "plt.xlabel(\"Trial\")\n",
    "plt.ylabel(\"Silhouette Score\")\n",
    "plt.show()"
   ]
  },
  {
   "cell_type": "markdown",
   "metadata": {},
   "source": [
    "Discuss any variations in the results"
   ]
  },
  {
   "cell_type": "markdown",
   "metadata": {
    "id": "oBBmeNQ7jvcQ"
   },
   "source": [
    "## 3.1 (12.5%) Run the SK versions of HAC (both single and complete link) on iris including the output label and compare your results with those above.\n",
    "Use the silhouette score for this iris problem(k = 2-7).  You may write your own code to do silhouette (optional extra credit) or you can use sklearn.metrics.silhouette_score. Please state if you coded your own silhouette score function to receive the extra credit points (described below). Discuss how helpful Silhouette appeared to be for selecting which clustering is best. You do not need to supply full Silhouette graphs, but you could if you wanted to.\n",
    "\n",
    "Requirements\n",
    "- Use the Sillhouette score for this iris problem (k= 2-7) \n",
    "- Use at least one other scoring function from [sklearn.metrics](https://scikit-learn.org/stable/modules/model_evaluation.html) and compare the results. State which metric was used. \n",
    "- Possible sklean metrics include (* metrics require ground truth labels):\n",
    "    - adjusted_mutual_info_score*\n",
    "    - adjusted_rand_score*\n",
    "    - homogeneity_score*\n",
    "    - completeness_score*\n",
    "    - fowlkes_mallows_score*\n",
    "    - calinski_harabasz_score\n",
    "    - davies_bouldin_score\n",
    "- Experiment using different hyper-parameters. Discuss Results"
   ]
  },
  {
   "cell_type": "code",
   "execution_count": null,
   "metadata": {
    "id": "OFQv70W2VyqJ"
   },
   "outputs": [],
   "source": [
    "# Load sklearn\n",
    "\n"
   ]
  },
  {
   "cell_type": "markdown",
   "metadata": {
    "id": "BqSFAXwlk3Ms"
   },
   "source": [
    "*Record impressions*"
   ]
  },
  {
   "cell_type": "markdown",
   "metadata": {
    "id": "oBBmeNQ7jvcQ"
   },
   "source": [
    "## 3.2 (12.5%) Run the SK version of k-means on iris including the output label and compare your results with those above. \n",
    "\n",
    "Use the silhouette score for this iris problem(k = 2-7). You may write your own code to do silhouette (optional extra credit) or you can use sklearn.metrics.silhouette_score. Please state if you coded your own silhouette score function to receive the extra credit points (described below). Discuss how helpful Silhouette appeared to be for selecting which clustering is best. You do not need to supply full Silhouette graphs, but you could if you wanted to.\n",
    "\n",
    "Requirements\n",
    "- Use the Sillhouette score for this iris problem (k= 2-7) \n",
    "- Use at least one other scoring function form sklearn.metrics and compare the results. State which metric was used\n",
    "- Experiment different hyper-parameters. Discuss Results"
   ]
  },
  {
   "cell_type": "code",
   "execution_count": null,
   "metadata": {
    "id": "OFQv70W2VyqJ"
   },
   "outputs": [],
   "source": [
    "# Load sklearn \n",
    "\n"
   ]
  },
  {
   "cell_type": "markdown",
   "metadata": {
    "id": "BqSFAXwlk3Ms"
   },
   "source": [
    "*Record impressions*"
   ]
  },
  {
   "cell_type": "markdown",
   "metadata": {
    "id": "cTlK-kijk8Mg"
   },
   "source": [
    "## 4. (Optional 5% extra credit) For your silhouette experiment above, write and use your own code to calculate the silhouette scores, rather than the SK or other version. \n"
   ]
  },
  {
   "cell_type": "markdown",
   "metadata": {
    "id": "BqSFAXwlk3Ms"
   },
   "source": [
    "*Show findings here*"
   ]
  },
  {
   "cell_type": "code",
   "execution_count": null,
   "metadata": {},
   "outputs": [],
   "source": [
    "# Copy function Below"
   ]
  }
 ],
 "metadata": {
  "colab": {
   "collapsed_sections": [],
   "name": "lab 1 - perceptron",
   "provenance": []
  },
  "interpreter": {
   "hash": "6b2efc4b102cc6878f14c71b1b299607eba1e6d0bb881d7beb2f5cad1213cf03"
  },
  "kernelspec": {
   "display_name": "Python 3.8.11 64-bit ('general': conda)",
   "name": "python3"
  },
  "language_info": {
   "codemirror_mode": {
    "name": "ipython",
    "version": 3
   },
   "file_extension": ".py",
   "mimetype": "text/x-python",
   "name": "python",
   "nbconvert_exporter": "python",
   "pygments_lexer": "ipython3",
   "version": "3.8.11"
  }
 },
 "nbformat": 4,
 "nbformat_minor": 4
}
